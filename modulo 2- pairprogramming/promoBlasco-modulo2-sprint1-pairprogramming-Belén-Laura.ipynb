{
 "cells": [
  {
   "cell_type": "markdown",
   "metadata": {},
   "source": [
    "# Ejercicios\n",
    "\n",
    "1.  Utilizando la API de Balldontlie extrae la siguiente información. \n",
    "\n",
    "    - El nombre, apellido y equipo de cada uno de los jugadores que tenemos en la NBA. Para eso tendrás que usar el [siguiente](https://www.balldontlie.io/home.html#players) endpoint. Extrae información de 200 jugadores. Devuelve los resultados en un DataFrame. Te deberá quedar algo parecido a esto:\n",
    "\n",
    "        ![jugadores](https://github.com/Adalab/data_imagenes/blob/main/Modulo-2/api's_clase_invertida_jugadores.png?raw=true)\n",
    "\n",
    "\n",
    "    - Extrae información de todos los partidos jugados, en concreto deberás sacar la información del nombre del equipo local, nombre del equipo visitante, puntos del equipo local y del visitante y la temporada a la que pertenece el partido. Para eso tendrás que usar el [siguiente](https://www.balldontlie.io/home.html#get-all-games) endpoint. Extrae la información de 200 partidos. Devuelve los resultados en un DataFrame. Te deberá quedar algo parecido a esto: \n",
    "\n",
    "        ![partidos](https://github.com/Adalab/data_imagenes/blob/main/Modulo-2/api's_clase_invertida_partidos.png?raw=true)\n"
   ]
  },
  {
   "cell_type": "code",
   "execution_count": 1,
   "metadata": {},
   "outputs": [
    {
     "name": "stdout",
     "output_type": "stream",
     "text": [
      "['Alex', 'Jaylen', 'Steven', 'Bam', 'DeVaughn', 'LaMarcus', 'Rawle', 'Grayson', 'Jarrett', 'Al-Farouq', 'Justin', 'Kyle', 'Ryan', 'Ike', 'Giannis', 'Kostas', 'Carmelo', 'OG', 'Ryan', 'Trevor', 'D.J.', 'Deandre', 'Dwayne', 'Marvin', 'Ron', 'Wade', 'Lonzo', 'Mo', 'J.J.', 'Harrison', 'Will', 'Keita', 'Nicolas', 'Jerryd', 'Aron', 'Kent', 'Bradley', 'Malik', 'Michael', 'Marco', 'Jordan', \"DeAndre'\", 'Dragan', 'Davis', 'Patrick', 'Khem', 'Jabari', 'Bismack', 'Nemanja', 'Antonio', 'Eric', 'Trevon', 'Bogdan', 'Bojan', 'Jonah', 'Isaac', 'Devin', 'Chris', 'Avery', 'Tony', 'Mikal', 'Miles', 'Isaiah', 'Ryan', 'Malcolm', 'Dillon', 'MarShon', 'Troy', 'Bruce', 'Jaylen', 'Lorenzo', 'Sterling', 'Jalen', 'Thomas', 'Reggie', 'Trey', 'Alec', 'Deonte', 'Jimmy', 'Jose', 'Kentavious', 'Isaiah', 'Clint', 'DeMarre', 'Wendell', 'Michael', 'Jevon', 'Vince', 'Alex', 'Omri', 'Willie', 'Troy', 'Tyler', 'Tyson', 'Wilson', 'Joe', 'Marquese', 'Gary', 'Ian', 'Jordan', 'Alex', 'Jaylen', 'Steven', 'Bam', 'DeVaughn', 'LaMarcus', 'Rawle', 'Grayson', 'Jarrett', 'Al-Farouq', 'Justin', 'Kyle', 'Ryan', 'Ike', 'Giannis', 'Kostas', 'Carmelo', 'OG', 'Ryan', 'Trevor', 'D.J.', 'Deandre', 'Dwayne', 'Marvin', 'Ron', 'Wade', 'Lonzo', 'Mo', 'J.J.', 'Harrison', 'Will', 'Keita', 'Nicolas', 'Jerryd', 'Aron', 'Kent', 'Bradley', 'Malik', 'Michael', 'Marco', 'Jordan', \"DeAndre'\", 'Dragan', 'Davis', 'Patrick', 'Khem', 'Jabari', 'Bismack', 'Nemanja', 'Antonio', 'Eric', 'Trevon', 'Bogdan', 'Bojan', 'Jonah', 'Isaac', 'Devin', 'Chris', 'Avery', 'Tony', 'Mikal', 'Miles', 'Isaiah', 'Ryan', 'Malcolm', 'Dillon', 'MarShon', 'Troy', 'Bruce', 'Jaylen', 'Lorenzo', 'Sterling', 'Jalen', 'Thomas', 'Reggie', 'Trey', 'Alec', 'Deonte', 'Jimmy', 'Jose', 'Kentavious', 'Isaiah', 'Clint', 'DeMarre', 'Wendell', 'Michael', 'Jevon', 'Vince', 'Alex', 'Omri', 'Willie', 'Troy', 'Tyler', 'Tyson', 'Wilson', 'Joe', 'Marquese', 'Gary', 'Ian', 'Jordan']\n",
      "['Abrines', 'Adams', 'Adams', 'Adebayo', 'Akoon-Purcell', 'Aldridge', 'Alkins', 'Allen', 'Allen', 'Aminu', 'Anderson', 'Anderson', 'Anderson', 'Anigbogu', 'Antetokounmpo', 'Antetokounmpo', 'Anthony', 'Anunoby', 'Arcidiacono', 'Ariza', 'Augustin', 'Ayton', 'Bacon', 'Bagley III', 'Baker', 'Baldwin IV', 'Ball', 'Bamba', 'Barea', 'Barnes', 'Barton', 'Bates-Diop', 'Batum', 'Bayless', 'Baynes', 'Bazemore', 'Beal', 'Beasley', 'Beasley', 'Belinelli', 'Bell', 'Bembry', 'Bender', 'Bertans', 'Beverley', 'Birch', 'Bird', 'Biyombo', 'Bjelica', 'Blakeney', 'Bledsoe', 'Bluiett', 'Bogdanovic', 'Bogdanovic', 'Bolden', 'Bonga', 'Booker', 'Boucher', 'Bradley', 'Bradley', 'Bridges', 'Bridges', 'Briscoe', 'Broekhoff', 'Brogdon', 'Brooks', 'Brooks', 'Brown Jr.', 'Brown', 'Brown', 'Brown', 'Brown', 'Brunson', 'Bryant', 'Bullock', 'Burke', 'Burks', 'Burton', 'Butler', 'Calderon', 'Caldwell-Pope', 'Canaan', 'Capela', 'Carroll', 'Carter Jr.', 'Carter-Williams', 'Carter', 'Carter', 'Caruso', 'Casspi', 'Cauley-Stein', 'Caupain', 'Cavanaugh', 'Chandler', 'Chandler', 'Chealey', 'Chriss', 'Clark', 'Clark', 'Clarkson', 'Abrines', 'Adams', 'Adams', 'Adebayo', 'Akoon-Purcell', 'Aldridge', 'Alkins', 'Allen', 'Allen', 'Aminu', 'Anderson', 'Anderson', 'Anderson', 'Anigbogu', 'Antetokounmpo', 'Antetokounmpo', 'Anthony', 'Anunoby', 'Arcidiacono', 'Ariza', 'Augustin', 'Ayton', 'Bacon', 'Bagley III', 'Baker', 'Baldwin IV', 'Ball', 'Bamba', 'Barea', 'Barnes', 'Barton', 'Bates-Diop', 'Batum', 'Bayless', 'Baynes', 'Bazemore', 'Beal', 'Beasley', 'Beasley', 'Belinelli', 'Bell', 'Bembry', 'Bender', 'Bertans', 'Beverley', 'Birch', 'Bird', 'Biyombo', 'Bjelica', 'Blakeney', 'Bledsoe', 'Bluiett', 'Bogdanovic', 'Bogdanovic', 'Bolden', 'Bonga', 'Booker', 'Boucher', 'Bradley', 'Bradley', 'Bridges', 'Bridges', 'Briscoe', 'Broekhoff', 'Brogdon', 'Brooks', 'Brooks', 'Brown Jr.', 'Brown', 'Brown', 'Brown', 'Brown', 'Brunson', 'Bryant', 'Bullock', 'Burke', 'Burks', 'Burton', 'Butler', 'Calderon', 'Caldwell-Pope', 'Canaan', 'Capela', 'Carroll', 'Carter Jr.', 'Carter-Williams', 'Carter', 'Carter', 'Caruso', 'Casspi', 'Cauley-Stein', 'Caupain', 'Cavanaugh', 'Chandler', 'Chandler', 'Chealey', 'Chriss', 'Clark', 'Clark', 'Clarkson']\n",
      "['Oklahoma City Thunder', 'Atlanta Hawks', 'Houston Rockets', 'Miami Heat', 'Denver Nuggets', 'Brooklyn Nets', 'Chicago Bulls', 'Phoenix Suns', 'Cleveland Cavaliers', 'Portland Trail Blazers', 'Indiana Pacers', 'Minnesota Timberwolves', 'New Orleans Pelicans', 'Indiana Pacers', 'Milwaukee Bucks', 'Chicago Bulls', 'Los Angeles Lakers', 'New York Knicks', 'New York Knicks', 'Los Angeles Lakers', 'Los Angeles Lakers', 'Portland Trail Blazers', 'Los Angeles Lakers', 'Washington Wizards', 'New York Knicks', 'Memphis Grizzlies', 'Chicago Bulls', 'Philadelphia 76ers', 'Dallas Mavericks', 'Sacramento Kings', 'Toronto Raptors', 'Brooklyn Nets', 'Philadelphia 76ers', 'Milwaukee Bucks', 'Detroit Pistons', 'Sacramento Kings', 'Phoenix Suns', 'Milwaukee Bucks', 'Miami Heat', 'San Antonio Spurs', 'Chicago Bulls', 'Milwaukee Bucks', 'Phoenix Suns', 'Charlotte Hornets', 'Milwaukee Bucks', 'San Antonio Spurs', 'Boston Celtics', 'Oklahoma City Thunder', 'Golden State Warriors', 'Chicago Bulls', 'Portland Trail Blazers', 'Utah Jazz', 'Atlanta Hawks', 'New York Knicks', 'Philadelphia 76ers', 'Toronto Raptors', 'Phoenix Suns', 'Toronto Raptors', 'Los Angeles Lakers', 'Chicago Bulls', 'Brooklyn Nets', 'Charlotte Hornets', 'Orlando Magic', 'Dallas Mavericks', 'Portland Trail Blazers', 'Houston Rockets', 'Brooklyn Nets', 'Detroit Pistons', 'Toronto Raptors', 'Boston Celtics', 'Toronto Raptors', 'Los Angeles Lakers', 'New York Knicks', 'Miami Heat', 'Houston Rockets', 'Dallas Mavericks', 'New York Knicks', 'Oklahoma City Thunder', 'Miami Heat', 'Toronto Raptors', 'Denver Nuggets', 'Philadelphia 76ers', 'Atlanta Hawks', 'Atlanta Hawks', 'Orlando Magic', 'Orlando Magic', 'Chicago Bulls', 'Toronto Raptors', 'Chicago Bulls', 'Sacramento Kings', 'Philadelphia 76ers', 'Orlando Magic', 'Atlanta Hawks', 'New York Knicks', 'Denver Nuggets', 'Charlotte Hornets', 'Dallas Mavericks', 'New Orleans Pelicans', 'Golden State Warriors', 'Utah Jazz', 'Oklahoma City Thunder', 'Atlanta Hawks', 'Houston Rockets', 'Miami Heat', 'Denver Nuggets', 'Brooklyn Nets', 'Chicago Bulls', 'Phoenix Suns', 'Cleveland Cavaliers', 'Portland Trail Blazers', 'Indiana Pacers', 'Minnesota Timberwolves', 'New Orleans Pelicans', 'Indiana Pacers', 'Milwaukee Bucks', 'Chicago Bulls', 'Los Angeles Lakers', 'New York Knicks', 'New York Knicks', 'Los Angeles Lakers', 'Los Angeles Lakers', 'Portland Trail Blazers', 'Los Angeles Lakers', 'Washington Wizards', 'New York Knicks', 'Memphis Grizzlies', 'Chicago Bulls', 'Philadelphia 76ers', 'Dallas Mavericks', 'Sacramento Kings', 'Toronto Raptors', 'Brooklyn Nets', 'Philadelphia 76ers', 'Milwaukee Bucks', 'Detroit Pistons', 'Sacramento Kings', 'Phoenix Suns', 'Milwaukee Bucks', 'Miami Heat', 'San Antonio Spurs', 'Chicago Bulls', 'Milwaukee Bucks', 'Phoenix Suns', 'Charlotte Hornets', 'Milwaukee Bucks', 'San Antonio Spurs', 'Boston Celtics', 'Oklahoma City Thunder', 'Golden State Warriors', 'Chicago Bulls', 'Portland Trail Blazers', 'Utah Jazz', 'Atlanta Hawks', 'New York Knicks', 'Philadelphia 76ers', 'Toronto Raptors', 'Phoenix Suns', 'Toronto Raptors', 'Los Angeles Lakers', 'Chicago Bulls', 'Brooklyn Nets', 'Charlotte Hornets', 'Orlando Magic', 'Dallas Mavericks', 'Portland Trail Blazers', 'Houston Rockets', 'Brooklyn Nets', 'Detroit Pistons', 'Toronto Raptors', 'Boston Celtics', 'Toronto Raptors', 'Los Angeles Lakers', 'New York Knicks', 'Miami Heat', 'Houston Rockets', 'Dallas Mavericks', 'New York Knicks', 'Oklahoma City Thunder', 'Miami Heat', 'Toronto Raptors', 'Denver Nuggets', 'Philadelphia 76ers', 'Atlanta Hawks', 'Atlanta Hawks', 'Orlando Magic', 'Orlando Magic', 'Chicago Bulls', 'Toronto Raptors', 'Chicago Bulls', 'Sacramento Kings', 'Philadelphia 76ers', 'Orlando Magic', 'Atlanta Hawks', 'New York Knicks', 'Denver Nuggets', 'Charlotte Hornets', 'Dallas Mavericks', 'New Orleans Pelicans', 'Golden State Warriors', 'Utah Jazz']\n",
      "      Nombres      Apellidos                Equipos\n",
      "0        Alex        Abrines  Oklahoma City Thunder\n",
      "1      Jaylen          Adams          Atlanta Hawks\n",
      "2      Steven          Adams        Houston Rockets\n",
      "3         Bam        Adebayo             Miami Heat\n",
      "4    DeVaughn  Akoon-Purcell         Denver Nuggets\n",
      "..        ...            ...                    ...\n",
      "195       Joe        Chealey      Charlotte Hornets\n",
      "196  Marquese         Chriss       Dallas Mavericks\n",
      "197      Gary          Clark   New Orleans Pelicans\n",
      "198       Ian          Clark  Golden State Warriors\n",
      "199    Jordan       Clarkson              Utah Jazz\n",
      "\n",
      "[200 rows x 3 columns]\n"
     ]
    }
   ],
   "source": [
    "# hay que añadir ?per_page=100\n",
    "import requests\n",
    "import pandas as pd\n",
    "pd.set_option('display.max_columns', None) # para poder visualizar todas las columnas de los DataFrames\n",
    "id = 0\n",
    "llamada_players = requests.get(f\"http://api.balldontlie.io/v1/players/?per_page=100\", headers = {'Authorization': \"d1bfcca9-5efe-4086-9c5d-90731d9bc68c\"} )\n",
    "llamada_players.status_code\n",
    "jugador = llamada_players.json()\n",
    "\n",
    "nombre = []\n",
    "apellido = []\n",
    "equipo = []\n",
    "\n",
    "for elemento in jugador[\"data\"]:\n",
    "    nombre.append(elemento[\"first_name\"])\n",
    "    apellido.append(elemento[\"last_name\"])\n",
    "    equipo.append(elemento[\"team\"][\"full_name\"])\n",
    "    \n",
    "\n",
    "llamada_players = requests.get(f\"http://api.balldontlie.io/v1/players/?per_page=100/?next_cursor\", headers = {'Authorization': \"d1bfcca9-5efe-4086-9c5d-90731d9bc68c\"} )\n",
    "\n",
    "for elemento in jugador[\"data\"]:\n",
    "    nombre.append(elemento[\"first_name\"])\n",
    "    apellido.append(elemento[\"last_name\"])\n",
    "    equipo.append(elemento[\"team\"][\"full_name\"])\n",
    "    \n",
    "print(nombre)\n",
    "print(apellido)\n",
    "print(equipo)\n",
    "\n",
    "datos_jugadores = {\"Nombres\": nombre, \"Apellidos\": apellido, \"Equipos\":equipo}\n",
    "data_frame = pd.DataFrame(datos_jugadores)\n",
    "\n",
    "print(data_frame)\n",
    "\n",
    "\n"
   ]
  },
  {
   "cell_type": "markdown",
   "metadata": {},
   "source": [
    "## DUDA!!!!!"
   ]
  },
  {
   "cell_type": "code",
   "execution_count": 2,
   "metadata": {},
   "outputs": [
    {
     "data": {
      "text/plain": [
       "('Alex',\n",
       " 'Abrines',\n",
       " {'id': 21,\n",
       "  'conference': 'West',\n",
       "  'division': 'Northwest',\n",
       "  'city': 'Oklahoma City',\n",
       "  'name': 'Thunder',\n",
       "  'full_name': 'Oklahoma City Thunder',\n",
       "  'abbreviation': 'OKC'})"
      ]
     },
     "execution_count": 2,
     "metadata": {},
     "output_type": "execute_result"
    }
   ],
   "source": [
    "jugador[\"data\"][0][\"first_name\"],jugador[\"data\"][0][\"last_name\"],jugador[\"data\"][0][\"team\"]"
   ]
  },
  {
   "cell_type": "code",
   "execution_count": 11,
   "metadata": {},
   "outputs": [
    {
     "data": {
      "text/plain": [
       "{'data': [], 'meta': {'next_cursor': 874030, 'per_page': 100}}"
      ]
     },
     "execution_count": 11,
     "metadata": {},
     "output_type": "execute_result"
    }
   ],
   "source": [
    "partidos = {\"equipo_local\": [], \"equipo_visitante\": [], \"puntos_local\": [], \"puntos_visitante\": [], \"temporada\": []}\n",
    "\n",
    "res_partidos = requests.get(f\"http://api.balldontlie.io/v1/games/?per_page=100\", headers = {'Authorization': \"d1bfcca9-5efe-4086-9c5d-90731d9bc68c\"} )\n",
    "res_partidos.status_code\n",
    "res_partidos.json()\n",
    "\n",
    "#for pagina in range(1, 3):\n",
    "        \n",
    "    #res_partidos = requests.get(f\"https://www.balldontlie.io/api/v1/games?per_page=100?page=100\")\n",
    "    #res_partidos = res_partidos.json()\n",
    "\n",
    "    \n",
    "    #for partido in res_partidos[\"data\"]:\n",
    "        #partidos[\"equipo_local\"].append(partido[\"home_team\"][\"full_name\"])\n",
    "        #partidos[\"equipo_visitante\"].append(partido[\"visitor_team\"][\"full_name\"])\n",
    "        #partidos[\"puntos_local\"].append(partido[\"home_team_score\"])  \n",
    "        #partidos[\"puntos_visitante\"].append(partido[\"visitor_team_score\"])   \n",
    "        #partidos[\"temporada\"].append(partido[\"season\"]) \n",
    "\n",
    "#df_partidos = pd.DataFrame(partidos)\n",
    "#df_partidos"
   ]
  }
 ],
 "metadata": {
  "kernelspec": {
   "display_name": "Python 3",
   "language": "python",
   "name": "python3"
  },
  "language_info": {
   "codemirror_mode": {
    "name": "ipython",
    "version": 3
   },
   "file_extension": ".py",
   "mimetype": "text/x-python",
   "name": "python",
   "nbconvert_exporter": "python",
   "pygments_lexer": "ipython3",
   "version": "3.11.9"
  }
 },
 "nbformat": 4,
 "nbformat_minor": 2
}
