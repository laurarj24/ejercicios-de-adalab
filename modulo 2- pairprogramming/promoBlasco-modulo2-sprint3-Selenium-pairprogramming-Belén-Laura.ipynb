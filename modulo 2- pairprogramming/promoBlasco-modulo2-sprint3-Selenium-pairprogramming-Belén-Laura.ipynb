{
 "cells": [
  {
   "cell_type": "markdown",
   "metadata": {},
   "source": [
    "# Ejercicios\n",
    "Escribe un script en Python utilizando Selenium que realice las siguientes tareas en la página web del Decathlon:\n",
    "\n",
    "1. Abra una el navegador y maximice la ventana.\n",
    "\n",
    "2. Acceda al sitio web de Decathlon en la URL \"https://www.decathlon.es/\".\n",
    "\n",
    "3. Haga clic en el botón \"Aceptar\" en la notificación de cookies utilizando su selector CSS.\n",
    "\n",
    "4. Solicite al usuario que ingrese una búsqueda (por ejemplo, un producto deportivo) mediante una entrada de texto.\n",
    "\n",
    "5. Utilice el texto ingresado para buscar productos en el sitio web de Decathlon y presione la tecla \"Enter\" para iniciar la búsqueda.\n",
    "\n",
    "6. Inicialice un diccionario llamado `diccionario_resultados` con tres listas vacías: \"nombre\", \"precio\" y \"puntuación\".\n",
    "\n",
    "7. Itere sobre los primeros 5 resultados de la búsqueda y realice las siguientes acciones:\n",
    "\n",
    "    a. Haga clic en un resultado específico.\n",
    "    b. Recopile el nombre del producto, el precio y la puntuación del producto y almacénelos en las listas correspondientes en el diccionario `diccionario_resultados`.\n",
    "\n",
    "    c. Navegue de regreso a los resultados de búsqueda.\n",
    "\n",
    "8. Cierre el navegador Chrome.\n",
    "\n",
    "El resultado final debería ser un diccionario con información sobre los primeros 5 productos encontrados durante la búsqueda en el sitio web de Decathlon, incluyendo el nombre del producto, el precio y la puntuación. Muestralo en un DataFrame similar al ves a continuación: \n",
    "\n",
    "| nombre                                             | precio    | puntuacion |\n",
    "|----------------------------------------------------|-----------|------------|\n",
    "| Camiseta Real Madrid Local Adulto Temporada 23/24  | 99,99 €   | 5/5        |\n",
    "| Camiseta térmica interior de esquí y nieve Muj... | 6,99 €    | 4.7/5      |\n",
    "| Camiseta running térmica transpirable Mujer Ki... | 19,99 €   | 4.8/5      |\n",
    "| Camiseta térmica running Mujer negra              | 14,99 €   | 4.7/5      |\n",
    "| Camiseta de fútbol Adulto Kipsta F100 roja         | 5,99 €    | 4.5/5      |\n",
    "\n"
   ]
  },
  {
   "cell_type": "code",
   "execution_count": 7,
   "metadata": {},
   "outputs": [],
   "source": [
    "# Importar librerías para tratamiento de datos\n",
    "# -----------------------------------------------------------------------\n",
    "import pandas as pd  # Pandas es una poderosa librería para manipulación y análisis de datos en Python.\n",
    "\n",
    "# Importar librerías para web scraping y manipulación de datos\n",
    "# -----------------------------------------------------------------------\n",
    "from bs4 import BeautifulSoup\n",
    "import requests\n",
    "\n",
    "# Importar librerías para automatización de navegadores web con Selenium\n",
    "# -----------------------------------------------------------------------\n",
    "from selenium import webdriver  # Selenium es una herramienta para automatizar la interacción con navegadores web.\n",
    "from webdriver_manager.chrome import ChromeDriverManager  # ChromeDriverManager gestiona la instalación del controlador de Chrome.\n",
    "from selenium.webdriver.common.keys import Keys  # Keys es útil para simular eventos de teclado en Selenium.\n",
    "from selenium.webdriver.support.ui import Select  # Select se utiliza para interactuar con elementos <select> en páginas web.\n",
    "\n",
    "# Importar librerías para pausar la ejecución\n",
    "# -----------------------------------------------------------------------\n",
    "from time import sleep  # Sleep se utiliza para pausar la ejecución del programa por un número de segundos.\n",
    "\n",
    "# Configuraciones\n",
    "# -----------------------------------------------------------------------\n",
    "pd.set_option('display.max_columns', None)  # Establece una opción de Pandas para mostrar todas las columnas de un DataFrame."
   ]
  },
  {
   "cell_type": "code",
   "execution_count": 6,
   "metadata": {},
   "outputs": [
    {
     "name": "stdout",
     "output_type": "stream",
     "text": [
      "Abrimos página web\n",
      "Rechazamos cookies\n",
      "preguntamos al usuario\n",
      "{'nombre': ['Patines Línea Niños Oxelo Play 5 Menta', 'Patines 4 Ruedas Niños Oxelo Quad 100 Blanco', 'Patines Línea Adulto Oxelo Fitness FIT100 Negro', 'Patines Línea Niños Oxelo Roller Fitness Fit 3 Gris Claro', 'Patines Línea Niños Oxelo Roller Fitness Fit 5 Caqui'], 'precio': ['34,99 €', '54,99 €', '54,99 €', '49,99 €', '59,99 €'], 'puntuacion': ['4.8/5', '4.8/5', '4.5/5', '4.8/5', '4.8/5']}\n"
     ]
    }
   ],
   "source": [
    "driver = webdriver.Chrome()\n",
    "url = \"https://www.decathlon.es/es/\"\n",
    "print(\"Abrimos página web\")\n",
    "driver.get(url)\n",
    "sleep(3)\n",
    "driver.find_element(\"css selector\",\"#didomi-popup > div > div > div > span\").click()\n",
    "print(\"Rechazamos cookies\")\n",
    "sleep(3)\n",
    "driver.find_element(\"css selector\", \"#search-bar > div > form > input\").send_keys(input(\"Introduzca el artículo que desea revisar\"),Keys.ENTER)\n",
    "print(\"preguntamos al usuario\")\n",
    "sleep(5)\n",
    "\n",
    "diccionario_resultados = {\"nombre\": [], \"precio\": [], \"puntuacion\":[]}\n",
    "\n",
    "\n",
    "\n",
    "for child in range(1,6):\n",
    "    driver.find_element(\"css selector\",f\"#app > main > div.list-body.svelte-duar7s > section.listing-section.svelte-duar7s > div > div:nth-child({child}) > div.product-block-top-main.vtmn-relative.vtmn-flex.vtmn-flex-col.vtmn-w-full.vtmn-items-start > div.dpb-models.vtmn-relative.vtmn-self-center.svelte-1ambt2m > div > a > img\").click()\n",
    "    sleep(2)\n",
    "    diccionario_resultados[\"nombre\"].append(driver.find_element(\"css selector\", \"#app > main > article > div.vtmn-relative.vtmn-z-\\[2\\] > section > h1\").text)\n",
    "    diccionario_resultados[\"precio\"].append(driver.find_element(\"css selector\", \"#app > main > article > div.vtmn-relative.vtmn-z-\\[2\\] > section > div.price-presentation.vtmn-flex.vtmn-flex-col.vtmn-items-start.vtmn-leading-tight.vtmn-mt-2.svelte-1wujduz > div > div > div > span\").text)\n",
    "    try:\n",
    "        diccionario_resultados[\"puntuacion\"].append(driver.find_element(\"xpath\",'//*[@id=\"app\"]/main/article/div[2]/section/div[2]/div/button/div/span[6]').text)\n",
    "    except:\n",
    "        diccionario_resultados[\"puntuacion\"].append(driver.find_element(\"xpath\",'//*[@id=\"app\"]/main/article/div[2]/section/div[3]/div/button/div/span[6]').text)\n",
    "    driver.back()\n",
    "\n",
    "#for child in range (1,6):\n",
    "    #driver.find_element(\"css selector\", f\"#app > main > div.list-body.svelte-duar7s > section.listing-section.svelte-duar7s > div > div:nth-child({child}) > a > span\")\n",
    "print(diccionario_resultados)\n",
    "#app > main > div.list-body.svelte-duar7s > section.listing-section.svelte-duar7s > div > div:nth-child(1) > a > span\n",
    "driver.close()"
   ]
  },
  {
   "cell_type": "code",
   "execution_count": 4,
   "metadata": {},
   "outputs": [
    {
     "name": "stdout",
     "output_type": "stream",
     "text": [
      "                                              nombre   precio puntuacion\n",
      "0             Patines Línea Niños Oxelo Play 5 Menta  34,99 €      4.8/5\n",
      "1       Patines 4 Ruedas Niños Oxelo Quad 100 Blanco  54,99 €      4.8/5\n",
      "2    Patines Línea Adulto Oxelo Fitness FIT100 Negro  54,99 €      4.5/5\n",
      "3  Patines Línea Niños Oxelo Roller Fitness Fit 3...  49,99 €      4.8/5\n",
      "4  Patines Línea Niños Oxelo Roller Fitness Fit 5...  59,99 €      4.8/5\n"
     ]
    }
   ],
   "source": [
    "tabla = pd.DataFrame(diccionario_resultados)\n",
    "print(tabla)"
   ]
  }
 ],
 "metadata": {
  "kernelspec": {
   "display_name": "Python 3",
   "language": "python",
   "name": "python3"
  },
  "language_info": {
   "codemirror_mode": {
    "name": "ipython",
    "version": 3
   },
   "file_extension": ".py",
   "mimetype": "text/x-python",
   "name": "python",
   "nbconvert_exporter": "python",
   "pygments_lexer": "ipython3",
   "version": "3.11.9"
  }
 },
 "nbformat": 4,
 "nbformat_minor": 2
}
