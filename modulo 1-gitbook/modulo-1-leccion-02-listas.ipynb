{
 "cells": [
  {
   "cell_type": "markdown",
   "metadata": {
    "id": "5PcBreuKcX1-"
   },
   "source": [
    "\n",
    "\n",
    "---\n",
    "\n",
    "\n",
    "# Ejercicios:\n",
    "\n",
    "- Definir listas\n",
    "\n",
    "  1. Haz una lista llamada `colores` donde almacenemos los primeros 6 colores que te vengan a la mente.\n",
    "\n",
    "  2. Haz una lista llamada `buses` de las líneas de autobuses que pasan por tu casa.\n",
    "\n",
    "  3. Apunta la previsión de temperaturas máximas para todos los días de esta semana en `temperaturas`"
   ]
  },
  {
   "cell_type": "code",
   "execution_count": 21,
   "metadata": {
    "id": "Z5I4yJpqcX2F"
   },
   "outputs": [],
   "source": [
    "# DEFINIR LISTAS\n",
    "\n",
    "# Ejercicio 1\n",
    "\n",
    "colores = [\"azul\", \"rojo\", \"verde\", \"amarillo\", \"blanco\", \"negro\"]\n",
    "\n",
    "# Ejercicio 2\n",
    "\n",
    "buses = [102, 144, 111]\n",
    "\n",
    "# Ejercicio 3\n",
    "\n",
    "temperaturas = [19.0, 22.0, 24.0, 26.0, 28.0, 29.0, 30.0]"
   ]
  },
  {
   "cell_type": "markdown",
   "metadata": {
    "id": "ntgVqLZhcIBJ"
   },
   "source": [
    "- Convertir a listas\n",
    "\n",
    "  4. Convierte tu(s) nombre(s) a una lista `nombres` de caracteres.\n",
    "  \n",
    "  5. Convierte tu(s) apellido(s) a una lista `apellidos` de caracteres."
   ]
  },
  {
   "cell_type": "code",
   "execution_count": 22,
   "metadata": {},
   "outputs": [
    {
     "name": "stdout",
     "output_type": "stream",
     "text": [
      "['L', 'a', 'u', 'r', 'a']\n",
      "['R', 'o', 'm', 'e', 'r', 'o', ' ', 'J', 'i', 'm', 'é', 'n', 'e', 'z']\n"
     ]
    }
   ],
   "source": [
    "# CONVERTIR A LISTAS\n",
    "\n",
    "# Ejercicio 4\n",
    "\n",
    "nombre = \"Laura\"\n",
    "\n",
    "nombre = list(nombre)\n",
    "\n",
    "print(nombre)\n",
    "\n",
    "# Ejercicio 5\n",
    "\n",
    "apellidos = \"Romero Jiménez\"\n",
    "\n",
    "apellidos = list(apellidos)\n",
    "\n",
    "print(apellidos)\n"
   ]
  },
  {
   "cell_type": "markdown",
   "metadata": {},
   "source": [
    "- Usar `len()`, `min()`, y `max()`\n",
    "\n",
    "  6. ¿Cuántos búses pasan por tu casa?\n",
    "\n",
    "  7. ¿Cuántos caracteres hay en tu apellido(s) (inluyendo los espacios)?\n",
    "\n",
    "  8. ¿Cuáles son las temperaturas máximas (`t_max`) y mínimas (`t_min`) para esta semana"
   ]
  },
  {
   "cell_type": "code",
   "execution_count": null,
   "metadata": {},
   "outputs": [
    {
     "name": "stdout",
     "output_type": "stream",
     "text": [
      "3\n",
      "14\n",
      "19.0\n",
      "30.0\n"
     ]
    }
   ],
   "source": [
    "# USAR LEN, MIN, y MAX\n",
    "\n",
    "# Ejercicio 6\n",
    "\n",
    "print(len(buses))\n",
    "\n",
    "# Ejercicio 7\n",
    "\n",
    "print(len(apellidos))\n",
    "\n",
    "# Ejercicio 8\n",
    "\n",
    "print(min(temperaturas))\n",
    "print(max(temperaturas))\n"
   ]
  },
  {
   "cell_type": "markdown",
   "metadata": {},
   "source": [
    "- Usar `in`, `not in`\n",
    "\n",
    "  9. Hay una 'e' en tu nombre?\n",
    "\n",
    "  10. Tienes el color 'rosa' en la lista de colores?\n",
    "  \n",
    "  11. ¿Tiene una 'x' tu nombre? (Usa `not in`)"
   ]
  },
  {
   "cell_type": "code",
   "execution_count": 24,
   "metadata": {},
   "outputs": [
    {
     "name": "stdout",
     "output_type": "stream",
     "text": [
      "False\n",
      "False\n",
      "True\n"
     ]
    }
   ],
   "source": [
    "# USAR IN, NOT IN\n",
    "\n",
    "# Ejercicio 9\n",
    "\n",
    "print(\"e\" in nombre)\n",
    "\n",
    "# Ejercicio 10\n",
    "\n",
    "print(\"rosa\" in colores)\n",
    "\n",
    "# Ejercicio 11\n",
    "\n",
    "print(\"x\" not in nombre)\n",
    "  \n"
   ]
  },
  {
   "cell_type": "markdown",
   "metadata": {},
   "source": [
    "- Hacer copias y borrar sus contenidos\n",
    "\n",
    "  12. Copia el contenido de `temperaturas` a `temperaturas2`, y `temperaturas3`.\n",
    "\n",
    "  13. Vacía el contenido de la variable `temperaturas2`\n",
    "\n",
    "  14. Imprime el contenido de `temperaturas` y `temperaturas2`.\n",
    "\n",
    "  15. Copia el contenido de `nombres` a `nombres2`.\n",
    "\n",
    "  16. Copia el contenido de `apellidos` a `apellidos2`."
   ]
  },
  {
   "cell_type": "code",
   "execution_count": 25,
   "metadata": {},
   "outputs": [
    {
     "name": "stdout",
     "output_type": "stream",
     "text": [
      "[19.0, 22.0, 24.0, 26.0, 28.0, 29.0, 30.0]\n",
      "[]\n"
     ]
    }
   ],
   "source": [
    "# HACER COPIAS Y BORRAR SUS CONTENIDOS\n",
    "\n",
    "# Ejercicio 12\n",
    "\n",
    "temperaturas2 = temperaturas.copy()\n",
    "temperaturas3 = temperaturas.copy()\n",
    "\n",
    "# Ejercicio 13\n",
    "\n",
    "temperaturas2.clear()\n",
    "\n",
    "# Ejercicio 14\n",
    "\n",
    "print(temperaturas)\n",
    "print(temperaturas2)\n",
    "\n",
    "# Ejercicio 15\n",
    "\n",
    "nombres2 = nombre.copy()\n",
    "\n",
    "# Ejercicio 16 \n",
    "\n",
    "apellidos2 = apellidos.copy()\n",
    "\n"
   ]
  },
  {
   "cell_type": "markdown",
   "metadata": {},
   "source": [
    "- Cambiar el orden de los contenidos\n",
    "\n",
    "  17. Ordena la variable `temperaturas3` de mayor a menor.\n",
    "\n",
    "  18. Ordena los caracteres de tu nombre y tu apellido en las listas `nombres2` y `apellidos2`. Imprime el resultado y investiga: ¿qué orden ha cogido? ¿Cómo trata las mayúsculas?"
   ]
  },
  {
   "cell_type": "code",
   "execution_count": 26,
   "metadata": {},
   "outputs": [
    {
     "name": "stdout",
     "output_type": "stream",
     "text": [
      "[30.0, 29.0, 28.0, 26.0, 24.0, 22.0, 19.0]\n",
      "['L', 'a', 'a', 'r', 'u']\n",
      "[' ', 'J', 'R', 'e', 'e', 'i', 'm', 'm', 'n', 'o', 'o', 'r', 'z', 'é']\n"
     ]
    }
   ],
   "source": [
    "# CAMBIAR EL ORDEN DE LOS CONTENIDOS\n",
    "\n",
    "# Ejercicio 17 \n",
    "\n",
    "temperaturas3.sort(reverse=True)\n",
    "print(temperaturas3)\n",
    "\n",
    "# Ejercicio 18\n",
    "nombres2.sort()\n",
    "apellidos2.sort()\n",
    "\n",
    "print(nombres2)\n",
    "print(apellidos2)\n",
    "\n",
    "# La función sort en el caso de strings, pone en primer lugar espacios, en segundo mayusculas en orden alfabético y, por último, minúsculas en orden alfabético"
   ]
  },
  {
   "cell_type": "markdown",
   "metadata": {},
   "source": [
    "- Contar duplicados\n",
    "\n",
    "  19. ¿Cuántas 'a' tiene tu nombre? ¿Y cuántas 'o'?\n",
    "\n",
    "  20. Verifica si los resultados de ejercicio 19 son iguales para la lista `nombres2`.\n",
    "\n",
    "  21. ¿Cuántas veces esta semana llega la temperatura a la `t_max`? ¿Y cuántas a la `t_min`?"
   ]
  },
  {
   "cell_type": "code",
   "execution_count": 27,
   "metadata": {},
   "outputs": [
    {
     "name": "stdout",
     "output_type": "stream",
     "text": [
      "2\n",
      "0\n",
      "True\n",
      "True\n",
      "1\n",
      "1\n"
     ]
    }
   ],
   "source": [
    "# CONTAR DUPLICADOS\n",
    "\n",
    "# Ejercicio 19\n",
    "\n",
    "print(nombre.count(\"a\"))\n",
    "print(nombre.count(\"o\"))\n",
    "\n",
    "# Ejercicio 20 \n",
    "\n",
    "print(nombres2.count(\"a\") == nombre.count(\"a\"))\n",
    "print(nombres2.count(\"o\") == nombre.count(\"o\"))\n",
    "\n",
    "# Ejercicio 21 \n",
    "\n",
    "temperatura_maxima = max(temperaturas)\n",
    "print(temperaturas.count(temperatura_maxima))\n",
    "\n",
    "temperatura_minima = min(temperaturas)\n",
    "print(temperaturas.count(temperatura_minima))\n",
    "\n"
   ]
  },
  {
   "cell_type": "markdown",
   "metadata": {},
   "source": [
    "\n",
    "\n",
    "- Definir otra lista\n",
    "\n",
    "  22. La lista dias_en contiene 'monday', 'tuesday', 'wednesday', 'thursday', 'friday', 'saturday', y 'sunday'.\n",
    "\n",
    "  23. Define temperaturas_diciembre 👇🏽:\n",
    "    ```python\n",
    "\n",
    "      temperaturas_diciembre = [10, 10, 13, 14, 12, 15, \n",
    "                            12, 11, 13, 17, 18, 15, \n",
    "                            15, 17, 17, 13, 13, 11,\n",
    "                            12, 10, 12, 14, 12, 12,\n",
    "                            11, 12, 16, 16, 14, 17, 18]\n",
    "\n",
    "    ```\n"
   ]
  },
  {
   "cell_type": "code",
   "execution_count": 28,
   "metadata": {},
   "outputs": [],
   "source": [
    "# DEFINIR OTRA LISTA\n",
    "\n",
    "# Ejercicio 22\n",
    "\n",
    "dias_en = [\"monday\", \"tuesday\", \"wednesday\", \"thursday\", \"friday\", \"saturday\", \"sunday\"]\n",
    "\n",
    "# Ejercicios 23 \n",
    "\n",
    "temperaturas_diciembre = [10, 10, 13, 14, 12, 15, 12, 11, 13, 17, 18, 15, 15, 17, 17, 13, 13, 11, 12, 10, 12, 14, 12, 12, 11, 12, 16, 16, 14, 17, 18]\n",
    "\n"
   ]
  },
  {
   "cell_type": "markdown",
   "metadata": {},
   "source": [
    "- Indexación de listas\n",
    "\n",
    "  24. ¿Cuál es el penúltimo día de la semana?\n",
    "\n",
    "  25. ¿Cuál es el último elemento de la lista de temperaturas de diciembre? \n",
    "\n",
    "  27. ¿Está 'friday' en la lista de días en inglés? Si está, ¿dónde?\n",
    "\n",
    "  28. ¿Cuál era la temperatura máxima en diciembre?\n",
    "\n",
    "  29. Encuentra el índice de 'miércoles' en dias_es."
   ]
  },
  {
   "cell_type": "code",
   "execution_count": 29,
   "metadata": {},
   "outputs": [
    {
     "name": "stdout",
     "output_type": "stream",
     "text": [
      "True\n",
      "4\n",
      "18\n"
     ]
    },
    {
     "data": {
      "text/plain": [
       "'print(dias_en.index(\"miercoles\")) => Devuelve una excepción porque miercoles no está en la lista, está wednesday'"
      ]
     },
     "execution_count": 29,
     "metadata": {},
     "output_type": "execute_result"
    }
   ],
   "source": [
    "# INDEXACION DE LISTAS\n",
    "\n",
    "# Ejercicio 24\n",
    "\n",
    "dias_en[-2]\n",
    "\n",
    "# Ejercicio 25\n",
    "\n",
    "temperaturas_diciembre[-1]\n",
    "\n",
    "# Ejercicio 26\n",
    "\n",
    "print(\"friday\" in dias_en)\n",
    "\n",
    "# Ejercicio 27\n",
    "\n",
    "print(dias_en.index(\"friday\"))\n",
    "\n",
    "# Ejercicio 28\n",
    "\n",
    "print(max(temperaturas_diciembre))\n",
    "\n",
    "# Ejercicio 29\n",
    "\n",
    "'''print(dias_en.index(\"miercoles\")) => Devuelve una excepción porque miercoles no está en la lista, está wednesday'''\n"
   ]
  },
  {
   "cell_type": "markdown",
   "metadata": {},
   "source": [
    "- Bonus\n",
    "\n",
    "  30. Imprime esta frase en pantalla: 'La temperatura máxima esta semana será 14 ºC, que ocurrirá en 1 días(s). El día más frío tendrá una temperatura máxima de 10 ºC, que ocurrirá en 2 día(s).'"
   ]
  },
  {
   "cell_type": "code",
   "execution_count": 30,
   "metadata": {},
   "outputs": [
    {
     "name": "stdout",
     "output_type": "stream",
     "text": [
      "La temperatura máxima esta semana será 14 ºC, que ocurrirá en 1 días(s). El día más frío tendrá una temperatura máxima de 10 ºC, que ocurrirá en 2 día(s)\n"
     ]
    }
   ],
   "source": [
    "# BONUS\n",
    "\n",
    "print(f\"La temperatura máxima esta semana será 14 ºC, que ocurrirá en 1 días(s). El día más frío tendrá una temperatura máxima de 10 ºC, que ocurrirá en 2 día(s)\")"
   ]
  }
 ],
 "metadata": {
  "interpreter": {
   "hash": "8560ba40f25f8debc3b21cfdc72602d7855270eb253b25380125fbd9b6cd3418"
  },
  "kernelspec": {
   "display_name": "Python 3 (ipykernel)",
   "language": "python",
   "name": "python3"
  },
  "language_info": {
   "codemirror_mode": {
    "name": "ipython",
    "version": 3
   },
   "file_extension": ".py",
   "mimetype": "text/x-python",
   "name": "python",
   "nbconvert_exporter": "python",
   "pygments_lexer": "ipython3",
   "version": "3.11.9"
  },
  "toc": {
   "base_numbering": 1,
   "nav_menu": {},
   "number_sections": true,
   "sideBar": true,
   "skip_h1_title": false,
   "title_cell": "Table of Contents",
   "title_sidebar": "Contents",
   "toc_cell": true,
   "toc_position": {},
   "toc_section_display": true,
   "toc_window_display": true
  }
 },
 "nbformat": 4,
 "nbformat_minor": 2
}
