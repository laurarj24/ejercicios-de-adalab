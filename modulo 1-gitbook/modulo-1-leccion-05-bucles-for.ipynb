{
 "cells": [
  {
   "cell_type": "markdown",
   "metadata": {},
   "source": [
    "# Ejercicios\n",
    "\n",
    "\n",
    "1. Usando la siguiente lista: \n",
    "    ```python\n",
    "    temperaturas = [2,45,67,23, 45,66,12,1,34,67,99,98,67,64, 44, 100]\n",
    "    ```\n",
    "\n",
    "    Crea tres listas nuevas, donde: \n",
    "\n",
    "    - En la primera tengamos temperaturas entre 0 - 10, llama a la nueva lista `bajas_temp`.\n",
    "\n",
    "    - En la segunda tengamos temperaturas entre 11- 20, llama a la nueva lista `medias_temp`.\n",
    "\n",
    "    - En la tercera tengamos temperaturas por encima de 20, llama a la nueva lista `altas_temp`"
   ]
  },
  {
   "cell_type": "code",
   "execution_count": 14,
   "metadata": {},
   "outputs": [
    {
     "name": "stdout",
     "output_type": "stream",
     "text": [
      " BAJAS TEMPERATURAS ====> [2, 1]\n",
      " MEDIAS TEMPERATURAS ====> [12]\n",
      " ALTAS TEMPERATURAS ====> [45, 67, 23, 45, 66, 34, 67, 99, 98, 67, 64, 44, 100]\n"
     ]
    }
   ],
   "source": [
    "temperaturas = [2,45,67,23, 45,66,12,1,34,67,99,98,67,64, 44, 100]\n",
    "\n",
    "bajas_temperaturas = []\n",
    "medias_temperaturas = []\n",
    "altas_temperaturas = []\n",
    "\n",
    "for temperatura in temperaturas:\n",
    "    if temperatura <= 10:\n",
    "        bajas_temperaturas.append(temperatura)\n",
    "    elif 20 >= temperatura > 10:\n",
    "        medias_temperaturas.append(temperatura)\n",
    "    else:\n",
    "        altas_temperaturas.append(temperatura)\n",
    "\n",
    "print(f\" BAJAS TEMPERATURAS ====> {bajas_temperaturas}\")\n",
    "print(f\" MEDIAS TEMPERATURAS ====> {medias_temperaturas}\")\n",
    "print(f\" ALTAS TEMPERATURAS ====> {altas_temperaturas}\")"
   ]
  },
  {
   "cell_type": "markdown",
   "metadata": {},
   "source": [
    "2. Las temperaturas están grados centígrados. Para cada una de las listas creadas en el ejercicio anterior, convertid las temperaturas a grados fahrenheit\n",
    "\n",
    "    ```\n",
    "    # la relacion de grados celsius y fahrenheit es:\n",
    "    (0 °C × 9 / 5) + 32 = 32 °F\n",
    "    ```"
   ]
  },
  {
   "cell_type": "code",
   "execution_count": 17,
   "metadata": {},
   "outputs": [
    {
     "name": "stdout",
     "output_type": "stream",
     "text": [
      "BAJAS TEMPERATURAS EN FAHRENHEIT ===> [35.6, 33.8]\n",
      "BAJAS TEMPERATURAS EN FAHRENHEIT ===> [53.6]\n",
      "BAJAS TEMPERATURAS EN FAHRENHEIT ===> [113.0, 152.6, 73.4, 113.0, 150.8, 93.2, 152.6, 210.2, 208.4, 152.6, 147.2, 111.2, 212.0]\n"
     ]
    }
   ],
   "source": [
    "bajas_temperaturas_fahrenheit = []\n",
    "medias_temperaturas_fahrenheit = []\n",
    "altas_temperaturas_fahrenheit = []\n",
    "\n",
    "for temperatura in bajas_temperaturas:\n",
    "    temperatura_fahrenheit = temperatura *9/5 + 32\n",
    "    bajas_temperaturas_fahrenheit.append(temperatura_fahrenheit)\n",
    "    \n",
    "for temperatura in medias_temperaturas:\n",
    "    temperatura_fahrenheit = temperatura *9/5 + 32\n",
    "    medias_temperaturas_fahrenheit.append(temperatura_fahrenheit)\n",
    "\n",
    "for temperatura in altas_temperaturas:\n",
    "    temperatura_fahrenheit = temperatura *9/5 + 32\n",
    "    altas_temperaturas_fahrenheit.append(temperatura_fahrenheit)\n",
    "    \n",
    "    \n",
    "    \n",
    "print(f\"BAJAS TEMPERATURAS EN FAHRENHEIT ===> {bajas_temperaturas_fahrenheit}\")\n",
    "print(f\"BAJAS TEMPERATURAS EN FAHRENHEIT ===> {medias_temperaturas_fahrenheit}\")\n",
    "print(f\"BAJAS TEMPERATURAS EN FAHRENHEIT ===> {altas_temperaturas_fahrenheit}\")"
   ]
  },
  {
   "cell_type": "markdown",
   "metadata": {},
   "source": [
    "3. Define e imprime un rango de 0 a 6 (excluido)."
   ]
  },
  {
   "cell_type": "code",
   "execution_count": 18,
   "metadata": {},
   "outputs": [
    {
     "name": "stdout",
     "output_type": "stream",
     "text": [
      "0\n",
      "1\n",
      "2\n",
      "3\n",
      "4\n",
      "5\n"
     ]
    }
   ],
   "source": [
    "for i in range(0,6):\n",
    "    print(i)"
   ]
  },
  {
   "cell_type": "markdown",
   "metadata": {},
   "source": [
    "4. Define e imprime un rango de 3 a 6 ambos incluidos."
   ]
  },
  {
   "cell_type": "code",
   "execution_count": 19,
   "metadata": {},
   "outputs": [
    {
     "name": "stdout",
     "output_type": "stream",
     "text": [
      "3\n",
      "4\n",
      "5\n",
      "6\n"
     ]
    }
   ],
   "source": [
    "for i in range (3,7):\n",
    "    print(i)"
   ]
  },
  {
   "cell_type": "markdown",
   "metadata": {},
   "source": [
    "5. Define e imprime un rango de 5 a 9 ambos excluidos."
   ]
  },
  {
   "cell_type": "code",
   "execution_count": 20,
   "metadata": {},
   "outputs": [
    {
     "name": "stdout",
     "output_type": "stream",
     "text": [
      "6\n",
      "7\n",
      "8\n"
     ]
    }
   ],
   "source": [
    "for i in range(6,9):\n",
    "    print(i)"
   ]
  },
  {
   "cell_type": "markdown",
   "metadata": {},
   "source": [
    "6. Define e imprime un rango de 3 números que empiece en 2."
   ]
  },
  {
   "cell_type": "code",
   "execution_count": 21,
   "metadata": {},
   "outputs": [
    {
     "name": "stdout",
     "output_type": "stream",
     "text": [
      "2\n",
      "3\n",
      "4\n"
     ]
    }
   ],
   "source": [
    "for i in range(2,5):\n",
    "    print(i)"
   ]
  },
  {
   "cell_type": "markdown",
   "metadata": {},
   "source": [
    "7. Define e imprime un rango que empiece en 2, aumentando cada paso por 3, que pare antes de llegar al número 13."
   ]
  },
  {
   "cell_type": "code",
   "execution_count": 25,
   "metadata": {},
   "outputs": [
    {
     "name": "stdout",
     "output_type": "stream",
     "text": [
      "2\n",
      "5\n",
      "8\n",
      "11\n"
     ]
    }
   ],
   "source": [
    "for i in range (2,13,3):\n",
    "    print(i)"
   ]
  },
  {
   "cell_type": "markdown",
   "metadata": {},
   "source": [
    "8. Define e imprime un rango con todos los valores impares que hay hasta 10."
   ]
  },
  {
   "cell_type": "code",
   "execution_count": 26,
   "metadata": {},
   "outputs": [
    {
     "name": "stdout",
     "output_type": "stream",
     "text": [
      "1\n",
      "3\n",
      "5\n",
      "7\n",
      "9\n"
     ]
    }
   ],
   "source": [
    "for i in range (1,10,2):\n",
    "    print(i)"
   ]
  },
  {
   "cell_type": "markdown",
   "metadata": {},
   "source": [
    "9. Crea una lista nueva donde tengamos los números de la lista `temperaturas` elevados al cuadrado. "
   ]
  },
  {
   "cell_type": "code",
   "execution_count": 31,
   "metadata": {},
   "outputs": [
    {
     "name": "stdout",
     "output_type": "stream",
     "text": [
      "[4, 2025, 4489, 529, 2025, 4356, 144, 1, 1156, 4489, 9801, 9604, 4489, 4096, 1936, 10000]\n"
     ]
    }
   ],
   "source": [
    "temperaturas_cuadrado = []\n",
    "\n",
    "for temperatura in temperaturas:\n",
    "    temperaturas_cuadrado.append(temperatura **2)\n",
    "    \n",
    "print(temperaturas_cuadrado)"
   ]
  },
  {
   "cell_type": "markdown",
   "metadata": {},
   "source": [
    "10. Crea una lista nueva donde tengamos el resto de la división de cada uno de los números entre 2.  "
   ]
  },
  {
   "cell_type": "code",
   "execution_count": 33,
   "metadata": {},
   "outputs": [
    {
     "data": {
      "text/plain": [
       "[2, 45, 67, 23, 45, 66, 12, 1, 34, 67, 99, 98, 67, 64, 44, 100]"
      ]
     },
     "execution_count": 33,
     "metadata": {},
     "output_type": "execute_result"
    }
   ],
   "source": [
    "temperaturas"
   ]
  },
  {
   "cell_type": "code",
   "execution_count": 34,
   "metadata": {},
   "outputs": [
    {
     "name": "stdout",
     "output_type": "stream",
     "text": [
      "[0, 1, 1, 1, 1, 0, 0, 1, 0, 1, 1, 0, 1, 0, 0, 0]\n"
     ]
    }
   ],
   "source": [
    "temperaturas_resto = [temperatura % 2 for temperatura in temperaturas]\n",
    "\n",
    "print(temperaturas_resto)"
   ]
  },
  {
   "cell_type": "markdown",
   "metadata": {},
   "source": [
    "11. Crea una lista nueva donde tengamos solo los elementos pares de la lista `temperaturas`. "
   ]
  },
  {
   "cell_type": "code",
   "execution_count": 35,
   "metadata": {},
   "outputs": [
    {
     "name": "stdout",
     "output_type": "stream",
     "text": [
      "[2, 66, 12, 34, 98, 64, 44, 100]\n"
     ]
    }
   ],
   "source": [
    "pares = [temperatura for temperatura in temperaturas if temperatura %2 == 0]\n",
    "\n",
    "print(pares)"
   ]
  },
  {
   "cell_type": "markdown",
   "metadata": {},
   "source": [
    "12. Crea una lista nueva donde tengamos solo los elementos que sean menores que 50. "
   ]
  },
  {
   "cell_type": "code",
   "execution_count": 36,
   "metadata": {},
   "outputs": [
    {
     "name": "stdout",
     "output_type": "stream",
     "text": [
      "[2, 45, 23, 45, 12, 1, 34, 44]\n"
     ]
    }
   ],
   "source": [
    "menor_50 = [temperatura for temperatura in temperaturas if temperatura < 50]\n",
    "\n",
    "print(menor_50)"
   ]
  },
  {
   "cell_type": "markdown",
   "metadata": {},
   "source": [
    "13. Crea una lista donde tengamos los valores \"par\" e \"impar\" en función de los valores de la lista original. La lista resultante tiene que ser como la que indicamos a continuación: \n",
    "\n",
    "    ```python\n",
    "    lista_strings = [\"par\",\"impar\",\"impar\",\"impar\", \"impar\",\"par\",\"par\",\"impar\",\"par\",\"impar\",\"impar\",\"par\",\"impar\",\"par\", \"par\", \"par\"]\n",
    "    ```\n"
   ]
  },
  {
   "cell_type": "code",
   "execution_count": 37,
   "metadata": {},
   "outputs": [
    {
     "name": "stdout",
     "output_type": "stream",
     "text": [
      "['par', 'impar', 'impar', 'impar', 'impar', 'par', 'par', 'impar', 'par', 'impar', 'impar', 'par', 'impar', 'par', 'par', 'par']\n"
     ]
    }
   ],
   "source": [
    "lista_strings = []\n",
    "\n",
    "for temperatura in temperaturas:\n",
    "    if temperatura % 2 == 0:\n",
    "        lista_strings.append(\"par\")\n",
    "    else:\n",
    "        lista_strings.append(\"impar\")\n",
    "\n",
    "print(lista_strings)"
   ]
  },
  {
   "cell_type": "markdown",
   "metadata": {},
   "source": [
    "14. Pide al usuario un número entero positivo y suma los números pares e impares por separado hasta ese número.\n"
   ]
  },
  {
   "cell_type": "code",
   "execution_count": 43,
   "metadata": {},
   "outputs": [
    {
     "name": "stdout",
     "output_type": "stream",
     "text": [
      " i ==> 0\n",
      "SUMA PARES ==>> 0\n",
      " i ==> 1\n",
      " SUMA IMPARES ==>> 1\n",
      " i ==> 2\n",
      "SUMA PARES ==>> 2\n",
      " i ==> 3\n",
      " SUMA IMPARES ==>> 4\n",
      " i ==> 4\n",
      "SUMA PARES ==>> 6\n",
      " i ==> 5\n",
      " SUMA IMPARES ==>> 9\n",
      " i ==> 6\n",
      "SUMA PARES ==>> 12\n",
      " i ==> 7\n",
      " SUMA IMPARES ==>> 16\n",
      " i ==> 8\n",
      "SUMA PARES ==>> 20\n",
      " i ==> 9\n",
      " SUMA IMPARES ==>> 25\n",
      "20\n",
      "25\n"
     ]
    }
   ],
   "source": [
    "numero = int(input(\"Dime un número entero positivo\"))\n",
    "suma_pares = 0\n",
    "suma_impares = 0\n",
    "for i in range (0,numero):\n",
    "    print(f\" i ==> {i}\")\n",
    "    if i % 2 == 0:\n",
    "        suma_pares += i \n",
    "        print(f\"SUMA PARES ==>> {suma_pares}\")\n",
    "    else:\n",
    "        suma_impares += i\n",
    "        print(f\" SUMA IMPARES ==>> {suma_impares}\")\n",
    "\n",
    "\n",
    "print(suma_pares)\n",
    "print(suma_impares)"
   ]
  },
  {
   "cell_type": "markdown",
   "metadata": {},
   "source": [
    "15. Pide al usuario ingresar una cadena y cuenta cuántas veces aparece cada vocal (a, e, i, o, u) en la cadena."
   ]
  },
  {
   "cell_type": "code",
   "execution_count": 45,
   "metadata": {},
   "outputs": [
    {
     "name": "stdout",
     "output_type": "stream",
     "text": [
      "EL TEXTO ==>> Hola que tal te va todo\n",
      "EL NUMERO DE A ES ==>> 3\n",
      "EL NUMERO DE E ES ==>> 2\n",
      "EL NUMERO DE I ES ==>> 0\n",
      "EL NUMERO DE O ES ==>> 3\n",
      "EL NUMERO DE U ES ==>> 1\n",
      "EL NUMERO TOTAL DE VOCALES DEL TEXTO ES 9\n"
     ]
    }
   ],
   "source": [
    "texto = input(\"Por favor, escribe un texto => \")\n",
    "\n",
    "print(f\"EL TEXTO ==>> {texto}\")\n",
    "\n",
    "a = 0\n",
    "e = 0\n",
    "i = 0\n",
    "o = 0\n",
    "u = 0\n",
    "\n",
    "for caracter in texto:\n",
    "    if caracter == \"a\":\n",
    "        a += 1\n",
    "    elif caracter == \"e\":\n",
    "        e += 1\n",
    "    elif caracter == \"i\":\n",
    "        i += 1\n",
    "    elif caracter == \"o\":\n",
    "        o += 1\n",
    "    elif caracter == \"u\":\n",
    "        u += 1\n",
    "    \n",
    "\n",
    "print(f\"EL NUMERO DE A ES ==>> {a}\")\n",
    "print(f\"EL NUMERO DE E ES ==>> {e}\")\n",
    "print(f\"EL NUMERO DE I ES ==>> {i}\")\n",
    "print(f\"EL NUMERO DE O ES ==>> {o}\")\n",
    "print(f\"EL NUMERO DE U ES ==>> {u}\")\n",
    "print(f\"EL NUMERO TOTAL DE VOCALES DEL TEXTO ES {a+e+i+o+u}\")"
   ]
  }
 ],
 "metadata": {
  "kernelspec": {
   "display_name": "Python 3",
   "language": "python",
   "name": "python3"
  },
  "language_info": {
   "codemirror_mode": {
    "name": "ipython",
    "version": 3
   },
   "file_extension": ".py",
   "mimetype": "text/x-python",
   "name": "python",
   "nbconvert_exporter": "python",
   "pygments_lexer": "ipython3",
   "version": "3.11.9"
  }
 },
 "nbformat": 4,
 "nbformat_minor": 2
}
