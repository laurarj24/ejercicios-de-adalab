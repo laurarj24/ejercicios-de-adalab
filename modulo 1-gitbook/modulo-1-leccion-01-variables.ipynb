{
 "cells": [
  {
   "cell_type": "markdown",
   "metadata": {},
   "source": [
    "------------------\n",
    "# Ejercicios\n",
    "\n",
    "1. Crea la variable `gatos` que sea un número con el valor `8`.\n",
    "\n",
    "2. Crea la variable `perros`  que sea un texto de seis caracteres: la palabra `cuatro`.\n",
    "\n",
    "3. Imprime la variable `gatos`.\n",
    "\n",
    "4. Imprime la variable `perros`.\n",
    "\n",
    "5. Imprime la variable `perros` seguida por la palabra `más` y la palabra `perros` otra vez.\n",
    "\n",
    "6. Consigue que el ordenador devuelva el siguiente texto, usando la variable `perros`: `cuatro más cuatro es igual a 8`.\n",
    "\n",
    "7. Consigue que el ordenador devuelva el siguiente texto, usando la variable`perros`: `cuatro + cuatro = 8`."
   ]
  },
  {
   "cell_type": "code",
   "execution_count": 4,
   "metadata": {},
   "outputs": [
    {
     "name": "stdout",
     "output_type": "stream",
     "text": [
      "8\n",
      "cuatro\n",
      "cuatro + perros\n",
      "cuatro  +  cuatro es igual a 8\n",
      "cuatro  +  cuatro  = 8\n"
     ]
    }
   ],
   "source": [
    "# Ejercicio 1\n",
    "\n",
    "gatos = 8\n",
    "\n",
    "# Ejercicio 2\n",
    "\n",
    "perros = \"cuatro\"\n",
    "\n",
    "# Ejercicio 3\n",
    "\n",
    "print(gatos)\n",
    "\n",
    "# Ejercicio 4\n",
    "\n",
    "print(perros)\n",
    "\n",
    "# Ejercicio 5\n",
    "\n",
    "print(perros, \"+\", \"perros\")\n",
    "\n",
    "# Ejercicio 6\n",
    "\n",
    "print(perros, \" + \", perros, \"es igual a 8\")\n",
    "\n",
    "# Ejercicio 7\n",
    "\n",
    "print(perros, \" + \", perros, \" = 8\")"
   ]
  },
  {
   "cell_type": "markdown",
   "metadata": {},
   "source": [
    "8. Define una variable `pizzas` con un valor `2` que sea del tipo float.\n",
    "\n",
    "9. Define `magdalenas` con un valor `2` que sea del tipo string.\n",
    "\n",
    "10. Define `postres` con un valor `0` que sea del tipo int.\n",
    "\n",
    "11. ¿Qué tipo de dato es la variable `pizzas`?\n",
    "  \n",
    "12. ¿Es la variable `magdalenas` de tipo string?\n",
    "\n",
    "13. Define `postres` con un valor `0`.\n",
    "\n",
    "14. Calcula la suma de `gatos` y `pizzas`.\n",
    "\n",
    "15. Calcula la diferencia entre `gatos` y `pizzas`.\n",
    "\n",
    "16. Multiplica las cantidad de gatos por 2.\n",
    "\n",
    "17. Crea una variable `piezas` que sea 8 veces la cantidad de `pizzas`.\n",
    "\n",
    "18. Haz que la cantidad de `piezas` se aumente en 3."
   ]
  },
  {
   "cell_type": "code",
   "execution_count": 5,
   "metadata": {},
   "outputs": [
    {
     "name": "stdout",
     "output_type": "stream",
     "text": [
      "<class 'float'>\n",
      "True\n",
      "10.0\n",
      "6.0\n",
      "16\n",
      "19.0\n"
     ]
    }
   ],
   "source": [
    "# Ejercicio 8\n",
    "\n",
    "pizzas = float(2) #(también se podría poner pizzas = 2.0 y automaticamente crea un float)\n",
    "\n",
    "# Ejercicio 9\n",
    "\n",
    "magdalenas = \"2\"\n",
    "\n",
    "# Ejercicio 10\n",
    "\n",
    "postres = int(0)\n",
    "\n",
    "# Ejercicio 11\n",
    "\n",
    "print(type(pizzas)) # float\n",
    "\n",
    "# Ejercicio 12 \n",
    "\n",
    "print(isinstance(magdalenas, str)) # True\n",
    "\n",
    "# Ejercicio 13\n",
    "\n",
    "postres = 0\n",
    "\n",
    "# Ejercicio 14\n",
    "\n",
    "print (gatos + pizzas)\n",
    "\n",
    "# Ejercicio 15 \n",
    "\n",
    "print(gatos - pizzas)\n",
    "\n",
    "# Ejercicio 16 \n",
    "\n",
    "print(gatos * 2)\n",
    "\n",
    "# Ejercicio 17\n",
    "\n",
    "piezas = pizzas * 8\n",
    "\n",
    "# Ejercicio 18\n",
    "\n",
    "piezas = piezas + 3\n",
    "print(piezas)\n"
   ]
  },
  {
   "cell_type": "markdown",
   "metadata": {},
   "source": [
    "19. Calcula el cuadrado de 9 y guárdalo en una variable llamada `superficie`.\n",
    "\n",
    "20. ¿Cuánta superficie hay por gato?\n",
    "\n",
    "21. ¿Cuántas piezas enteras hay por gato?\n",
    "\n",
    "22. ¿Cuántas piezas te quedan si cada gato se come 21 piezas?\n",
    "\n",
    "\n",
    "23. ¿Cuánta superficie hay por gato en metros cuadrados? Redondeala a un sólo decimal. Intenta calcularlo dentro del mismo `print()` en una sola línea.\n",
    "\n",
    "24. ¿Es verdad que hay más gatos que pizzas?"
   ]
  },
  {
   "cell_type": "code",
   "execution_count": 6,
   "metadata": {},
   "outputs": [
    {
     "name": "stdout",
     "output_type": "stream",
     "text": [
      "superficie =>  81\n",
      "numero de gatos =>  8\n",
      "numero de piezas =>  19.0\n",
      "superficie por gato =>  10.125\n",
      "piezas enteras por gato =>  2.0\n",
      "19.0\n",
      "Hay una superficie por gato de 10.1 metros cuadrados\n",
      "Hay una superficie por gato de 10.1 metros cuadrados\n",
      "True\n"
     ]
    }
   ],
   "source": [
    "# Ejercicio 19\n",
    " \n",
    "superficie = 9 ** 2\n",
    "print(\"superficie => \", superficie)\n",
    "print(\"numero de gatos => \", gatos)\n",
    "print(\"numero de piezas => \", piezas)\n",
    "\n",
    "# Ejercicio 20 \n",
    "\n",
    "superficie_por_gato = superficie/gatos\n",
    "\n",
    "print(\"superficie por gato => \", superficie_por_gato)\n",
    "\n",
    "# Ejercicio 21\n",
    "\n",
    "piezas_enteras_por_gato = piezas // gatos\n",
    "\n",
    "print(\"piezas enteras por gato => \", piezas_enteras_por_gato)\n",
    "\n",
    "# Ejercicio 22\n",
    "\n",
    "print(piezas%(gatos*21))\n",
    "\n",
    "# Ejercicio 23\n",
    "\n",
    "print(\"Hay una superficie por gato de\",round(superficie_por_gato, 1), \"metros cuadrados\")\n",
    "print(f\"Hay una superficie por gato de {round(superficie_por_gato, 1)} metros cuadrados\")\n",
    "\n",
    "# Ejercicio 24 \n",
    "\n",
    "print(gatos > pizzas) #True\n"
   ]
  },
  {
   "cell_type": "markdown",
   "metadata": {},
   "source": [
    "25. ¿Es verdad que hay menos gatos que superficie?\n",
    "\n",
    "26. ¿Es verdad que 2 veces la cantidad de pizzas es distinto de la cantidad de gatos?\n",
    "\n",
    "27. ¿Es falso que 2 veces la cantidad de pizzas es igual a la cantidad de gatos?\n",
    "\n",
    "28. La variable `piezas`, es mayor o igual a `pizzas` y `superficie` es distinto de cero?\n",
    "\n",
    "29. La variable `piezas`, es mayor o igual a `pizzas` y menor que `superficie`?"
   ]
  },
  {
   "cell_type": "code",
   "execution_count": 7,
   "metadata": {},
   "outputs": [
    {
     "name": "stdout",
     "output_type": "stream",
     "text": [
      "True\n",
      "True\n",
      "True\n",
      "True\n",
      "True\n"
     ]
    }
   ],
   "source": [
    "# Ejercicio 25\n",
    "\n",
    "print(gatos < superficie) #True\n",
    "\n",
    "# Ejercicio 26 \n",
    "\n",
    "print((pizzas * 2 != gatos)== True) #True\n",
    "\n",
    "# Ejercicio 27\n",
    "\n",
    "print((pizzas * 2 == gatos) == False)\n",
    "\n",
    "# Ejercicio 28\n",
    "\n",
    "print((piezas >= pizzas)and(superficie != 0))\n",
    "\n",
    "# Ejercicio 29\n",
    "\n",
    "print((piezas >= pizzas) and (piezas < superficie))"
   ]
  },
  {
   "cell_type": "markdown",
   "metadata": {},
   "source": [
    "30. Me interesa saber si hay más pizzas que gatos, o si el residuo de piezas por gato es cero.\n",
    "\n",
    "31. Comprueba las comparaciones de 29. en una sola línea, sin usar la variable `piezas` más que una sola vez.\n",
    "\n",
    "32. Comprueba si `superficie` es diferente a cero sin usar `!=`."
   ]
  },
  {
   "cell_type": "code",
   "execution_count": 11,
   "metadata": {},
   "outputs": [
    {
     "name": "stdout",
     "output_type": "stream",
     "text": [
      "False\n",
      "True\n",
      "81\n",
      "True\n"
     ]
    }
   ],
   "source": [
    "# Ejercicio 30\n",
    "\n",
    "print((pizzas > gatos) or (piezas % gatos == 0))\n",
    "\n",
    "# Ejercicio 31\n",
    "\n",
    "print(superficie > piezas >= pizzas)\n",
    "\n",
    "# Ejercicio 32\n",
    "print(superficie)\n",
    "print((superficie == 0) is False)"
   ]
  },
  {
   "cell_type": "markdown",
   "metadata": {},
   "source": [
    "33. Usa `input()` para preguntar a un usuario el día de su cumpleaños y guarda la respuesta en la variable dia_cumple.\n",
    "\n",
    "34. Usa `input()` para preguntar a un usuario el mes de su cumpleaños y guarda la respuesta en la variable mes_cumple.\n",
    "\n",
    "\n",
    "35. Usa `.strip()` en ambas de las variables definidas.\n",
    "\n",
    "36. Haz que `fecha_cumple` sea un *string* compuesto por el día y el mes.\n",
    "\n",
    "37. Imprime `Fecha de cumpleaños es` más el día y el mes.\n",
    "  \n",
    "38. Imprime la variable perros en todas mayúsculas."
   ]
  },
  {
   "cell_type": "code",
   "execution_count": 9,
   "metadata": {},
   "outputs": [
    {
     "name": "stdout",
     "output_type": "stream",
     "text": [
      "17\n",
      "Junio\n",
      "17 de Junio\n",
      "Tu fecha de cumpleaños es el 17 de Junio\n",
      "CUATRO\n"
     ]
    }
   ],
   "source": [
    "# Ejercicio 33 \n",
    "\n",
    "dia_cumple = input(\"¿Cuál es el día de tu cumpleaños? \")\n",
    "\n",
    "# Ejercicio 34 \n",
    "\n",
    "mes_cumple = input(\"¿Cuál es el mes de tu cumpleaños? \")\n",
    "\n",
    "# Ejercicio 35\n",
    "\n",
    "print(dia_cumple.strip())\n",
    "print(mes_cumple.strip())\n",
    "\n",
    "# Ejercicio 36\n",
    "\n",
    "fecha_cumple = dia_cumple + \" de \" + mes_cumple\n",
    "print(fecha_cumple)\n",
    "\n",
    "# Ejercicio 37\n",
    "\n",
    "print(f\"Tu fecha de cumpleaños es el {fecha_cumple}\")\n",
    "\n",
    "# Ejercicio 38\n",
    "\n",
    "print(perros.upper())\n",
    "\n"
   ]
  }
 ],
 "metadata": {
  "colab": {
   "collapsed_sections": [],
   "name": "01-variables-v3.ipynb",
   "provenance": [
    {
     "file_id": "1tXHJR8cKSo08vDdGSAm7rJsLK5DWWU6k",
     "timestamp": 1641196405601
    },
    {
     "file_id": "1nJs_RCWTcl0l6j6i5mHhZveMzPQQGsS6",
     "timestamp": 1639740222910
    }
   ]
  },
  "kernelspec": {
   "display_name": "Python 3 (ipykernel)",
   "language": "python",
   "name": "python3"
  },
  "language_info": {
   "codemirror_mode": {
    "name": "ipython",
    "version": 3
   },
   "file_extension": ".py",
   "mimetype": "text/x-python",
   "name": "python",
   "nbconvert_exporter": "python",
   "pygments_lexer": "ipython3",
   "version": "3.11.9"
  },
  "toc": {
   "base_numbering": 1,
   "nav_menu": {},
   "number_sections": true,
   "sideBar": true,
   "skip_h1_title": false,
   "title_cell": "Table of Contents",
   "title_sidebar": "Contents",
   "toc_cell": true,
   "toc_position": {},
   "toc_section_display": true,
   "toc_window_display": true
  },
  "vscode": {
   "interpreter": {
    "hash": "31f2aee4e71d21fbe5cf8b01ff0e069b9275f58929596ceb00d14d90e3e16cd6"
   }
  }
 },
 "nbformat": 4,
 "nbformat_minor": 1
}
