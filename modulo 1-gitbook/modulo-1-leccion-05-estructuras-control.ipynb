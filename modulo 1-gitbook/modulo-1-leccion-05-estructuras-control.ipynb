{
 "cells": [
  {
   "cell_type": "markdown",
   "metadata": {},
   "source": [
    "# Ejercicios\n",
    "\n",
    "1. Crea una variable que sea igual a \"Python\" y genera un código que nos printee todas las letras menos la \"P\" usando la sentencia `continue`."
   ]
  },
  {
   "cell_type": "code",
   "execution_count": 1,
   "metadata": {},
   "outputs": [
    {
     "name": "stdout",
     "output_type": "stream",
     "text": [
      "h\n",
      "y\n",
      "t\n",
      "o\n",
      "n\n"
     ]
    }
   ],
   "source": [
    "texto = \"Phyton\"\n",
    "\n",
    "for caracter in texto:\n",
    "    if caracter == \"P\":\n",
    "        continue\n",
    "    print(caracter)"
   ]
  },
  {
   "cell_type": "markdown",
   "metadata": {},
   "source": [
    "2. De la frase `'Hello'` imprime todas las letras que no sean una `'l'` usando `if`."
   ]
  },
  {
   "cell_type": "code",
   "execution_count": 2,
   "metadata": {},
   "outputs": [
    {
     "name": "stdout",
     "output_type": "stream",
     "text": [
      "H\n",
      "e\n",
      "o\n"
     ]
    }
   ],
   "source": [
    "for letra in \"Hello\":\n",
    "    if letra != \"l\":\n",
    "        print(letra)"
   ]
  },
  {
   "cell_type": "markdown",
   "metadata": {},
   "source": [
    "3. Haz lo mismo que en 2 usando `continue`."
   ]
  },
  {
   "cell_type": "code",
   "execution_count": 3,
   "metadata": {},
   "outputs": [
    {
     "name": "stdout",
     "output_type": "stream",
     "text": [
      "H\n",
      "e\n",
      "o\n"
     ]
    }
   ],
   "source": [
    "for letra in \"Hello\":\n",
    "    if letra == \"l\":\n",
    "        continue\n",
    "    print(letra)"
   ]
  },
  {
   "cell_type": "markdown",
   "metadata": {},
   "source": [
    "4. De la frase `'Hello'` imprime todas las letras parando el bucle si encuentras una `'o'`.\n"
   ]
  },
  {
   "cell_type": "code",
   "execution_count": 4,
   "metadata": {},
   "outputs": [
    {
     "name": "stdout",
     "output_type": "stream",
     "text": [
      "H\n",
      "e\n",
      "l\n",
      "l\n"
     ]
    }
   ],
   "source": [
    "for letra in \"Hello\":\n",
    "    if letra == \"o\":\n",
    "        break\n",
    "    print(letra)"
   ]
  },
  {
   "cell_type": "markdown",
   "metadata": {},
   "source": [
    "5. Define  la variable `doce = '12'` y `seis = 6`. Intenta sumarlos. En el caso de que te salga un error imprime `'¡Un error!'`. Para eso usa un `try` ... `except`"
   ]
  },
  {
   "cell_type": "code",
   "execution_count": 9,
   "metadata": {},
   "outputs": [
    {
     "name": "stdout",
     "output_type": "stream",
     "text": [
      "¡Un error!\n"
     ]
    }
   ],
   "source": [
    "doce = \"12\"\n",
    "seis = 6\n",
    "\n",
    "try:\n",
    "    suma = doce + seis\n",
    "    print(suma)\n",
    "except:\n",
    "    print(f\"¡Un error!\")"
   ]
  },
  {
   "cell_type": "markdown",
   "metadata": {},
   "source": [
    "6. Basándonos en el ejercicio anterior, sin usar un `try` ... `except`, ¿cómo podríamos solucionar el problema? "
   ]
  },
  {
   "cell_type": "code",
   "execution_count": 13,
   "metadata": {},
   "outputs": [
    {
     "name": "stdout",
     "output_type": "stream",
     "text": [
      "18\n"
     ]
    }
   ],
   "source": [
    "suma = seis + int(doce)\n",
    "print(suma)"
   ]
  },
  {
   "cell_type": "markdown",
   "metadata": {},
   "source": [
    "7. Solicita al usuario ingresar números enteros positivos hasta que ingrese un número negativo. Luego, muestra la suma de todos los números pares ingresados.\n"
   ]
  },
  {
   "cell_type": "code",
   "execution_count": 21,
   "metadata": {},
   "outputs": [
    {
     "name": "stdout",
     "output_type": "stream",
     "text": [
      "¡Error, no has introducido un número entero!\n",
      "¡Error, no has introducido un número entero!\n",
      "¡Error, no has introducido un número entero!\n",
      "EL NUMERO QUE HAS DICHO HA SIDO ==>> 5\n",
      "¡Error, no has introducido un número entero!\n",
      "EL NUMERO QUE HAS DICHO HA SIDO ==>> 2\n",
      "LA SUMA DE LOS NUMEROS PARES ES ==>> 2\n",
      "¡Error, no has introducido un número entero!\n",
      "EL NUMERO QUE HAS DICHO HA SIDO ==>> 2\n",
      "LA SUMA DE LOS NUMEROS PARES ES ==>> 4\n",
      "EL NUMERO QUE HAS DICHO HA SIDO ==>> -2\n"
     ]
    }
   ],
   "source": [
    "suma_pares = 0\n",
    "while True:\n",
    "    try:\n",
    "        numero = int(input(\"Por favor, ingresa un número entero positivo, y despues un negativo ==>> \"))\n",
    "        print(f\"EL NUMERO QUE HAS DICHO HA SIDO ==>> {numero}\")\n",
    "        if numero >= 0:\n",
    "            if numero % 2 == 0:\n",
    "                suma_pares += numero\n",
    "                print(f\"LA SUMA DE LOS NUMEROS PARES ES ==>> {suma_pares}\")\n",
    "        else:\n",
    "            break\n",
    "    except:\n",
    "        print(f\"¡Error, no has introducido un número entero!\")\n",
    "        "
   ]
  },
  {
   "cell_type": "markdown",
   "metadata": {},
   "source": [
    "8. Solicita al usuario ingresar dos números y muestra el resultado de dividir el primero por el segundo. Asegúrate de manejar la excepción si el segundo número es cero.\n"
   ]
  },
  {
   "cell_type": "code",
   "execution_count": 46,
   "metadata": {},
   "outputs": [
    {
     "name": "stdout",
     "output_type": "stream",
     "text": [
      "EL RESULTADO DE DIVIDIR 0/10 ES 0.0\n"
     ]
    }
   ],
   "source": [
    "numero1 = input(\"POR FAVOR, DIME UN NUMERO ==>>  \")\n",
    "numero2 = input(\"AHORA DIME OTRO NUMERO ==>>  \")\n",
    "\n",
    "try:\n",
    "    division = float(numero1)/float(numero2)\n",
    "    print(f\"EL RESULTADO DE DIVIDIR {numero1}/{numero2} ES {division}\")\n",
    "except:\n",
    "    try: \n",
    "        if float(numero2) == 0.0:\n",
    "                print(f\"NO SE PUEDE DIVIDIR POR CERO\")\n",
    "        else:\n",
    "            print(f\"NUMERO 1 INTRODUCIDO NO ES UN NUMERO ==>> {numero1}\")\n",
    "    except:\n",
    "        print(f\"NUMERO 2 INTRODUCIDO NO ES UN NUMERO ==> {numero2}\")\n",
    "        \n",
    "            \n"
   ]
  },
  {
   "cell_type": "markdown",
   "metadata": {},
   "source": [
    "9. Solicita al usuario ingresar un número y muestra su raíz cuadrada. Maneja la excepción si el número es negativo."
   ]
  },
  {
   "cell_type": "code",
   "execution_count": 57,
   "metadata": {},
   "outputs": [
    {
     "name": "stdout",
     "output_type": "stream",
     "text": [
      "EL NUMERO QUE HAS DICHO ES -25\n",
      "No se pueden hacer raices cuadradas de numeros negativos\n"
     ]
    }
   ],
   "source": [
    "numero = input(\"Dame un número, para calcular su raiz cuadrada\")\n",
    "\n",
    "print(f\"EL NUMERO QUE HAS DICHO ES {numero}\")\n",
    "\n",
    "try:\n",
    "    numero = float(numero)\n",
    "    if numero >= 0:\n",
    "        raiz_cuadrada = (float(numero)) ** (1/2)\n",
    "        print(f\"La raiz cuadrada de {numero} es {raiz_cuadrada}\")\n",
    "    else: \n",
    "        print(f\"No se pueden hacer raices cuadradas de numeros negativos\")\n",
    "except:\n",
    "        print(f\"Lo siento, no has introducido un numero, sino una letra ==>> {numero}\")"
   ]
  },
  {
   "cell_type": "markdown",
   "metadata": {},
   "source": [
    "10. Crea una lista de números y solicita al usuario ingresar un índice para acceder a un elemento de la lista. Maneja la excepción si el índice está fuera de rango."
   ]
  },
  {
   "cell_type": "code",
   "execution_count": 61,
   "metadata": {},
   "outputs": [
    {
     "name": "stdout",
     "output_type": "stream",
     "text": [
      "LO SIENTO, NO HAS INTRODUCIDO UN NUMERO ENTERO, LO QUE HAS INTRODUCIDO ES ==>> g\n"
     ]
    }
   ],
   "source": [
    "lista = [2,4,6,8,10,12,14,16,18,20]\n",
    "indice = input(\"Dame un indice para acceder al elemento ==>> \")\n",
    "try:\n",
    "    indice = int(indice)\n",
    "    print(f\" EL INDICE QUE HAS DICHO ES {indice}\")\n",
    "    numero = lista[indice]\n",
    "    print(f\"EL NUMERO QUE ESTÁ EN EL INDICE {indice} ES {numero}\")\n",
    "except:\n",
    "    try:\n",
    "        int(indice)\n",
    "        print(f\"LO SIENTO, EL NUMERO INTRODUCIDO ESTÁ FUERA DE RANGO, HAS DICHO {indice}\")\n",
    "    except:\n",
    "        print(f\"LO SIENTO, NO HAS INTRODUCIDO UN NUMERO ENTERO, LO QUE HAS INTRODUCIDO ES ==>> {indice}\")"
   ]
  }
 ],
 "metadata": {
  "kernelspec": {
   "display_name": "Python 3",
   "language": "python",
   "name": "python3"
  },
  "language_info": {
   "codemirror_mode": {
    "name": "ipython",
    "version": 3
   },
   "file_extension": ".py",
   "mimetype": "text/x-python",
   "name": "python",
   "nbconvert_exporter": "python",
   "pygments_lexer": "ipython3",
   "version": "3.11.9"
  }
 },
 "nbformat": 4,
 "nbformat_minor": 2
}
