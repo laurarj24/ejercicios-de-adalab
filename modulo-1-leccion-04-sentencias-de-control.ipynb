{
 "cells": [
  {
   "cell_type": "markdown",
   "metadata": {},
   "source": [
    "-----------\n",
    "\n",
    "# Ejercicios  \n",
    "\n",
    "1. Crea las siguientes variables:\n",
    "\n",
    "  - `var1` sea un número con el valor `8`.\n",
    "\n",
    "  - `var2` sea un número con el valor `2`.\n",
    "\n",
    "  - `var3` sea un número con el valor `8`.\n",
    "\n"
   ]
  },
  {
   "cell_type": "code",
   "execution_count": 1,
   "metadata": {},
   "outputs": [],
   "source": [
    "var1 = 8\n",
    "var2 = 2\n",
    "var3 = 8"
   ]
  },
  {
   "cell_type": "markdown",
   "metadata": {},
   "source": [
    "2. Comprueba si `var1` es mayor que 6, y si es así imprime `¡Es enorme!`.\n",
    "3. Comprueba si `var2` es mayor que 6, y si es así imprime `¡Es enorme también!`.\n",
    "4. Comprueba si `var3` es mayor que 6, y si es así imprime `¡Es enorme!` seguido por `¡Pero de verdad!` en otra línea (deberéis tener dos *print*).\n",
    "5. Comprueba si `var1` es igual que `var3`, y si es así imprime `Son iguales.`.\n",
    "6. Comprueba si `var1` es igual que `var2`, y si es así imprime `Son iguales.`"
   ]
  },
  {
   "cell_type": "code",
   "execution_count": 8,
   "metadata": {},
   "outputs": [
    {
     "name": "stdout",
     "output_type": "stream",
     "text": [
      "¡Es enorme!\n",
      "----------------------------------------------------------------------------------\n",
      "¡Es enorme!\n",
      "¡Pero de verdad!\n",
      "----------------------------------------------------------------------------------\n",
      "Son iguales\n"
     ]
    }
   ],
   "source": [
    "if var1 > 6:\n",
    "    print(\"¡Es enorme!\")\n",
    "\n",
    "print(\"----------------------------------------------------------------------------------\")\n",
    "\n",
    "if var2 > 6:\n",
    "    print(\"¡Es enorme también\")\n",
    "    \n",
    "if var3 > 6:\n",
    "    print(\"¡Es enorme!\")\n",
    "    print(\"¡Pero de verdad!\")\n",
    "\n",
    "print(\"----------------------------------------------------------------------------------\")\n",
    "\n",
    "if var1 == var3:\n",
    "    print(\"Son iguales\")\n",
    "\n",
    "if var1 == var2:\n",
    "    print(\"Son iguales\")"
   ]
  },
  {
   "cell_type": "markdown",
   "metadata": {},
   "source": [
    "7. Comprueba si `var1` es mayor o igual que `var2`, y si es así calcula la diferencia entre `var1` y `var2`, guardala en la variable `dif`, e imprime `'La diferencia es',dif`. \n",
    "8. Comprueba si `var1` es mayor que 6, y si es así imprime `¡Es enorme!`. Si no es así imprime `Es chiquitín.`.\n",
    "9. Comprueba si `var2` es mayor que 6, y si es así imprime `¡Es enorme también!`. Si no es así imprime `Es chiquitín también.`.\n",
    "10. Comprueba si `var1` es igual a `var3`, y si es así imprime `Son iguales.` Si no es así imprime `Son distintos.`"
   ]
  },
  {
   "cell_type": "code",
   "execution_count": 12,
   "metadata": {},
   "outputs": [
    {
     "name": "stdout",
     "output_type": "stream",
     "text": [
      "La diferencia es 6\n",
      "-----------------------------------------------------------------------------\n",
      "¡Es enorme!\n",
      "-----------------------------------------------------------------------------\n",
      "Es chiquitín también\n",
      "------------------------------------------------------------------------------\n",
      "Son iguales\n"
     ]
    }
   ],
   "source": [
    "if var1 >= var2:\n",
    "    dif = var1-var2\n",
    "    print(f\"La diferencia es {dif}\")\n",
    "print(\"-----------------------------------------------------------------------------\")\n",
    "if var1 > 6:\n",
    "    print(\"¡Es enorme!\")\n",
    "else:\n",
    "    print(\"Es chiquitín\")\n",
    "\n",
    "print(\"-----------------------------------------------------------------------------\")\n",
    "\n",
    "if var2 > 6:\n",
    "    print(\"¡Es enorme también\")\n",
    "else: \n",
    "    print(\"Es chiquitín también\")\n",
    "    \n",
    "print(\"------------------------------------------------------------------------------\")\n",
    "\n",
    "if var1 == var3:\n",
    "    print(\"Son iguales\")\n",
    "else:\n",
    "    print(\"Son distintos\")"
   ]
  },
  {
   "cell_type": "markdown",
   "metadata": {},
   "source": [
    "11. Escribe un programa para una empresa que tiene salas de juegos para todas las edades y quiere calcular de forma automática el precio que debe cobrar a sus clientes por entrar. El programa debe preguntar al usuario:\n",
    "\n",
    "    - La edad del cliente. \n",
    "    - Las condiciones que tendremos que chequear: \n",
    "\n",
    "      - Si el cliente es menor de 4 años puede entrar gratis, \n",
    "\n",
    "      - Si tiene entre 4 y 18 años debe pagar 5€ y \n",
    "\n",
    "      - Si es mayor de 18 años, 10€.\n"
   ]
  },
  {
   "cell_type": "code",
   "execution_count": 15,
   "metadata": {},
   "outputs": [
    {
     "name": "stdout",
     "output_type": "stream",
     "text": [
      "Tienes que pagar 5 euros\n"
     ]
    }
   ],
   "source": [
    "edad = int(input(\"Dime cuantos años tienes: \"))\n",
    "\n",
    "if edad < 4:\n",
    "    print(\"Puedes entrar gratis\")\n",
    "elif edad > 4 and edad < 18:\n",
    "    print(\"Tienes que pagar 5 euros\")\n",
    "else:\n",
    "    print(\"Tienes que pagar 10 euros\")"
   ]
  },
  {
   "cell_type": "markdown",
   "metadata": {},
   "source": [
    "12. Inicia la varible `ahorros` con un valor de `5`. Crea un bucle while que mientras los ahorros sean igual o menor que `20` imprima por pantalla la cantidad de ahorros que tenemos, y añádele `5` más. Cuando la variable ahorros supere el valor de 20 el bucle deberá parar. \n",
    "\n"
   ]
  },
  {
   "cell_type": "code",
   "execution_count": 17,
   "metadata": {},
   "outputs": [
    {
     "name": "stdout",
     "output_type": "stream",
     "text": [
      "Tengo ahorrados 5 euros\n",
      "Tengo ahorrados 10 euros\n",
      "Tengo ahorrados 15 euros\n"
     ]
    }
   ],
   "source": [
    "ahorros = 5\n",
    "\n",
    "while ahorros < 20:\n",
    "    print(f\"Tengo ahorrados {ahorros} euros\")\n",
    "    ahorros += 5\n",
    "    "
   ]
  },
  {
   "cell_type": "markdown",
   "metadata": {},
   "source": [
    "13. Escribe un programa que convierta grados Celsius a grados Fahrenheit o viceversa, según la elección del usuario. Para eso tendrás que preguntar: \n",
    "\n",
    "  - Desde que unidades va a convertir la temperatura, Celsius o Fahrenheit. \n",
    "\n",
    "  - Cuál es valor de la temperatura que quiere convertir. \n",
    "\n"
   ]
  },
  {
   "cell_type": "code",
   "execution_count": 3,
   "metadata": {},
   "outputs": [
    {
     "name": "stdout",
     "output_type": "stream",
     "text": [
      "50.0 grados celsius equivalen a 122.0º fahrenheit\n"
     ]
    }
   ],
   "source": [
    "unidades_temperatura = input(\"¿Qué unidad de temperatura es la que quieres convertir?¿¿Fahrentein o Celsius\")\n",
    "valor_temperatura = float(input(\"¿Cual es el valor de la temperatura que quieres convertir?\"))\n",
    "\n",
    "if unidades_temperatura.lower() == \"fahrenheit\":\n",
    "    temperatura_celsius = (valor_temperatura - 32) * 5/9\n",
    "    print(f\"{valor_temperatura} grados {unidades_temperatura} equivalen a {temperatura_celsius}º celsius\")\n",
    "elif unidades_temperatura.lower()==\"celsius\":\n",
    "    temperatura_fahrenheit = (valor_temperatura * 9/5) + 32\n",
    "    print(f\"{valor_temperatura} grados {unidades_temperatura} equivalen a {temperatura_fahrenheit}º fahrenheit\")\n",
    "else:\n",
    "    print(f\"Lo siento, has debido de introducir más la unidad de temperatura a convertir\")"
   ]
  },
  {
   "cell_type": "markdown",
   "metadata": {},
   "source": [
    "14.  Crea un programa que calcule el impuesto sobre la renta de una persona basado en su ingreso anual y su estado civil (soltero o casado). Para eso deberás: \n",
    "\n",
    "  - Solicitar al usuario su ingreso anual.\n",
    "\n",
    "  - Preguntar al usuario su estado civil, permitiendo dos opciones: \"soltero\" (S) o \"casado\" (C).\n",
    "\n",
    "  - Calcular el impuesto sobre la renta utilizando las siguientes reglas:\n",
    "\n",
    "    - Si el estado civil es \"soltero\" (S):\n",
    "\n",
    "      - Si el ingreso anual es menor o igual a $9,875, el impuesto es el 10% del ingreso anual.\n",
    "\n",
    "      - Si el ingreso anual está entre $9,876 y $40,125, el impuesto es el 10% de los primeros $9,875 más el 12% de la cantidad que excede los $9,875.\n",
    "     \n",
    "\n",
    "    - Si el estado civil es \"casado\" (C):\n",
    "    \n",
    "      - Si el ingreso anual es menor o igual a $19,850, el impuesto es el 10% del ingreso anual.\n",
    "\n",
    "      - Si el ingreso anual está entre $19,851 y $80,250, el impuesto es el 10% de los primeros $19,850 más el 12% de la cantidad que excede los $19,850.\n",
    "\n"
   ]
  },
  {
   "cell_type": "code",
   "execution_count": 5,
   "metadata": {},
   "outputs": [
    {
     "name": "stdout",
     "output_type": "stream",
     "text": [
      "El impuesto que tienes que pagar es 2018.0\n"
     ]
    }
   ],
   "source": [
    "ingreso_anual = float(input(\"Dinos tus ingresos brutos anuales: \"))\n",
    "estado_civil = input(\"Dinos cual es tu estado civil: si eres soltero escribe S y si es casado escribe C\")\n",
    "if estado_civil.upper() == \"S\":\n",
    "    if ingreso_anual <= 9875:\n",
    "        impuesto = 0.1 * ingreso_anual\n",
    "        print(f\"El impuesto que tienes que pagar es {impuesto}\")\n",
    "    elif 9875 < ingreso_anual < 40125:\n",
    "        impuesto = (0.1 * ingreso_anual) + (0.12 * (ingreso_anual-9875))\n",
    "        print(f\"El impuesto que tienes que pagar es {impuesto}\")\n",
    "if estado_civil.upper() == \"C\":\n",
    "    if ingreso_anual <= 19850:\n",
    "        impuesto = 0.1 * ingreso_anual\n",
    "        print(f\"El impuesto que tienes que pagar es {impuesto}\")\n",
    "    elif 19850 < ingreso_anual < 80250:\n",
    "        impuesto = (0.1 * ingreso_anual) + (0.12 * (ingreso_anual-19850))\n",
    "        print(f\"El impuesto que tienes que pagar es {impuesto}\")\n",
    "    "
   ]
  },
  {
   "cell_type": "markdown",
   "metadata": {},
   "source": [
    "15. Crea un programa que evalúe el nivel de contaminación del aire en función de la concentración de partículas en suspensión (PM2.5) en microgramos por metro cúbico (µg/m³). Para eso deberás: \n",
    "\n",
    "  - Solicita al usuario que ingrese la concentración de PM2.5 en el aire en µg/m³. El usuario debe ingresar un valor numérico.\n",
    "\n",
    "  - Evalua el nivel de contaminación del aire según la siguiente escala:\n",
    "\n",
    "    - Si la concentración de PM2.5 es menor o igual a 12 µg/m³, el aire se considera \"Excelente\".\n",
    "\n",
    "    - Si la concentración de PM2.5 está entre 13 µg/m³ y 35 µg/m³, el aire se considera \"Bueno\".\n",
    "\n",
    "    - Si la concentración de PM2.5 está entre 36 µg/m³ y 55 µg/m³, el aire se considera \"Aceptable\".\n",
    "\n",
    "    - Si la concentración de PM2.5 está entre 56 µg/m³ y 150 µg/m³, el aire se considera \"No Saludable para Grupos Sensibles\".\n",
    "\n",
    "    - Si la concentración de PM2.5 es mayor a 150 µg/m³, el aire se considera \"No Saludable\".\n",
    "\n",
    "  - Muestra un mensaje indicando el estado de la calidad del aire. Por ejemplo, si la concentración de PM2.5 es 25 µg/m³, el programa debe mostrar: \"La calidad del aire es Buena\".\n",
    "\n",
    "  -  Además, si la concentración de PM2.5 está en la categoría \"No Saludable para Grupos Sensibles\" o \"No Saludable\", el programa debe advertir al usuario sobre los posibles efectos en la salud.\n",
    "\n",
    "  - Si la concentración ingresada por el usuario es negativa o no es un número válido, el programa debe mostrar un mensaje de error."
   ]
  },
  {
   "cell_type": "code",
   "execution_count": 11,
   "metadata": {},
   "outputs": [
    {
     "name": "stdout",
     "output_type": "stream",
     "text": [
      " La calidad del aire es No saludable\n"
     ]
    }
   ],
   "source": [
    "concentracion_particulas_suspension = float(input(\"¿Cual es la concentración de particulas en suspension? Debes introducir un numero\"))\n",
    "\n",
    "if concentracion_particulas_suspension <= 12:\n",
    "    valor_aire = \"Excelente\"\n",
    "elif 12 < concentracion_particulas_suspension <= 35:\n",
    "    valor_aire = \"Bueno\"\n",
    "elif 35 < concentracion_particulas_suspension <= 55:\n",
    "    valor_aire = \"Aceptable\"\n",
    "elif 55 < concentracion_particulas_suspension <= 150:\n",
    "    valor_aire = \"No saludable para grupos sensibles\"\n",
    "else: \n",
    "    valor_aire = \"No saludable\"\n",
    "\n",
    "print(f\" La calidad del aire es {valor_aire}\")\n",
    "    \n",
    "    \n",
    "    \n",
    "    \n",
    "    \n",
    "    \n",
    "    \n",
    "    "
   ]
  }
 ],
 "metadata": {
  "colab": {
   "collapsed_sections": [],
   "name": "02-boolean-statements.ipynb",
   "provenance": [
    {
     "file_id": "1lHGdy-osjs1puGjGpU1iU_FN0RFd80om",
     "timestamp": 1639470758251
    }
   ]
  },
  "kernelspec": {
   "display_name": "Python 3 (ipykernel)",
   "language": "python",
   "name": "python3"
  },
  "language_info": {
   "codemirror_mode": {
    "name": "ipython",
    "version": 3
   },
   "file_extension": ".py",
   "mimetype": "text/x-python",
   "name": "python",
   "nbconvert_exporter": "python",
   "pygments_lexer": "ipython3",
   "version": "3.11.9"
  },
  "toc": {
   "base_numbering": 1,
   "nav_menu": {},
   "number_sections": true,
   "sideBar": true,
   "skip_h1_title": false,
   "title_cell": "Table of Contents",
   "title_sidebar": "Contents",
   "toc_cell": true,
   "toc_position": {
    "height": "calc(100% - 180px)",
    "left": "10px",
    "top": "150px",
    "width": "307.2px"
   },
   "toc_section_display": true,
   "toc_window_display": true
  },
  "vscode": {
   "interpreter": {
    "hash": "31f2aee4e71d21fbe5cf8b01ff0e069b9275f58929596ceb00d14d90e3e16cd6"
   }
  }
 },
 "nbformat": 4,
 "nbformat_minor": 1
}
