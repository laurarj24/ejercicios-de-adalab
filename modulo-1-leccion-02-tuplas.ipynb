{
 "cells": [
  {
   "cell_type": "markdown",
   "metadata": {
    "id": "5PcBreuKcX1-"
   },
   "source": [
    "\n",
    "\n",
    "---\n",
    "\n",
    "# Ejercicios:\n",
    "\n",
    "- Definir tuplas\n",
    "\n",
    "  1. Crea una tupla `persona1` para juntar los siguientes datos: 61 kg, 1.54 m altura, pelo marrón, sin usar paréntesis. (Serán del tipo `int`, `float` y `str`.)\n",
    "\n",
    "  2. Crea una tupla para la `persona2` de 68 kg, 1.65 m y pelo rubio, usando paréntesis.\n",
    "\n",
    "  3. Crea una lista `talla` que recompila 'M', 42, y 39. \n",
    "\n"
   ]
  },
  {
   "cell_type": "code",
   "execution_count": 3,
   "metadata": {},
   "outputs": [
    {
     "name": "stdout",
     "output_type": "stream",
     "text": [
      "(61, 1.54, 'pelo marrón')\n",
      "(68, 1.65, 'pelo rubio')\n",
      "['M', 42, 39]\n"
     ]
    }
   ],
   "source": [
    "# DEFINIR TUPLAS\n",
    "\n",
    "# Ejercicio 1 \n",
    "\n",
    "persona1 = 61, 1.54, \"pelo marrón\"\n",
    "\n",
    "print(persona1)\n",
    "\n",
    "# Ejercicio 2\n",
    "\n",
    "persona2 = (68, 1.65, \"pelo rubio\") \n",
    "\n",
    "print(persona2)\n",
    "\n",
    "# Ejercicio 3\n",
    "\n",
    "talla = [\"M\", 42, 39]\n",
    "\n",
    "print(talla)\n"
   ]
  },
  {
   "cell_type": "markdown",
   "metadata": {},
   "source": [
    "- Convertir y juntar\n",
    "\n",
    "  4. Convierte la lista `talla` a una tupla.\n",
    "  \n",
    "  5. Une a la tupla de `persona1` los datos en `talla`, para tener una única tupla.\n",
    "\n"
   ]
  },
  {
   "cell_type": "code",
   "execution_count": 4,
   "metadata": {},
   "outputs": [
    {
     "name": "stdout",
     "output_type": "stream",
     "text": [
      "<class 'tuple'>\n",
      "(61, 1.54, 'pelo marrón', 'M', 42, 39)\n"
     ]
    }
   ],
   "source": [
    "# CONVERTIR Y JUNTAR \n",
    "\n",
    "# Ejercicio 4\n",
    "\n",
    "talla = tuple(talla)\n",
    "print(type(talla))\n",
    "\n",
    "# Ejercicio 5\n",
    "\n",
    "persona_talla = persona1 + talla\n",
    "print(persona_talla)\n",
    "  "
   ]
  },
  {
   "cell_type": "markdown",
   "metadata": {},
   "source": [
    " - Indexar tuplas\n",
    "\n",
    "  6. Saca de `persona2` el contenido del tercer elemento y llámalo `color`.\n",
    "\n",
    "  7. ¿Cuántos elementos hay ahora en `persona1`? (Es decir, ¿cuál es su longitud?)\n",
    "\n"
   ]
  },
  {
   "cell_type": "code",
   "execution_count": 6,
   "metadata": {},
   "outputs": [
    {
     "name": "stdout",
     "output_type": "stream",
     "text": [
      "(68, 1.65, 'pelo rubio')\n",
      "pelo rubio\n",
      "3\n"
     ]
    }
   ],
   "source": [
    "# INDEXAR TUPLAS\n",
    "\n",
    "# Ejercicio 6\n",
    "\n",
    "print(persona2)\n",
    "color = persona2[2]\n",
    "print(color)\n",
    "\n",
    "# Ejercicio 7\n",
    "\n",
    "print(len(persona1))\n"
   ]
  },
  {
   "cell_type": "markdown",
   "metadata": {},
   "source": [
    "\n",
    "- Desempaquetar\n",
    "\n",
    "  8. Crea las variables `peso`, `altura`, `color_pelo` y llénalas con el contenido de `persona1`. Imprime `color_pelo` para comprobar el resultado. \n"
   ]
  },
  {
   "cell_type": "code",
   "execution_count": 7,
   "metadata": {},
   "outputs": [
    {
     "name": "stdout",
     "output_type": "stream",
     "text": [
      "61\n",
      "1.54\n",
      "pelo marrón\n"
     ]
    }
   ],
   "source": [
    "# DESEMPAQUETAR\n",
    "\n",
    "# Ejercicio 8\n",
    "\n",
    "peso, altura, color_pelo = persona1\n",
    "print(peso)\n",
    "print(altura)\n",
    "print(color_pelo)"
   ]
  },
  {
   "cell_type": "markdown",
   "metadata": {},
   "source": [
    "\n",
    "- Zipear\n",
    "\n",
    "  9. Crea el zip `personas` con `persona1` y `persona2`.\n",
    "\n",
    "  10. ¿Cuántas \"elementos\" tiene `personas`? ¿Por qué?\n",
    "\n",
    "  11. Crea una tupla `etiquetas` con `'peso'`, `'altura'`, y `'color_pelo'`.\n",
    "\n",
    "  12. Crea al zip de `etiquetas`, `persona1`, y `persona2`, llamado \"todo\".\n",
    "\n"
   ]
  },
  {
   "cell_type": "code",
   "execution_count": 13,
   "metadata": {},
   "outputs": [
    {
     "name": "stdout",
     "output_type": "stream",
     "text": [
      "[(61, 68), (1.54, 1.65), ('pelo marrón', 'pelo rubio')]\n",
      "[('pelo', 61, 68), ('altura', 1.54, 1.65), ('color_pelo', 'pelo marrón', 'pelo rubio')]\n"
     ]
    }
   ],
   "source": [
    "# ZIPEAR\n",
    "\n",
    "# Ejercicio 9\n",
    "\n",
    "personas = zip(persona1,persona2)\n",
    "\n",
    "# Ejercicio 10\n",
    "\n",
    "print(list(personas)) # Tiene varias tuplas relacionando elementos indice 0 de ambas tuplas, indices 1, 2, 3 y sucesivos hasta el de la tupla de menor tamaño\n",
    "\n",
    "# Ejercicio 11 \n",
    "\n",
    "etiquetas = \"pelo\",\"altura\",\"color_pelo\"\n",
    "\n",
    "# Ejercicio 12\n",
    "\n",
    "todo = list(zip(etiquetas,persona1,persona2))\n",
    "\n",
    "print(todo)"
   ]
  },
  {
   "cell_type": "markdown",
   "metadata": {},
   "source": [
    "- Manipular zips\n",
    "\n",
    "  13. Ordena las propiedades de la variable `personas` alfabéticamente. ¿Puedes? ¿Por qué?\n",
    "\n",
    "---\n",
    "\n"
   ]
  },
  {
   "cell_type": "code",
   "execution_count": 21,
   "metadata": {},
   "outputs": [
    {
     "name": "stdout",
     "output_type": "stream",
     "text": [
      "[(61, 68), (1.54, 1.65), ('pelo marrón', 'pelo rubio')]\n"
     ]
    }
   ],
   "source": [
    "# MANIPULAR ZIPS\n",
    "\n",
    "# Ejercicio 13 \n",
    "\n",
    "personas = zip(persona1,persona2)\n",
    "personas_ordenadas_alfabeticamente = list(personas)\n",
    "print(personas_ordenadas_alfabeticamente)\n",
    "#print(personas_ordenadas_alfabeticamente.sort()) no deja porque en primer elementos del zip hay diferentes tipos de datos, \n",
    "# str, float..., si en el primer elemento de la lista hubiera mismo tipo, aunque en el segundo fuera de otro tipo no habría problema\n",
    "\n",
    "\n",
    "\n",
    "\n"
   ]
  }
 ],
 "metadata": {
  "kernelspec": {
   "display_name": "Python 3 (ipykernel)",
   "language": "python",
   "name": "python3"
  },
  "language_info": {
   "codemirror_mode": {
    "name": "ipython",
    "version": 3
   },
   "file_extension": ".py",
   "mimetype": "text/x-python",
   "name": "python",
   "nbconvert_exporter": "python",
   "pygments_lexer": "ipython3",
   "version": "3.11.9"
  },
  "toc": {
   "base_numbering": 1,
   "nav_menu": {},
   "number_sections": true,
   "sideBar": true,
   "skip_h1_title": false,
   "title_cell": "Table of Contents",
   "title_sidebar": "Contents",
   "toc_cell": true,
   "toc_position": {},
   "toc_section_display": true,
   "toc_window_display": true
  },
  "vscode": {
   "interpreter": {
    "hash": "8560ba40f25f8debc3b21cfdc72602d7855270eb253b25380125fbd9b6cd3418"
   }
  }
 },
 "nbformat": 4,
 "nbformat_minor": 2
}
