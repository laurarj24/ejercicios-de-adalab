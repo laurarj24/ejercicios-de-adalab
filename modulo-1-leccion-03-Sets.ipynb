{
 "cells": [
  {
   "cell_type": "markdown",
   "metadata": {
    "id": "5PcBreuKcX1-"
   },
   "source": [
    "\n",
    "---\n",
    "\n",
    "# Ejercicios:\n",
    "\n",
    "- Definir sets\n",
    "\n",
    "  1. Define la *lista* \n",
    "        ```python\n",
    "        temperaturas_diciembre = [10, 10, 13, 14, 12, 15, \n",
    "                                  12, 11, 13, 17, 18, 15, \n",
    "                                  15, 17, 17, 13, 13, 11,\n",
    "                                  12, 10, 12, 14, 12, 12,\n",
    "                                  11, 12, 16, 16, 14, 17, 18]\n",
    "        ```\n",
    "  2. Conviértala en un set  llamado `diciembre`.\n",
    "\n",
    "  3. Piensa en 6 colores y almacenalos en un set llamado `colores`.\n",
    "\n"
   ]
  },
  {
   "cell_type": "code",
   "execution_count": 1,
   "metadata": {},
   "outputs": [
    {
     "name": "stdout",
     "output_type": "stream",
     "text": [
      "{10, 11, 12, 13, 14, 15, 16, 17, 18}\n",
      "<class 'set'>\n",
      "{'blanco', 'amarillo', 'azul', 'verde', 'violeta', 'negro'}\n"
     ]
    }
   ],
   "source": [
    "# Definir sets\n",
    "\n",
    "# 1. Define la *lista* \n",
    "\n",
    "temperaturas_diciembre = [10, 10, 13, 14, 12, 15, 12, 11, 13, 17, 18, 15, 15, 17, 17, 13, 13, 11, 12, 10, 12, 14, 12, 12, 11, 12, 16, 16, 14, 17, 18]\n",
    "\n",
    "# 2. Conviértala en un set  llamado `diciembre`.\n",
    "\n",
    "diciembre = set(temperaturas_diciembre)\n",
    "\n",
    "print(diciembre)\n",
    "print(type(diciembre))\n",
    "\n",
    "# 3. Piensa en 6 colores y almacenalos en un set llamado `colores`.\n",
    "\n",
    "colores = {\"azul\", \"amarillo\", \"blanco\", \"violeta\", \"negro\", \"verde\"}\n",
    "print(colores)"
   ]
  },
  {
   "cell_type": "markdown",
   "metadata": {},
   "source": [
    "- Ampliar sets\n",
    "\n",
    "  4. Añade `'lila'` a `colores`.\n",
    "\n",
    "  5. Añade `'azul'`, `'rojo'`, y `'granate'` a `colores` usando `.update()`.\n",
    "\n"
   ]
  },
  {
   "cell_type": "code",
   "execution_count": 2,
   "metadata": {},
   "outputs": [
    {
     "name": "stdout",
     "output_type": "stream",
     "text": [
      "{'blanco', 'lila', 'amarillo', 'azul', 'verde', 'violeta', 'negro'}\n",
      "{'blanco', 'azul', 'granate', 'negro', 'lila', 'rpkp', 'verde', 'amarillo', 'violeta'}\n"
     ]
    }
   ],
   "source": [
    "# Ampliar sets\n",
    "\n",
    "# 4. Añade `'lila'` a `colores`.\n",
    "colores.add(\"lila\")\n",
    "print(colores)\n",
    "\n",
    "# 5. Añade `'azul'`, `'rojo'`, y `'granate'` a `colores` usando `.update()`.\n",
    "\n",
    "colores_añadir = [\"azul\", \"rpkp\", \"granate\"]\n",
    "colores.update(colores_añadir)\n",
    "print(colores)"
   ]
  },
  {
   "cell_type": "markdown",
   "metadata": {},
   "source": [
    "- `in`, `not in`\n",
    "\n",
    "  6. Tu set de `colores`, ¿tiene `'verde'`?\n",
    "  \n",
    "  7. ¿Y tiene `'ROJO'`?\n",
    "\n",
    "\n"
   ]
  },
  {
   "cell_type": "code",
   "execution_count": 3,
   "metadata": {},
   "outputs": [
    {
     "name": "stdout",
     "output_type": "stream",
     "text": [
      "¿Tiene verde mi set de colores? =>   True\n",
      "¿Tiene ROJO mi set de colores? =>   False\n"
     ]
    }
   ],
   "source": [
    "#`in`, `not in`\n",
    "\n",
    "# 6. Tu set de `colores`, ¿tiene `'verde'`?\n",
    "\n",
    "print(\"¿Tiene verde mi set de colores? =>  \", \"verde\" in colores)\n",
    "  \n",
    "# 7. ¿Y tiene `'ROJO'`?\n",
    "\n",
    "print(\"¿Tiene ROJO mi set de colores? =>  \", \"ROJO\" in colores)"
   ]
  },
  {
   "cell_type": "markdown",
   "metadata": {},
   "source": [
    "- Copiar, borrar elementos\n",
    "\n",
    "  8. Define el set `enero` para que sea igual a `diciembre`.\n",
    "\n",
    "  9. Quita las temperaturas `17`, y `18` de `enero`."
   ]
  },
  {
   "cell_type": "code",
   "execution_count": 9,
   "metadata": {},
   "outputs": [
    {
     "name": "stdout",
     "output_type": "stream",
     "text": [
      "{10, 11, 12, 13, 14, 15, 16, 17, 18}\n",
      "{10, 11, 12, 13, 14, 15, 16, 17, 18}\n",
      "{10, 11, 12, 13, 14, 15, 16}\n"
     ]
    }
   ],
   "source": [
    "# Copiar, borrar elementos\n",
    "\n",
    "# 8. Define el set `enero` para que sea igual a `diciembre`.\n",
    "\n",
    "enero = diciembre.copy()\n",
    "print(enero)\n",
    "print(diciembre)\n",
    "\n",
    "# 9. Quita las temperaturas `17`, y `18` de `enero`.\n",
    "\n",
    "enero.remove(17)\n",
    "enero.remove(18)\n",
    "print(enero)\n"
   ]
  },
  {
   "cell_type": "markdown",
   "metadata": {},
   "source": [
    "- Tamaño de un set\n",
    "\n",
    "  10. ¿Cuántas temperaturas distintas había en diciembre?\n",
    "  \n",
    "  11. ¿Y cuántas en enero?"
   ]
  },
  {
   "cell_type": "code",
   "execution_count": 10,
   "metadata": {},
   "outputs": [
    {
     "name": "stdout",
     "output_type": "stream",
     "text": [
      "9\n",
      "7\n"
     ]
    }
   ],
   "source": [
    "''' Tamaño de un set '''\n",
    "\n",
    "# 10. ¿Cuántas temperaturas distintas había en diciembre?\n",
    "print(len(diciembre))\n",
    "# 11. ¿Y cuántas en enero?\n",
    "print(len(enero))"
   ]
  },
  {
   "cell_type": "markdown",
   "metadata": {},
   "source": [
    "- Conjuntos con sets\n",
    "\n",
    "  12. Identifica los elementos que hay en `diciembre` que no están en `enero`.\n",
    "\n",
    "  13. Identifica los elementos que hay en `enero` que no están en `diciembre`.\n",
    "\n",
    "  14. Identifica los elementos que tienen en común `diciembre` y `enero`.\n",
    "\n",
    "  15. Identifica la diferencia simétrica de `colores` y `{'marrón','amarillo','cyan'}`. ¿Qué significa este resultado?\n",
    "\n"
   ]
  },
  {
   "cell_type": "code",
   "execution_count": 18,
   "metadata": {},
   "outputs": [
    {
     "name": "stdout",
     "output_type": "stream",
     "text": [
      "{17, 18}\n",
      "set()\n",
      "{10, 11, 12, 13, 14, 15, 16}\n",
      "{'lila', 'cyan', 'marrón', 'verde', 'blanco', 'rojo', 'azul', 'violeta', 'negro', 'granate'}\n"
     ]
    }
   ],
   "source": [
    "''' Conjuntos con sets '''\n",
    "\n",
    "# 12. Identifica los elementos que hay en `diciembre` que no están en `enero`.\n",
    "\n",
    "diferencia1 = diciembre.difference(enero)\n",
    "print(diferencia1)\n",
    "\n",
    "# 13. Identifica los elementos que hay en `enero` que no están en `diciembre`.\n",
    "\n",
    "diferencia2 = enero.difference(diciembre)\n",
    "print(diferencia2)\n",
    "\n",
    "# 14. Identifica los elementos que tienen en común `diciembre` y `enero`.\n",
    "print(enero.intersection(diciembre))\n",
    "\n",
    "# 15. Identifica la diferencia simétrica de `colores` y `{'marrón','amarillo','cyan'}`. ¿Qué significa este resultado?\n",
    "colores = {'blanco', 'azul', 'granate', 'negro', 'lila', 'rojo', 'verde', 'amarillo', 'violeta'}\n",
    "\n",
    "print(colores.symmetric_difference({'marrón','amarillo','cyan'}))\n",
    "# el resultado que muestra la diferencia simetrica son todos los colores que no comparten los conjuntos, los que tiene uno que no tiene el otro y viceversa"
   ]
  },
  {
   "cell_type": "markdown",
   "metadata": {},
   "source": [
    "- Comparar sets\n",
    "\n",
    "  16. ¿Son *disjoint* `diciembre` y `enero`? ¿Por qué (no)?\n",
    "\n",
    "  17. ¿Es `{'rojo','azul'}` un superset de colores?\n",
    "  \n",
    "  18. ¿Y un subset?\n",
    "\n",
    "---"
   ]
  },
  {
   "cell_type": "code",
   "execution_count": 21,
   "metadata": {},
   "outputs": [
    {
     "name": "stdout",
     "output_type": "stream",
     "text": [
      "False\n",
      "False\n",
      "True\n"
     ]
    }
   ],
   "source": [
    "''' Comparar sets '''\n",
    "\n",
    "# 16. ¿Son *disjoint* `diciembre` y `enero`? ¿Por qué (no)?\n",
    "\n",
    "print(enero.isdisjoint(diciembre))\n",
    "# no son disjoint porque presentan elementos en comun\n",
    "\n",
    "# 17. ¿Es `{'rojo','azul'}` un superset de colores?\n",
    "\n",
    "print({\"rojo\",\"azul\"}.issuperset(colores))\n",
    "  \n",
    "# 18. ¿Y un subset?\n",
    "\n",
    "print({'rojo', 'azul'}.issubset(colores))\n"
   ]
  }
 ],
 "metadata": {
  "interpreter": {
   "hash": "8560ba40f25f8debc3b21cfdc72602d7855270eb253b25380125fbd9b6cd3418"
  },
  "kernelspec": {
   "display_name": "Python 3 (ipykernel)",
   "language": "python",
   "name": "python3"
  },
  "language_info": {
   "codemirror_mode": {
    "name": "ipython",
    "version": 3
   },
   "file_extension": ".py",
   "mimetype": "text/x-python",
   "name": "python",
   "nbconvert_exporter": "python",
   "pygments_lexer": "ipython3",
   "version": "3.11.9"
  },
  "toc": {
   "base_numbering": 1,
   "nav_menu": {},
   "number_sections": true,
   "sideBar": true,
   "skip_h1_title": false,
   "title_cell": "Table of Contents",
   "title_sidebar": "Contents",
   "toc_cell": true,
   "toc_position": {
    "height": "calc(100% - 180px)",
    "left": "10px",
    "top": "150px",
    "width": "307.2px"
   },
   "toc_section_display": true,
   "toc_window_display": true
  }
 },
 "nbformat": 4,
 "nbformat_minor": 2
}
