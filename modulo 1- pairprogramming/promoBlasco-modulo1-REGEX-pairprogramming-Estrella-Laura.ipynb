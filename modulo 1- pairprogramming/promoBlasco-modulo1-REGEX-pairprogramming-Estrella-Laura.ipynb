{
 "cells": [
  {
   "cell_type": "code",
   "execution_count": 1,
   "metadata": {},
   "outputs": [],
   "source": [
    "import re"
   ]
  },
  {
   "cell_type": "code",
   "execution_count": 2,
   "metadata": {},
   "outputs": [
    {
     "name": "stdout",
     "output_type": "stream",
     "text": [
      "(123) 456-7890\n",
      "178 1890-733\n",
      "(555) 238-1987\n",
      "(123) 4560-7890\n",
      "(ABC) 098-1111\n",
      "['(123) 456-7890', '(555) 238-1987']\n"
     ]
    }
   ],
   "source": [
    "# Ejercicio 1: Validar un número de teléfono.\n",
    "''' Descripción: Verificar si una cadena representa un número de teléfono válido en el formato (XXX) XXX-XXXX.\n",
    "Probad para cada uno de los teléfonos que tenemos en la siguiente lista: '''\n",
    "\n",
    "telefonos = [\"(123) 456-7890\", \"178 1890-733\", \"(555) 238-1987\", \"(123) 4560-7890\", \"(ABC) 098-1111\"]\n",
    "telefonos_validos = []\n",
    "for telefono in telefonos:\n",
    "    print(telefono)\n",
    "    telefono_comprobacion = re.findall(r\"\\(\\d{3}\\)\\s\\d{3}\\-\\d{4}\", telefono)\n",
    "    \n",
    "    if len(telefono_comprobacion) > 0:\n",
    "        telefonos_validos.append(telefono)\n",
    "    \n",
    "print(telefonos_validos)\n",
    "\n",
    "# los teléfonos que cumplen el patrón son el que está en posición 0, y el que está en posición 2"
   ]
  },
  {
   "cell_type": "code",
   "execution_count": 3,
   "metadata": {},
   "outputs": [
    {
     "name": "stdout",
     "output_type": "stream",
     "text": [
      "['user@example.com', 'john.doe@email.com']\n"
     ]
    }
   ],
   "source": [
    "# Ejercicio 2:  Buscar todas las direcciones de correo electrónico en un texto.\n",
    "''' Descripción: Encontrar todas las direcciones de correo electrónico presentes en una cadena de texto.\n",
    "Probad con el siguiente string: '''\n",
    "\n",
    "texto = \"Mi correo es user@example.com. Contacta conmigo en john.doe@email.com\"\n",
    "\n",
    "correo_electronico = re.findall(r\"[a-zA-Z.0-9]+\\@\\w+\\.com\", texto)\n",
    "\n",
    "print(correo_electronico)"
   ]
  },
  {
   "cell_type": "code",
   "execution_count": 4,
   "metadata": {},
   "outputs": [
    {
     "name": "stdout",
     "output_type": "stream",
     "text": [
      "['12345', '78409', '19305']\n"
     ]
    }
   ],
   "source": [
    "# Ejercicio 3: Validar un código postal.\n",
    "''' Descripción: Verificar si una cadena representa un código postal válido de 5 dígitos.\n",
    "Probad para cada uno de los códigos postales que tenemos en la siguiente lista:'''\n",
    "\n",
    "codigos_postales = [\"12345\", \"190037\", \"78409\", \"986449\", \"19305\"]\n",
    "\n",
    "codigos_validos = []\n",
    "\n",
    "for codigo in codigos_postales:\n",
    "    codigos_check = re.findall(r\"^\\d{5}$\", codigo) \n",
    "    # tengo que delimitar donde empieza y donde acaba el patrón, porque si no me devolvería los codigos de 5 o mas digitos, y quiero que SOLO tenga 5\n",
    "    if len(codigos_check) > 0:\n",
    "        codigos_validos.append(codigo)\n",
    "        \n",
    "print(codigos_validos)"
   ]
  },
  {
   "cell_type": "code",
   "execution_count": 5,
   "metadata": {},
   "outputs": [
    {
     "name": "stdout",
     "output_type": "stream",
     "text": [
      "['El', 'está', 'Ana', 'una', 'es']\n"
     ]
    }
   ],
   "source": [
    "# Ejercicio 4: Encontrar todas las palabras que comienzan con una vocal en un texto.\n",
    "''' Descripción: Encontrar todas las palabras en un texto que comienzan con una vocal (a, e, i, o, u).\n",
    "Probad con el siguiente string: '''\n",
    "\n",
    "texto = \"El perro está ladrando. Ana tiene una manzana. La casa es grande.\"\n",
    "texto = texto.split(\" \")\n",
    "palabras_empiezan_por_vocal = []\n",
    "for palabra in texto:\n",
    "    palabra_check = re.findall(r\"^[aeiouAEIOU]\\w+\", palabra)\n",
    "    if len(palabra_check) > 0:\n",
    "        palabras_empiezan_por_vocal.append(palabra)\n",
    "\n",
    "print(palabras_empiezan_por_vocal)\n",
    "    "
   ]
  },
  {
   "cell_type": "code",
   "execution_count": 6,
   "metadata": {},
   "outputs": [
    {
     "data": {
      "text/plain": [
       "['#deporte', '#FelizViernes', '#Tech2022']"
      ]
     },
     "execution_count": 6,
     "metadata": {},
     "output_type": "execute_result"
    }
   ],
   "source": [
    "# Ejercicio 5: Extraer todos los hashtags de un texto.\n",
    "''' Descripción: Extraer todos los hashtags (#) presentes en una cadena de texto.\n",
    "Probad con el siguiente string:'''\n",
    "\n",
    "texto = \"Me encanta el #deporte. #FelizViernes a todos. Estoy en la conferencia #Tech2022.\"\n",
    "\n",
    "hashtags = re.findall(r\"#\\w+\",texto)\n",
    "hashtags"
   ]
  },
  {
   "cell_type": "code",
   "execution_count": 7,
   "metadata": {},
   "outputs": [
    {
     "name": "stdout",
     "output_type": "stream",
     "text": [
      "['19.99', '25.5', '2.5']\n"
     ]
    }
   ],
   "source": [
    "# Ejercicio 6: Buscar todos los números decimales en una cadena de texto.\n",
    "''' Descripción: Encontrar todos los números decimales presentes en una cadena de texto.\n",
    "Probad con el siguiente string:'''\n",
    "\n",
    "texto = \"El precio es $19.99. La temperatura es 25.5°C. El índice de inflación es del 2.5%.\"     \n",
    "\n",
    "numeros_decimales = re.findall(r\"\\d+.\\d+\", texto)\n",
    "\n",
    "print(numeros_decimales)"
   ]
  },
  {
   "cell_type": "code",
   "execution_count": 8,
   "metadata": {},
   "outputs": [
    {
     "name": "stdout",
     "output_type": "stream",
     "text": [
      "['juan_doe123', 'lola_12', '12marta_lopez']\n"
     ]
    }
   ],
   "source": [
    "# Ejercicio 7: Validar un nombre de usuario.\n",
    "''' Descripción: Verificar si una cadena representa un nombre de usuario válido, que contiene solo letras minúsculas, números y guiones bajos (_).\n",
    "Probad con la siguiente lista de usuarios:'''\n",
    "\n",
    "lista_usuarios = [\"juan_doe123\", \"lola_12\", \"Aurora_23\", \"12marta_lopez\"]\n",
    "lista_usuarios_valida = []\n",
    "\n",
    "for usuario in lista_usuarios:\n",
    "    usuario_check = re.findall(r\"^[a-z0-9_]\", usuario)\n",
    "    if len(usuario_check) > 0:\n",
    "        lista_usuarios_valida.append(usuario)\n",
    "    \n",
    "\n",
    "print(lista_usuarios_valida)\n"
   ]
  },
  {
   "cell_type": "code",
   "execution_count": 9,
   "metadata": {},
   "outputs": [
    {
     "name": "stdout",
     "output_type": "stream",
     "text": [
      "['31/12/2022', '01/01/2023', '15/05/1990']\n"
     ]
    }
   ],
   "source": [
    "# Ejercicio 8: Encontrar todas las fechas en formato \"dd/mm/aaaa\" en un texto.\n",
    "''' Descripción: Encontrar todas las fechas válidas en formato \"dd/mm/aaaa\" presentes en una cadena de texto.\n",
    "Probad con el siguiente string:'''\n",
    "\n",
    "texto = \"La fecha límite es el 31/12/2022. Hoy es 01/01/2023. Cumpleaños: 15/05/1990.\"\n",
    "\n",
    "fecha_valida = re.findall(r\"\\d{2}.\\d{2}.\\d{4}\", texto)\n",
    "\n",
    "print(fecha_valida)"
   ]
  },
  {
   "cell_type": "code",
   "execution_count": 10,
   "metadata": {},
   "outputs": [
    {
     "name": "stdout",
     "output_type": "stream",
     "text": [
      "Hola cómo estás Todo bien\n"
     ]
    }
   ],
   "source": [
    "# Ejercicio 9: Remover caracteres especiales.\n",
    "''' Descripción: Dada una cadena de texto, remover cualquier carácter especial, como signos de puntuación y símbolos.\n",
    "Probad con el siguiente string:'''\n",
    "\n",
    "texto = '¡Hola, cómo estás? ¿Todo bien?'\n",
    "\n",
    "texto_depurado = re.sub(r\"[!¡¿?,_-]\",\"\", texto)\n",
    "\n",
    "print(texto_depurado)"
   ]
  },
  {
   "cell_type": "code",
   "execution_count": 40,
   "metadata": {},
   "outputs": [
    {
     "name": "stdout",
     "output_type": "stream",
     "text": [
      "['El', 'nombre', 'del', 'cliente', 'es', '****', '***', 'y', 'su', 'dirección', 'es', '123', '****', '*******']\n",
      "El  nombre  del  cliente  es  ****  ***  y  su  dirección  es  123  ****  *******\n"
     ]
    }
   ],
   "source": [
    "# Ejercicio 10 (BONUS): Enmascarar información personal.\n",
    "''' Descripción: Dada una cadena de texto que contiene información personal, como nombres y direcciones, enmascarar esta información reemplazándola con asteriscos (*).\n",
    "Probad con este string:'''\n",
    "\n",
    "\n",
    "texto = 'El nombre del cliente es John Doe y su dirección es 123 Main Street.'\n",
    "texto = texto.split(\" \")\n",
    "texto_limpiado = []\n",
    "\n",
    "for palabra in texto:\n",
    "    if len(texto_limpiado) == 0:\n",
    "        texto_limpiado.append(palabra)\n",
    "    else:   \n",
    "        if \"*\" in re.sub(r\"\\b[A-Z][a-z]+\\b\", \"*\", palabra):\n",
    "            texto_limpiado.append(palabra.replace(palabra, \"*\" * len(palabra)))\n",
    "        else:\n",
    "            texto_limpiado.append(palabra)\n",
    "            \n",
    "print(texto_limpiado)\n",
    "\n",
    "texto = \", \".join(texto_limpiado).replace(\",\", \" \")\n",
    "\n",
    "print(texto)"
   ]
  }
 ],
 "metadata": {
  "kernelspec": {
   "display_name": "Python 3",
   "language": "python",
   "name": "python3"
  },
  "language_info": {
   "codemirror_mode": {
    "name": "ipython",
    "version": 3
   },
   "file_extension": ".py",
   "mimetype": "text/x-python",
   "name": "python",
   "nbconvert_exporter": "python",
   "pygments_lexer": "ipython3",
   "version": "3.11.9"
  }
 },
 "nbformat": 4,
 "nbformat_minor": 2
}
