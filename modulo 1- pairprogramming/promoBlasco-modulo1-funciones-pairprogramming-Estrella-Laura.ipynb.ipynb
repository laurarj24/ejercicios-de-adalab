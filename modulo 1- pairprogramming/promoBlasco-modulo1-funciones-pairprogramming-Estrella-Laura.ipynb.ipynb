{
 "cells": [
  {
   "cell_type": "markdown",
   "metadata": {},
   "source": [
    "## FUNCIONES"
   ]
  },
  {
   "cell_type": "code",
   "execution_count": 28,
   "metadata": {},
   "outputs": [
    {
     "name": "stdout",
     "output_type": "stream",
     "text": [
      "78.53981633974483\n"
     ]
    },
    {
     "data": {
      "text/plain": [
       "78.53981633974483"
      ]
     },
     "execution_count": 28,
     "metadata": {},
     "output_type": "execute_result"
    }
   ],
   "source": [
    "# Ejercicio 1: Calcular el área de un círculo.\n",
    "'''Descripción: Crea una función llamada calcular_area_circulo que tome el radio como parámetro \n",
    "y devuelva el área del círculo.'''\n",
    "\n",
    "import math\n",
    "\n",
    "def calcular_area_circulo (radio):\n",
    "\n",
    "    area = math.pi * radio **2\n",
    "    print(area)\n",
    "    return area\n",
    "\n",
    "calcular_area_circulo(5)"
   ]
  },
  {
   "cell_type": "code",
   "execution_count": 29,
   "metadata": {},
   "outputs": [
    {
     "name": "stdout",
     "output_type": "stream",
     "text": [
      "27\n",
      "27\n"
     ]
    },
    {
     "data": {
      "text/plain": [
       "27"
      ]
     },
     "execution_count": 29,
     "metadata": {},
     "output_type": "execute_result"
    }
   ],
   "source": [
    "# Ejercicio 2: Contar la cantidad de caracteres en una cadena.\n",
    "'''Descripción: Crea una función llamada contar_caracteres que tome una cadena como parámetro \n",
    "y devuelva la cantidad de caracteres que contiene.'''\n",
    "def cantidad_de_caracteres(cadena):\n",
    "    lista_letra = []\n",
    "    for letra in cadena:\n",
    "        lista_letra.append(letra)\n",
    "    print(len(lista_letra))\n",
    "    return len(lista_letra)\n",
    "        \n",
    "\n",
    "cantidad_de_caracteres (\"Hola que tal como te llamas\")\n",
    "\n",
    "# otra forma\n",
    "\n",
    "def cantidad_de_caracteres_2(cadena):\n",
    "    lista_cadena = list(cadena)\n",
    "    print(len(lista_cadena))\n",
    "    return(len(lista_cadena))\n",
    "\n",
    "cantidad_de_caracteres_2 (\"Hola que tal como te llamas\")"
   ]
  },
  {
   "cell_type": "code",
   "execution_count": 30,
   "metadata": {},
   "outputs": [
    {
     "name": "stdout",
     "output_type": "stream",
     "text": [
      "False\n",
      "True\n"
     ]
    }
   ],
   "source": [
    "# Ejercicio 3: Determinar si una cadena es un palíndromo.\n",
    "'''Descripción: Crea una función llamada es_palindromo que tome una cadena \n",
    "como parámetro y devuelva True si es un palíndromo, o False si no lo es.'''\n",
    "\n",
    "def es_palindromo (palabra):\n",
    "\n",
    "    lista_original = list(palabra)\n",
    "    lista_inv = lista_original.copy() \n",
    "    # Hago copia porque el metodo reverse modifica la lista sobre la que se aplica, alterandola\n",
    "    lista_inv.reverse()\n",
    "        \n",
    "    if lista_original == lista_inv:\n",
    "\n",
    "        return True\n",
    "    else:\n",
    "        return False\n",
    "        \n",
    "\n",
    "print(es_palindromo(\"anilinaaaaa\"))\n",
    "print(es_palindromo(\"anilina\"))"
   ]
  },
  {
   "cell_type": "code",
   "execution_count": 31,
   "metadata": {},
   "outputs": [
    {
     "name": "stdout",
     "output_type": "stream",
     "text": [
      "2.0\n"
     ]
    }
   ],
   "source": [
    "# Ejercicio 4: Calcular el promedio de una lista de números.\n",
    "'''Descripción: Crea una función llamada calcular_promedio que tome una lista \n",
    "de números como parámetro y devuelva el promedio de todos sus elementos.'''\n",
    "\n",
    "def promedio (lista):\n",
    "  sum = 0\n",
    "  for i in lista:\n",
    "    sum =  i + sum\n",
    "  media = sum/len(lista)\n",
    "  return media\n",
    "\n",
    "lista = [1,2,3]\n",
    "\n",
    "print(promedio(lista))\n",
    "    \n",
    "    \n",
    "\n"
   ]
  },
  {
   "cell_type": "code",
   "execution_count": 32,
   "metadata": {},
   "outputs": [
    {
     "name": "stdout",
     "output_type": "stream",
     "text": [
      "61.051000000000045\n"
     ]
    }
   ],
   "source": [
    "# Ejercicio 5: Calcular el interés compuesto.\n",
    "'''Descripción: Crea una función llamada calcular_interes_compuesto que tome el capital \n",
    "inicial, la tasa de interés y el número de períodos como parámetros y devuelva el beneficio \n",
    "final después del interés compuesto.'''\n",
    "\n",
    "# la formula del interes compuesto es => capital final = capital inicial (1+tasa interes)** periodo ahorro\n",
    "\n",
    "capital_inicial = int(input(\"Dime cual es tu capital\"))\n",
    "tasa_interes = 0.1\n",
    "periodo_inversion_años = int(input(\"Cuanto tiempo vas a dejar el dinero en una cuenta de ahorro\"))\n",
    "\n",
    "def calcular_interes_compuesto (capital_inicial, tasa_interes, periodo_inversion_años):\n",
    "    capital_final = capital_inicial * (1 + tasa_interes)**periodo_inversion_años\n",
    "    beneficio = capital_final - capital_inicial\n",
    "    return beneficio\n",
    "\n",
    "print(calcular_interes_compuesto(capital_inicial, tasa_interes, periodo_inversion_años))\n",
    "    \n",
    "\n"
   ]
  },
  {
   "cell_type": "code",
   "execution_count": 33,
   "metadata": {},
   "outputs": [
    {
     "name": "stdout",
     "output_type": "stream",
     "text": [
      "True\n"
     ]
    }
   ],
   "source": [
    "# Ejercicio 6: Validar si una palabra es un anagrama de otra\n",
    "'''Descripción: Crea una función llamada es_anagrama que tome dos palabras como parámetros \n",
    "y devuelva True si una es un anagrama de la otra, o False si no lo es.'''\n",
    "'''Cambio en el orden de las letras de una palabra o frase que da lugar a otra palabra o frase distinta.'''\n",
    "\n",
    "def es_anagrama (palabra1, palabra2):\n",
    "    palabra1 = set(palabra1)\n",
    "    palabra2 = set(palabra2)\n",
    "    if palabra1 == palabra2:\n",
    "        anagrama = True\n",
    "    else: \n",
    "        anagrama = False\n",
    "    return anagrama\n",
    "\n",
    "print(es_anagrama(\"roma\", \"omra\"))\n",
    "       \n",
    "\n"
   ]
  },
  {
   "cell_type": "code",
   "execution_count": 34,
   "metadata": {},
   "outputs": [
    {
     "name": "stdout",
     "output_type": "stream",
     "text": [
      "False\n",
      "True\n"
     ]
    }
   ],
   "source": [
    "# Ejercicio 7: Validar si una cadena de texto es un isograma.\n",
    "'''Descripción: Crea una función llamada es_isograma que tome una cadena de \n",
    "texto como parámetro y devuelva True si es un isograma. En caso contrario, devuelve False.'''\n",
    "'''¿Qué es un isograma? Una palabra que no contiene letras repetidas.'''\n",
    "\n",
    "def es_isograma(palabra):\n",
    "  palabra = palabra.lower() # para que considere iguales la misma letra sin importar si está en mayuscula o en minuscula\n",
    "  lista = []\n",
    "  for i in palabra:\n",
    "    if i in lista:\n",
    "      return False \n",
    "    else:\n",
    "      lista.append(i)\n",
    "  return True\n",
    "\n",
    "print(es_isograma(\"holaaaaaa\"))\n",
    "\n",
    "# Hacemos un primer bucle for que itera las letras de la palabra y va incorporandolas en una lista vacia, \n",
    "# siempre y cuando no esté ya en ella, para lo cual hacemos un if else, primero verifica si la palabra no esta en la lista, si no está, \n",
    "# la incorpora con un append, y si ya está esa letra en la lista retorna un false y para el bucle.   \n",
    "\n",
    "# otra forma usando conjuntos, como en sets no puede haber elementos repetidos se podría también hacer una funcion usando sets\n",
    "\n",
    "def es_isograma_2(cadena):\n",
    "  cadena_sin_duplicados = set(cadena)\n",
    "  \n",
    "  #como el metodo len es aplicable tanto para sets como para cadenas lo podemos usar para comparar numero caracteres\n",
    "  if len(cadena_sin_duplicados) == len(cadena):\n",
    "\n",
    "    return True\n",
    "  else:\n",
    "    return False\n",
    "  \n",
    "print(es_isograma_2(\"hola\")) "
   ]
  },
  {
   "cell_type": "code",
   "execution_count": 35,
   "metadata": {},
   "outputs": [
    {
     "name": "stdout",
     "output_type": "stream",
     "text": [
      " Hola que tal ¿como estás?\n"
     ]
    }
   ],
   "source": [
    "# Ejercicio 8: Concatenar múltiples cadenas de texto\n",
    "'''Descripción: Crea una función llamada concatenar_cadenas que tome una cantidad variable de cadenas de texto como argumentos \n",
    "y devuelva una única cadena que contenga la concatenación de todas las cadenas ingresadas.'''\n",
    "\n",
    "def concatenar_cadenas (*args):\n",
    "    frase = ''\n",
    "    for palabra in args:\n",
    "        frase = frase + ' ' + palabra \n",
    "        # añado un espacio entre frase y palabra para que las palabras no las ponga juntas\n",
    "        \n",
    "    return frase\n",
    "\n",
    "palabra1 = \"Hola\"\n",
    "palabra2 = \"que tal\"\n",
    "palabra3 = \"¿como estás?\"\n",
    "\n",
    "print(concatenar_cadenas(palabra1, palabra2, palabra3))"
   ]
  },
  {
   "cell_type": "code",
   "execution_count": 36,
   "metadata": {},
   "outputs": [
    {
     "name": "stdout",
     "output_type": "stream",
     "text": [
      "{'Nombre': 'Laura', 'Apellido': 'Romero', 'Edad': 33}\n"
     ]
    }
   ],
   "source": [
    "# Ejercicio 9: Crear un diccionario con información de una persona.\n",
    "''' Descripción: Crea una función llamada crear_persona que tome como argumentos clave-valor los datos de una persona, \n",
    "como nombre, edad, ciudad, etc., y devuelva un diccionario con toda la información ingresada.'''\n",
    "\n",
    "def crear_persona(**persona):\n",
    "    diccionario = {\"Nombre\":persona[\"Nombre\"], \"Apellido\" : persona[\"Apellido\"], \"Edad\":persona[\"Edad\"]}\n",
    "    return diccionario\n",
    "\n",
    "print(crear_persona (Nombre = \"Laura\", Apellido = \"Romero\",  Edad = 33))"
   ]
  },
  {
   "cell_type": "code",
   "execution_count": 37,
   "metadata": {},
   "outputs": [
    {
     "name": "stdout",
     "output_type": "stream",
     "text": [
      "3\n",
      "8\n",
      "[3, 8]\n"
     ]
    }
   ],
   "source": [
    "# Ejercicio 10: Encontrar el número que falta en una lista ordenada de números consecutivos.\n",
    "''' Descripción: Crea una función llamada encontrar_numero_faltante que tome una lista de números consecutivos \n",
    "(del 1 al N, sin repetir) con un número faltante y devuelva ese número faltante.'''\n",
    "\n",
    "def encontrar_numero_faltante (*args):\n",
    "    # lo primero que hago es incluir los numeros que aportemos en una lista y la ordeno de manera ascendente. \n",
    "    \n",
    "    lista = list(args) \n",
    "    lista.sort()\n",
    "    lista_2 = []\n",
    "    for i in lista:\n",
    "        # si el numero es el primero de la lista no quiero que haga nada\n",
    "        if lista[0] == i:\n",
    "            pass\n",
    "        else: \n",
    "            if i-1 not in lista: \n",
    "                '''desde el segundo numero de la lista (en posicion 1) quiero que verifique si ese numero menos 1 está en la lista, \n",
    "                si no está indico que me agregue a lista_2 ese elemento-1(que sería el numero faltante)'''\n",
    "                lista_2.append(i-1)\n",
    "                print(i-1)\n",
    "        \n",
    "    return lista_2\n",
    "            \n",
    "\n",
    "print(encontrar_numero_faltante(0,1,2,4,5,6,7,9,10))\n",
    "    \n",
    "        \n",
    "        "
   ]
  },
  {
   "cell_type": "code",
   "execution_count": 46,
   "metadata": {},
   "outputs": [
    {
     "name": "stdout",
     "output_type": "stream",
     "text": [
      "[1]\n"
     ]
    }
   ],
   "source": [
    "# Ejercicio 11: Encontrar el elemento duplicado en una lista de números.\n",
    "''' Descripción: Crea una función llamada encontrar_duplicado que tome una lista de números enteros y devuelva \n",
    "el elemento que está duplicado en la lista.'''\n",
    "\n",
    "def encontrar_duplicado (*args):\n",
    "    # lo primero que hago es incluir los numeros que aportemos en una lista y la ordeno de manera ascendente. \n",
    "    \n",
    "    lista = list(args) \n",
    "    lista.sort()\n",
    "    set_numeros_dup = set() # creo un complejo vacio para ir metiendo los elementos duplicados de la lista pero solo una vez\n",
    "    for i in lista:\n",
    "        if lista.count(i) > 1:\n",
    "            set_numeros_dup.add(i)\n",
    "            \n",
    "    return list(set(set_numeros_dup)) # devuelvo los elementos del complejo en una lista\n",
    "            \n",
    "\n",
    "print(encontrar_duplicado(0,1,1,2,4,5,6,7,9,10))\n",
    "    \n",
    "        "
   ]
  }
 ],
 "metadata": {
  "kernelspec": {
   "display_name": "Python 3",
   "language": "python",
   "name": "python3"
  },
  "language_info": {
   "codemirror_mode": {
    "name": "ipython",
    "version": 3
   },
   "file_extension": ".py",
   "mimetype": "text/x-python",
   "name": "python",
   "nbconvert_exporter": "python",
   "pygments_lexer": "ipython3",
   "version": "3.11.9"
  }
 },
 "nbformat": 4,
 "nbformat_minor": 2
}
