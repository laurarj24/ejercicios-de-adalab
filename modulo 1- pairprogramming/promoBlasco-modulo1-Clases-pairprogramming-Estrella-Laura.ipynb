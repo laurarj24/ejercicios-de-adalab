{
 "cells": [
  {
   "cell_type": "markdown",
   "metadata": {},
   "source": [
    "## Clases\n",
    "\n",
    "En este ejercicio de pair programming, vamos a crear una clase para gestionar la información de los empleados de nuestra empresa. Siguiendo las indicaciones del jefe, necesitamos organizar los datos de cada empleado de manera más estructurada.\n",
    "\n",
    "La clase Empleados permite gestionar información relacionada con los empleados de una empresa, con las siguientes características:\n",
    "\n",
    "Debes crear una clase llamada \"Empleados\" que tenga los siguientes atributos: nombre, apellidos, edad, posicion, año , vacaciones(cantidad de días de vacaciones que le quedan al empleado) y herramientas.\n",
    "\n",
    "El constructor __init__ debe recibir estos atributos como parámetros y asignarlos a los respectivos atributos de la clase.\n",
    "\n",
    "Los atributos representan la información personal y profesional de un empleado, como su nombre completo, edad, posición en la empresa, año de ingreso, días de vacaciones disponibles y una lista de herramientas que el empleado sabe utilizar."
   ]
  },
  {
   "cell_type": "markdown",
   "metadata": {},
   "source": [
    "Los métodos que debe recibir esta clase son:\n",
    "\n",
    "1 - Método descripcion: Proporciona una descripción del empleado, incluyendo su nombre, posición en la empresa, y la cantidad de días de vacaciones que le quedan para el año actual. Los pasos para resolver el ejercicio del método descripcion son:\n",
    "\n",
    "- Utilizar F-Strings: Utiliza f-strings para construir la descripción del empleado de manera legible y eficiente.\n",
    "\n",
    "- Especificar los Atributos a Incluir: Determina cuáles de los atributos del empleado se deben incluir en la descripción. Los atributos necesarios son nombre, posicion, año, y vacaciones.\n",
    "\n",
    "- Concatenar los Atributos: Usar f-strings para concatenar los atributos seleccionados y crear una descripción coherente.\n",
    "\n",
    "2 - Método cambiando_posicion: Verifica las herramientas que el empleado tiene en su lista y devuelve un mensaje específico basado en las herramientas. Puede elogiar al empleado si tiene \"Python\" en su lista o sugerirle que deje de usar \"Excel\" y aprenda Python. Los pasos para resolver este ejercicio son:\n",
    "\n",
    "- Iterar a través de las Herramientas: La función debe recorrer la lista de herramientas (self.herramientas) del empleado.\n",
    "\n",
    "- Evaluar Cada Herramienta: Para cada herramienta en la lista, verifica si es igual a \"Python\" o \"Excel\" (en minúsculas).\n",
    "\n",
    "3 - Método calcular_antiguedad: Calcula la antigüedad del empleado en años y meses desde el año de ingreso hasta la fecha actual.\n",
    "\n",
    "- Calcular la Antigüedad en Años y Meses: Utiliza el módulo datetime de Python para obtener el año actual y el mes actual.\n",
    "\n",
    "- Generar el Mensaje de Antigüedad: Usa los valores calculados para años y meses de antigüedad para generar un mensaje descriptivo. Por ejemplo, \"Juan lleva 5 años y 3 meses en la empresa\".\n",
    "\n",
    "4 - Método solicitar_aumento_vacaciones: Permite al empleado solicitar un aumento en la cantidad de días de vacaciones. Si la solicitud es válida (es decir, se solicitan días positivos), actualiza los días de vacaciones del empleado y devuelve un mensaje de confirmación. Recibirá un parámetro dias_solicitados, que corresponderá con el número de días de vacaciones que quiere solicitar.\n",
    "\n",
    "- Validar los Días Solicitados: Utiliza una estructura de control para verificar si la cantidad de días solicitados (dias_solicitados) es mayor que cero. Esto garantiza que solo se procesen solicitudes de aumento válidas.\n",
    "\n",
    "- Actualizar los Días de Vacaciones: Si la solicitud es válida, aumenta la cantidad de días de vacaciones del empleado (self.vacaciones) sumando la cantidad de días solicitados.\n",
    "\n",
    "- Generar un Mensaje de Confirmación: Crea un mensaje informativo que confirme la aprobación de la solicitud y muestre la cantidad actualizada de días de vacaciones del empleado.\n",
    "\n",
    "- Manejar Solicitudes No Válidas: Si la solicitud no es válida (es decir, dias_solicitados es menor o igual a cero), generar un mensaje de error que indique que la solicitud debe ser un número positivo.\n",
    "\n",
    "5 - Método registrar_herramienta: Permite al empleado registrar una nueva herramienta en su lista de habilidades. La herramienta se registra si no está registrada previamente en la lista de herramientas del empleado. Recibirá un parámetro que será la nueva herramienta.\n",
    "\n",
    "- Validar la Nueva Herramienta: Utiliza una estructura de control para verificar si la nueva herramienta no está en la lista de herramientas existentes.\n",
    "\n",
    "- Agregar la Nueva Herramienta: Si la nueva herramienta no está en la lista existente, agregarla a la lista.\n",
    "\n",
    "- Generar un Mensaje de Confirmación: Crea un mensaje informativo que confirme el registro exitoso de la nueva herramienta y muestre el nombre de la herramienta registrada.\n",
    "\n",
    "- Manejar Herramientas Duplicadas: Si la nueva herramienta ya existe en la lista, genera un mensaje que indique que la herramienta ya ha sido registrada previamente.\n",
    "\n",
    "6 - Método cambiar_posicion: Permite al empleado cambiar su posición y salario en la empresa. Actualiza la posición y el salario y devuelve un mensaje de felicitación. Recibirá dos parámetros, la nueva posición y el nuevo salario.\n",
    "\n",
    "- Actualizar la Posición y el Salario: Utiliza los parámetros nueva_posicion y nuevo_salario para actualizar la posición y el salario del empleado.\n",
    "\n",
    "- Generar un Mensaje de Confirmación: Crea un mensaje informativo que confirme el cambio de posición y salario del empleado y muestre el nombre del empleado, la nueva posición y el nuevo salario.\n",
    "\n",
    "7 - Método tomar_vacaciones: Permite al empleado tomar días de vacaciones, solicitando la cantidad deseada y actualizando los días de vacaciones restantes. Verifica que se solicite al menos un día de vacaciones y que el empleado tenga suficientes días disponibles. No recibe ningún parámetro adicional.\n",
    "\n",
    "- Solicitar la Cantidad de Días de Vacaciones: Usar la función input para solicitar al usuario la cantidad de días de vacaciones que desea tomar.\n",
    "\n",
    "- Validar la Cantidad de Días: Comprueba que la cantidad de días solicitados sea mayor que cero. Si el usuario ingresa un valor no válido (cero o negativo), muestra un mensaje de error y solicita nuevamente la cantidad de días hasta que sea válida.\n",
    "\n",
    "- Verificar Disponibilidad de Días de Vacaciones: Comprueba si la cantidad de días solicitados es menor o igual a la cantidad de días de vacaciones disponibles para el empleado.\n",
    "\n",
    "- Actualizar Días de Vacaciones: Si hay suficientes días de vacaciones disponibles, modifica el código para que se modifiquen los días de vacaciones que le quedan. Si no hay suficientes días disponibles, mostrar un mensaje de error.\n",
    "\n",
    "- Generar un Mensaje de Confirmación o Error: Dependiendo de si la solicitud se procesó con éxito o no, genera un mensaje que informe al empleado sobre el resultado de su solicitud.\n",
    "\n",
    "8 - Método solicitar_aumento_salario: Permite al empleado solicitar un aumento de salario en porcentaje y calcula el nuevo salario. Verifica que el aumento sea un valor positivo o igual a cero. Este método no recibe ningún parámetro.\n",
    "\n",
    "- Solicitar el Porcentaje de Aumento de Salario: Utiliza la función input para solicitar al usuario el porcentaje de aumento de salario que desea. Asegurate de que el valor ingresado sea un número decimal.\n",
    "\n",
    "- Validar el Porcentaje de Aumento: Utiliza un bucle while para garantizar que el porcentaje de aumento sea mayor o igual a cero. Si el usuario ingresa un valor no válido (negativo), muestra un mensaje de error y solicita nuevamente el porcentaje hasta que sea válido.\n",
    "\n",
    "- Calcular el Nuevo Salario: Calcula el nuevo salario.\n",
    "\n",
    "- Generar un Mensaje de Confirmación: Crea un mensaje que informe al empleado sobre el resultado de su solicitud. Incluye el nuevo salario calculado en el mensaje.\n",
    "\n",
    "- Manejar Errores de Entrada: Utiliza un bloque try...except para manejar posibles errores de entrada, como cuando el usuario ingresa un valor que no se puede convertir a un número decimal.\n",
    "\n",
    "9 - Método realizar_evaluacion: Permite al empleado recibir una calificación de desempeño, con opciones como \"Excelente\", \"Bueno\", \"Regular\" o \"Malo\". Verifica que la calificación ingresada sea válida. Este método no recibe ningún parámetro.\n",
    "\n",
    "- Solicitar la Calificación del Desempeño: Utiliza la función input para solicitar al usuario que califique su propio desempeño. Asegurate de que el valor ingresado sea una de las opciones válidas: \"excelente\", \"bueno\", \"regular\" o \"malo\".\n",
    "\n",
    "- Validar la Calificación: Utiliza un bucle while para garantizar que la calificación ingresada sea una de las opciones válidas. Si el usuario ingresa una calificación no válida, muestra un mensaje de error y solicita nuevamente la calificación hasta que sea válida.\n",
    "\n",
    "- Generar un Mensaje de Retroalimentación: Crear un mensaje que proporcione retroalimentación al empleado basada en la calificación ingresada.\n",
    "\n",
    "- Retornar el Mensaje Generado: La función debe incluir una instrucción return que devuelva el mensaje generado."
   ]
  },
  {
   "cell_type": "code",
   "execution_count": 1,
   "metadata": {},
   "outputs": [],
   "source": [
    "# Importamos las librerías necesarias\n",
    "\n",
    "import datetime\n",
    "\n",
    "\n",
    "# Proporciona una descripción del empleado, incluyendo su nombre, posición en la empresa, y la cantidad de días de vacaciones que le quedan para el año actual\n",
    "class Empleados:\n",
    "    def __init__ (self, nombre, apellidos, edad, posicion, salario, año, vacaciones, * herramientas):\n",
    "        self.nombre = nombre\n",
    "        self.apellidos = apellidos\n",
    "        self.edad = edad\n",
    "        self.posicion = posicion\n",
    "        self.salario = salario\n",
    "        self.año = año\n",
    "        self.vacaciones = vacaciones\n",
    "        self.herramientas = list(herramientas)\n",
    "    def descripcion (self):\n",
    "        datos_empleado = f\"El empleado se llama {self.nombre} {self.apellidos}, su posición en la empresa es {self.posicion}, y le quedan {self.vacaciones} días de vacaciones\"\n",
    "        return datos_empleado\n",
    "    def cambiando_posicion (self):\n",
    "        lista_herramientas = [] # hago una lista vacia para poder luego hacer las comprobaciones.\n",
    "        list(self.herramientas)\n",
    "        for herramienta in self.herramientas:\n",
    "            lista_herramientas.append(herramienta.lower()) \n",
    "        if \"python\" in lista_herramientas:\n",
    "            return f\"Fenomenal, con python llegarás lejos, ¡Sigue así!\"\n",
    "            # si python está en la lista, independientemente del resto de herramientas retornamos el mensaje del if\n",
    "        elif \"excel\" in lista_herramientas:\n",
    "            return f\"python es más útil que excel, te sugiero que lo aprendas\"\n",
    "            # si python no está en la lista pero sí está excel retornamos el mensaje del elif\n",
    "        else: \n",
    "            return f\"Necesitas mejorar tus herramientas\"\n",
    "            # si ni python ni excel se encuentran en lista_herramientas retornamos el mensaje del else\n",
    "\n",
    "            \n",
    "    def calcular_antiguedad (self, mes=6):\n",
    "        fecha_actual = datetime.datetime.now()\n",
    "        mes_actual = fecha_actual.month\n",
    "        año_actual = fecha_actual.year\n",
    "        mes_entrada = mes\n",
    "        año_entrada = self.año\n",
    "        antiguedad_meses = mes_actual - mes_entrada\n",
    "        antiguedad_años = año_actual - año_entrada\n",
    "        \n",
    "        if antiguedad_meses < 0:\n",
    "            antiguedad_mes = antiguedad_mes + 12\n",
    "            antiguedad_año = antiguedad_año-1\n",
    "        \n",
    "        return f\"El empleado {self.nombre} {self.apellidos} lleva en la empresa {antiguedad_años} años y {antiguedad_meses} meses.\"\n",
    "    \n",
    "    def solicitar_aumento_vacaciones (self, dias_solicitados):\n",
    "        if dias_solicitados > 0:\n",
    "            self.vacaciones += dias_solicitados\n",
    "            return f\"Tú solicitud ha sido validada, la cantidad de vacaciones actualizada es de {self.vacaciones} días.\"\n",
    "        else:\n",
    "            return f\"ERROR, para poder solicitar vacaciones es necesario introducir un numero positivo, vuelve a intentarlo.\"\n",
    "     \n",
    "    def registrar_herramienta (self, herramienta):\n",
    "        lista_herramientas = []\n",
    "        list(self.herramientas)\n",
    "        for i in self.herramientas:\n",
    "            lista_herramientas.append(i)\n",
    "        \n",
    "        if herramienta not in lista_herramientas:\n",
    "            self.herramientas.append(herramienta)\n",
    "            return f\"Se ha añadido una nueva herramienta asociada a {self.nombre} {self.apellidos}, las herramientas actualizadas de este empleado son {self.herramientas}\"\n",
    "        else:\n",
    "            return f\"El empleado {self.nombre} {self.apellidos} ya tiene esta herramienta. Sus herramientas son {self.herramientas}\"\n",
    "    \n",
    "    def cambiar_posicion (self, nueva_posicion, nuevo_salario):\n",
    "        self.posicion = nueva_posicion\n",
    "        self.salario = nuevo_salario\n",
    "        \n",
    "        return f\"El empleado {self.nombre} {self.apellidos} ha promocionado, su salario actual es {self.salario} euros brutos anuales y su posicion actual es {self.posicion}\"\n",
    "    \n",
    "    def tomar_vacaciones (self):\n",
    "        contador = 0\n",
    "        while contador == 0:\n",
    "            vacaciones_solicitadas = input(\"¿Cuantos días de vacaciones quieres solicitar? (Por favor, introduce un numero): \")\n",
    "            try:\n",
    "                vacaciones_solicitadas = int(vacaciones_solicitadas)\n",
    "                if vacaciones_solicitadas <= 0:\n",
    "                    return f\"Lo siento, el número introducido no es correcto\"\n",
    "                else:\n",
    "                    if vacaciones_solicitadas <= self.vacaciones:\n",
    "                        self.vacaciones -= vacaciones_solicitadas\n",
    "                        contador += 1 \n",
    "                        return f\"Las vacaciones restantes de {self.nombre} {self.apellidos} son de {self.vacaciones} días\" \n",
    "                    else:\n",
    "                        print (f\"No tienes tantos días disponibles de vacaciones, tus días de vacaciones son {self.vacaciones}, vuelve a solicitarlo\")\n",
    "            except: \n",
    "                print(f\"No has introducido un número, por favor, vuelve a intentarlo\")\n",
    "    \n",
    "    def solicitar_aumento_salario(self):\n",
    "        contador = 0\n",
    "        while contador == 0:\n",
    "            porcentaje_aumento = input(\"Dime que porcentaje de aumento de salario quieres: \")\n",
    "            try:\n",
    "                porcentaje_aumento = float(porcentaje_aumento)\n",
    "                if porcentaje_aumento <= 0:\n",
    "                    return f\"Lo siento, el número introducido no es correcto\"\n",
    "                else:\n",
    "                    self.salario += self.salario * porcentaje_aumento/100\n",
    "                    contador += 1 \n",
    "                    return f\"El salario actualizado de {self.nombre} {self.apellidos} es de {self.salario} euros brutos anuales\" \n",
    "            except: \n",
    "                print(f\"No has introducido un número, por favor, vuelve a intentarlo\")\n",
    "    \n",
    "    def realizar_evaluacion (self):\n",
    "        contador = 0\n",
    "        opciones_desempeño = [\"Excelente\", \"Bueno\", \"Regular\", \"Malo\"]\n",
    "        while contador == 0:\n",
    "            desempeño = input(\"Por favor, califica tu desempeño, ingresa una opción entre las siguientes =>  Excelente, Bueno, Regular o Malo: \")     \n",
    "            if desempeño.lower().capitalize() in opciones_desempeño:\n",
    "                mensaje_generado = f\"La calificación que has dado es {desempeño}\"\n",
    "                contador += 1\n",
    "                return mensaje_generado\n",
    "            else:\n",
    "                return f\"La calificación que has dado no está dentro de las opciones válidas. Vuelve a intentarlo.\"          \n",
    "            \n",
    "        "
   ]
  },
  {
   "cell_type": "code",
   "execution_count": 2,
   "metadata": {},
   "outputs": [],
   "source": [
    "empleado = Empleados(\"Laura\", \"Romero Jiménez\", 37, \"Veterinaria\", 23000, 2017, 20,  \"excel\", \"word\", \"python\")\n",
    "# creamos un objeto asociado a la clase Empleados, sobre el que iremos probando los diferentes métodos"
   ]
  },
  {
   "cell_type": "code",
   "execution_count": 3,
   "metadata": {},
   "outputs": [
    {
     "data": {
      "text/plain": [
       "'El empleado se llama Laura Romero Jiménez, su posición en la empresa es Veterinaria, y le quedan 20 días de vacaciones'"
      ]
     },
     "execution_count": 3,
     "metadata": {},
     "output_type": "execute_result"
    }
   ],
   "source": [
    "empleado.descripcion()"
   ]
  },
  {
   "cell_type": "code",
   "execution_count": 4,
   "metadata": {},
   "outputs": [
    {
     "data": {
      "text/plain": [
       "'Fenomenal, con python llegarás lejos, ¡Sigue así!'"
      ]
     },
     "execution_count": 4,
     "metadata": {},
     "output_type": "execute_result"
    }
   ],
   "source": [
    "empleado.cambiando_posicion()"
   ]
  },
  {
   "cell_type": "code",
   "execution_count": 5,
   "metadata": {},
   "outputs": [
    {
     "data": {
      "text/plain": [
       "'El empleado Laura Romero Jiménez lleva en la empresa 7 años y 5 meses.'"
      ]
     },
     "execution_count": 5,
     "metadata": {},
     "output_type": "execute_result"
    }
   ],
   "source": [
    "empleado.calcular_antiguedad(3)\n",
    "\n",
    "# como argumento introducimos el mes en el que entró el empleado para calcular, si no introducimos nada por defecto coge el valor 6"
   ]
  },
  {
   "cell_type": "code",
   "execution_count": 6,
   "metadata": {},
   "outputs": [
    {
     "data": {
      "text/plain": [
       "'Tú solicitud ha sido validada, la cantidad de vacaciones actualizada es de 35 días.'"
      ]
     },
     "execution_count": 6,
     "metadata": {},
     "output_type": "execute_result"
    }
   ],
   "source": [
    "empleado.solicitar_aumento_vacaciones (15)"
   ]
  },
  {
   "cell_type": "code",
   "execution_count": 7,
   "metadata": {},
   "outputs": [
    {
     "data": {
      "text/plain": [
       "\"Se ha añadido una nueva herramienta asociada a Laura Romero Jiménez, las herramientas actualizadas de este empleado son ['excel', 'word', 'python', 'SQL']\""
      ]
     },
     "execution_count": 7,
     "metadata": {},
     "output_type": "execute_result"
    }
   ],
   "source": [
    "empleado.registrar_herramienta('SQL')"
   ]
  },
  {
   "cell_type": "code",
   "execution_count": 8,
   "metadata": {},
   "outputs": [
    {
     "data": {
      "text/plain": [
       "'El empleado Laura Romero Jiménez ha promocionado, su salario actual es 30000 euros brutos anuales y su posicion actual es Data Analyst'"
      ]
     },
     "execution_count": 8,
     "metadata": {},
     "output_type": "execute_result"
    }
   ],
   "source": [
    "empleado.cambiar_posicion (\"Data Analyst\", 30000)"
   ]
  },
  {
   "cell_type": "code",
   "execution_count": 9,
   "metadata": {},
   "outputs": [
    {
     "data": {
      "text/plain": [
       "'Las vacaciones restantes de Laura Romero Jiménez son de 10 días'"
      ]
     },
     "execution_count": 9,
     "metadata": {},
     "output_type": "execute_result"
    }
   ],
   "source": [
    "empleado.tomar_vacaciones()"
   ]
  },
  {
   "cell_type": "code",
   "execution_count": 10,
   "metadata": {},
   "outputs": [
    {
     "data": {
      "text/plain": [
       "'El salario actualizado de Laura Romero Jiménez es de 45000.0 euros brutos anuales'"
      ]
     },
     "execution_count": 10,
     "metadata": {},
     "output_type": "execute_result"
    }
   ],
   "source": [
    "empleado.solicitar_aumento_salario()"
   ]
  },
  {
   "cell_type": "code",
   "execution_count": 11,
   "metadata": {},
   "outputs": [
    {
     "data": {
      "text/plain": [
       "'La calificación que has dado es bueno'"
      ]
     },
     "execution_count": 11,
     "metadata": {},
     "output_type": "execute_result"
    }
   ],
   "source": [
    "empleado.realizar_evaluacion()"
   ]
  },
  {
   "cell_type": "markdown",
   "metadata": {},
   "source": [
    "## HERENCIA DE CLASES\n",
    "\n",
    "En este ejercicio, se te pide crear una herencia de la clase creada en el ejercicio anterior. Esta clase hija se llama \"Gerente\" que hereda de la clase creada en el ejercicio anterior. Las instrucciones para crear esta clase son:\n",
    "\n",
    "Crea la clase derivada \"Gerente\" que hereda de la clase \"Empleados\". Esta clase debe tener los siguientes atributos en su constructor además de los heredados de \"Empleados\":\n",
    "\n",
    "departamento (str): El departamento al que está asignado el gerente.\n",
    "\n",
    "empleados_a_cargo (list): Una lista que contiene los nombres de los empleados que están a cargo del gerente.\n",
    "\n",
    "Implementa los siguientes métodos en la clase \"Gerente\":\n",
    "\n",
    "asignar_tareas(tarea, empleado): Este método debe recibir el nombre de una tarea y el nombre de un empleado y debe devolver una cadena que indique que el gerente ha asignado la tarea a ese empleado.\n",
    "\n",
    "revisar_desempeno_empleado(empleado): Este método debe recibir el nombre de un empleado y debe devolver una cadena que indique que el gerente está revisando el desempeño de ese empleado.\n",
    "\n",
    "gestionar_empleados(accion, empleado): Este método permite al gerente realizar acciones de contratación o despido de empleados a cargo. Debe recibir una acción (\"contratar\" o \"despedir\") y el nombre de un empleado. Si la acción es \"contratar\", agrega al empleado a la lista de empleados a cargo y devuelve un mensaje indicando que el empleado ha sido contratado por el gerente. Si la acción es \"despedir\" y el empleado está en la lista de empleados a cargo, lo elimina y devuelve un mensaje de despido. Si la acción no es válida, devuelve un mensaje indicando que la acción no es válida."
   ]
  },
  {
   "cell_type": "code",
   "execution_count": 12,
   "metadata": {},
   "outputs": [],
   "source": [
    "class Gerente(Empleados):\n",
    "        def __init__ (self, nombre, apellidos, edad, posicion, salario, año, vacaciones, departamento, *empleados_a_cargo):\n",
    "            super().__init__(nombre,apellidos, edad, posicion, salario, año, vacaciones)\n",
    "            self.departamento = departamento\n",
    "            self.empleados_a_cargo = list(empleados_a_cargo)\n",
    "        def asignar_tareas(self,tarea, empleado):\n",
    "            return f\"El gerente {self.nombre} {self.apellidos} le ha asignado esta tarea: {tarea} al empleado {empleado}\"\n",
    "        def revisar_desempeño (self,empleado):\n",
    "            return f\"El gerente {self.nombre} {self.apellidos} está revisando el desempeño de {empleado}\"\n",
    "        def gestionar_empleados(self,accion, empleado): \n",
    "            if accion.lower() == \"contratar\":\n",
    "                self.empleados_a_cargo.append(empleado)\n",
    "                return f\"El empleado {empleado}, ha sido contratado, la lista de empleados a cargo del gerente {self.nombre} {self.apellidos} es {self.empleados_a_cargo}\"\n",
    "\n",
    "            elif accion.lower() == \"despedir\":\n",
    "                if empleado in self.empleados_a_cargo:\n",
    "                    self.empleados_a_cargo.remove(empleado)\n",
    "                    return f\"El empleado {empleado}, ha sido despedido, la lista de empleados a cargo del gerente {self.nombre} {self.apellidos} es {self.empleados_a_cargo}\"\n",
    "                else: \n",
    "                    return f\"El empleado {empleado} no se encuentra en los empleados a cargo del gerente {self.nombre} {self.apellidos}\"\n",
    "                    \n",
    "            \n"
   ]
  },
  {
   "cell_type": "code",
   "execution_count": 13,
   "metadata": {},
   "outputs": [],
   "source": [
    "empleado = Empleados(\"Laura\", \"Romero Jiménez\", 37, \"Veterinaria\", 23000, 2017, 20,  \"excel\", \"word\", \"python\")"
   ]
  },
  {
   "cell_type": "code",
   "execution_count": 18,
   "metadata": {},
   "outputs": [],
   "source": [
    "empleado_2 = Gerente (\"Fatima\", \"Garcia Delgado\", 31, \"Gerente\", 70000, 2008, 30, \"Ventas\", \"Laura Romero Jiménez\", \"Julia Jimenez Terriza\")"
   ]
  },
  {
   "cell_type": "code",
   "execution_count": 19,
   "metadata": {},
   "outputs": [
    {
     "data": {
      "text/plain": [
       "['Laura Romero Jiménez', 'Julia Jimenez Terriza']"
      ]
     },
     "execution_count": 19,
     "metadata": {},
     "output_type": "execute_result"
    }
   ],
   "source": [
    "empleado_2.empleados_a_cargo"
   ]
  },
  {
   "cell_type": "code",
   "execution_count": 22,
   "metadata": {},
   "outputs": [
    {
     "data": {
      "text/plain": [
       "'El gerente Fatima Garcia Delgado le ha asignado esta tarea: Proyecto CinemaExtract al empleado Laura Romero Jiménez'"
      ]
     },
     "execution_count": 22,
     "metadata": {},
     "output_type": "execute_result"
    }
   ],
   "source": [
    "empleado_2.asignar_tareas(\"Proyecto CinemaExtract\", \"Laura Romero Jiménez\")"
   ]
  },
  {
   "cell_type": "code",
   "execution_count": 23,
   "metadata": {},
   "outputs": [
    {
     "data": {
      "text/plain": [
       "'El gerente Fatima Garcia Delgado está revisando el desempeño de Julia Jiménez Terriza'"
      ]
     },
     "execution_count": 23,
     "metadata": {},
     "output_type": "execute_result"
    }
   ],
   "source": [
    "empleado_2.revisar_desempeño(\"Julia Jiménez Terriza\")"
   ]
  },
  {
   "cell_type": "code",
   "execution_count": 24,
   "metadata": {},
   "outputs": [
    {
     "data": {
      "text/plain": [
       "\"El empleado Laura Romero Jiménez, ha sido despedido, la lista de empleados a cargo del gerente Fatima Garcia Delgado es ['Julia Jimenez Terriza']\""
      ]
     },
     "execution_count": 24,
     "metadata": {},
     "output_type": "execute_result"
    }
   ],
   "source": [
    "empleado_2.gestionar_empleados(\"Despedir\", \"Laura Romero Jiménez\")"
   ]
  }
 ],
 "metadata": {
  "kernelspec": {
   "display_name": "Python 3",
   "language": "python",
   "name": "python3"
  },
  "language_info": {
   "codemirror_mode": {
    "name": "ipython",
    "version": 3
   },
   "file_extension": ".py",
   "mimetype": "text/x-python",
   "name": "python",
   "nbconvert_exporter": "python",
   "pygments_lexer": "ipython3",
   "version": "3.11.9"
  }
 },
 "nbformat": 4,
 "nbformat_minor": 2
}
