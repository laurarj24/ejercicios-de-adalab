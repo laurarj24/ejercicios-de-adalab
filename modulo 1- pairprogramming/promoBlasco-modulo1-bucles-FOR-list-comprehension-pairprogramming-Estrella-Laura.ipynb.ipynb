{
 "cells": [
  {
   "cell_type": "code",
   "execution_count": 13,
   "metadata": {},
   "outputs": [],
   "source": [
    "## EJERCICIOS SENTENCIAS DE CONTROL BUCLES FOR"
   ]
  },
  {
   "cell_type": "code",
   "execution_count": 14,
   "metadata": {},
   "outputs": [
    {
     "name": "stdout",
     "output_type": "stream",
     "text": [
      "1\n",
      "2\n",
      "3\n",
      "4\n",
      "5\n"
     ]
    }
   ],
   "source": [
    "#Ejercicio 1 - Imprimir los numeros del 1 al 5 utilizando un bucle for.\n",
    "'''Descripción: Utiliza un bucle for para imprimir numeros del 1 al 5 (incluido) en orden ascendente.'''\n",
    "\n",
    "for numero in range (1,6):\n",
    "    print(numero)\n",
    "\n"
   ]
  },
  {
   "cell_type": "code",
   "execution_count": 1,
   "metadata": {},
   "outputs": [
    {
     "name": "stdout",
     "output_type": "stream",
     "text": [
      "45\n"
     ]
    }
   ],
   "source": [
    "# Ejercicio 2. Calcular la suma de los primeros 10 números naturales utilizando un bucle for\n",
    "''' Utiliza un bucle FOR para calcular la suma de los primeros 10 números naturales.'''\n",
    "\n",
    "lista = range (1,10)\n",
    "suma = 0\n",
    "numero = 1\n",
    "\n",
    "for num in lista:\n",
    "    suma = suma + num\n",
    "\n",
    "print(suma)"
   ]
  },
  {
   "cell_type": "code",
   "execution_count": 2,
   "metadata": {},
   "outputs": [
    {
     "name": "stdout",
     "output_type": "stream",
     "text": [
      "4233600\n"
     ]
    }
   ],
   "source": [
    "# Ejercicio 3. Calcular el producto de los elementos de una lista \n",
    "''' Dada una lista de números, utiliza un bucle for para calcular el producto de todos los elementos'''\n",
    "\n",
    "lista = [2,5,7,2,6,8,3,5,6,7]\n",
    "producto = 1\n",
    "\n",
    "for num in lista:\n",
    "    producto = producto * num\n",
    "    \n",
    "print(producto)"
   ]
  },
  {
   "cell_type": "code",
   "execution_count": 17,
   "metadata": {},
   "outputs": [
    {
     "name": "stdout",
     "output_type": "stream",
     "text": [
      "A\n",
      "d\n",
      "a\n",
      "l\n",
      "a\n",
      "b\n",
      "e\n",
      "r\n",
      "s\n"
     ]
    }
   ],
   "source": [
    "# Ejercicio 4. Imprimir los caracteres de una cadena de texto \n",
    "''' * dada una cadena de texto, utiliza un bucle for para calcular el producto de todos los elementos'''\n",
    "\n",
    "palabra = \"Adalabers\"\n",
    "\n",
    "for letra in palabra:\n",
    "    print(letra)\n"
   ]
  },
  {
   "cell_type": "code",
   "execution_count": 18,
   "metadata": {},
   "outputs": [
    {
     "name": "stdout",
     "output_type": "stream",
     "text": [
      "2\n",
      "4\n",
      "6\n",
      "8\n",
      "10\n",
      "12\n",
      "14\n",
      "16\n",
      "18\n",
      "20\n",
      "22\n",
      "24\n",
      "26\n",
      "28\n",
      "30\n",
      "32\n",
      "34\n",
      "36\n",
      "38\n",
      "40\n",
      "42\n",
      "44\n",
      "46\n",
      "48\n",
      "50\n",
      "52\n",
      "54\n",
      "56\n",
      "58\n",
      "60\n",
      "62\n",
      "64\n",
      "66\n",
      "68\n",
      "70\n",
      "72\n",
      "74\n",
      "76\n",
      "78\n",
      "80\n",
      "82\n",
      "84\n",
      "86\n",
      "88\n",
      "90\n",
      "92\n",
      "94\n",
      "96\n",
      "98\n",
      "100\n",
      "100\n"
     ]
    }
   ],
   "source": [
    "# Ejercicio 5. imprimir los números pares del 1 al 100 utilizando un bucle for\n",
    "''' Utiliza un bucle for para imprimir los números pares del 1 al 100 en orden ascendente.'''\n",
    "\n",
    "numeros = range (1,101)\n",
    "\n",
    "for num in numeros:\n",
    "    if num % 2 == 0:\n",
    "        print(num)\n",
    "\n",
    "print(num)   "
   ]
  },
  {
   "cell_type": "code",
   "execution_count": 19,
   "metadata": {},
   "outputs": [
    {
     "name": "stdout",
     "output_type": "stream",
     "text": [
      "[0, 1, 2, 3, 5, 7, 11, 13, 17, 19, 23, 29, 31, 37, 41, 43, 47]\n"
     ]
    }
   ],
   "source": [
    "# Ejercicio 6 - Imprimir los numeros primos del 1 al 50 utilizando un bucle for\n",
    "\n",
    "'''Descripción: Utiliza un bucle for para imprimir los numeros primos del 1 al 50 en orden ascendente'''\n",
    "\n",
    "lista_primos = []\n",
    "\n",
    "# vamos a realizar dos bucles, uno para iterar las \"i\" y otro para iterar las \"j\" y dividir en este segundo bucle cada elemento del rango por todos los anteriores, \n",
    "# excluyendo el 1 y al elemento en sí mismo, como el rango es hasta i, itera hasta i-1 porque el ultimo elemento de un rango no está incluido, y empezamos en 2 para que el 1 \n",
    "# lo excluya tambien, porque todo elemento, incluso los primos, son divisibles por uno y por si mismos. \n",
    "\n",
    "for i in range (0,50):\n",
    "  is_prime = True\n",
    "  #comenzamos el siguiente bucle en 2, porque si comenzaramos en uno todos los numeros son divisibles entre uno, y se ejecutaria el break, y lo consideraria no primo\n",
    "  for k in range (2, i):\n",
    "    if i%k == 0:\n",
    "      is_prime = False\n",
    "      break\n",
    "  if is_prime:\n",
    "    lista_primos.append(i)\n",
    "\n",
    "print(lista_primos)\n"
   ]
  },
  {
   "cell_type": "code",
   "execution_count": 20,
   "metadata": {},
   "outputs": [
    {
     "name": "stdout",
     "output_type": "stream",
     "text": [
      "1\n",
      "2\n",
      "6\n",
      "24\n",
      "120\n"
     ]
    }
   ],
   "source": [
    "# Ejercicio 7. Calcular el factorial de un numero utilizando un bucle for\n",
    "'''Descripción: dado un numero entero positivo, calcula su factorial utilizando un bucle for'''\n",
    "\n",
    "# para calcular el factorial de un numero, ejemplo 5, habría que iterar un rango que vaya de 1 a 5+1\n",
    "# (para que nos coja el 5), creamos una variable llamada producto que va a ir transformandose en el producto \n",
    "# de los elementos anteriores a \"i\" hasta que acabe el bucle, que nos dara como resultado el factorial del numero elegido\n",
    "\n",
    "numero = 5\n",
    "producto = 1\n",
    "for i in range (1,numero+1):\n",
    "    producto = producto * i\n",
    "    print(producto)\n"
   ]
  },
  {
   "cell_type": "code",
   "execution_count": 25,
   "metadata": {},
   "outputs": [
    {
     "name": "stdout",
     "output_type": "stream",
     "text": [
      "Has escogido la palabratomates\n",
      "Fallaste! PISTA 1: Es una comida italiana\n",
      "te quedan 2 intentos\n",
      "Has escogido la palabrapimientos\n",
      "Fallaste! PISTA 2: Empieza por la letrita M\n",
      "te quedan 1 intentos\n",
      "Has escogido la palabramacarrones\n",
      "Enhorabuena! Acertaste\n",
      "Has perdido.\n"
     ]
    }
   ],
   "source": [
    "# Ejercicio 8. Juego de adivinar palabras utilizando un bucle for\n",
    "'''Descripción: Crea un juego en el que el jugador debe adivinar una palabra secreta. \n",
    "El jugador tiene un numero limitado de intentos y se le proporcionan pistas despues de cada intento\n",
    "Utiliza un bucle for para controlar los intentos del jugador'''\n",
    "\n",
    "palabra_correcta = \"macarrones\"\n",
    "pistas = [\"PISTA 1: Es una comida italiana\", \"PISTA 2: Empieza por la letrita M\", \"PISTA 3: es pasta\"]\n",
    "intentos = len(pistas)\n",
    "\n",
    "\n",
    "for i in range(0,intentos):\n",
    "    palabra = input(\"Intenta adivinar la palabra => \")\n",
    "    print(f\"Has escogido la palabra {palabra}\")\n",
    "\n",
    "    if palabra.lower() == palabra_correcta:\n",
    "        print(\"Enhorabuena! Acertaste\")\n",
    "        break\n",
    "    else:\n",
    "        print(\"Fallaste!\", pistas[i])\n",
    "        print(f\"te quedan {(intentos - (i + 1))} intentos\")\n",
    "    \n",
    "    \n",
    "if i == intentos - 1: \n",
    "    print(\"Has perdido.\") \n",
    "        \n",
    "\n",
    "\n",
    "            \n",
    "                \n",
    "        \n"
   ]
  },
  {
   "cell_type": "markdown",
   "metadata": {},
   "source": [
    "## EJERCICIOS LIST-COMPREHENSION"
   ]
  },
  {
   "cell_type": "code",
   "execution_count": 22,
   "metadata": {},
   "outputs": [
    {
     "name": "stdout",
     "output_type": "stream",
     "text": [
      "[2, 4, 6, 8, 10, 12, 14, 16, 18]\n"
     ]
    }
   ],
   "source": [
    "# Ejercicio 1: Generar una lista de los números pares del 1 al 20.\n",
    "'''Descripción: Utiliza list comprehension para generar una lista que contenga todos los números pares en el rango del 1 al 20.'''\n",
    "\n",
    "lista_pares = [num for num in range(1,20) if num % 2 == 0]\n",
    "print(lista_pares)\n"
   ]
  },
  {
   "cell_type": "code",
   "execution_count": 23,
   "metadata": {},
   "outputs": [
    {
     "name": "stdout",
     "output_type": "stream",
     "text": [
      "['u', 'a', 'e', 'i', 'o']\n"
     ]
    }
   ],
   "source": [
    "# Ejercicio 2: Obtener una lista de las vocales en una cadena de texto.\n",
    "'''Descripción: Utiliza list comprehension para crear una lista que contenga todas las vocales \n",
    "presentes en una cadena de texto (sin repetición).'''\n",
    "\n",
    "texto = \"aojiohieohuihbaiohiolkalñjñlroñjoi\"\n",
    "\n",
    "vocales_texto = list(set([letra for letra in texto if letra in \"aeiou\"]))\n",
    "\n",
    "print(vocales_texto)\n"
   ]
  },
  {
   "cell_type": "code",
   "execution_count": 3,
   "metadata": {},
   "outputs": [
    {
     "name": "stdout",
     "output_type": "stream",
     "text": [
      "[25, 64, 81, 24964]\n"
     ]
    }
   ],
   "source": [
    "# Ejercicio 3: Filtrar los números positivos de una lista y calcular su cuadrado.\n",
    "''' Descripción: Utiliza list comprehension para filtrar los números positivos de una lista y \n",
    "calcular el cuadrado de cada uno.'''\n",
    "\n",
    "lista_numeros = [-4,5,8,9,-15,158]\n",
    "\n",
    "numeros_positivos = [num**2 for num in lista_numeros if num >= 0]\n",
    "\n",
    "print(numeros_positivos)\n"
   ]
  },
  {
   "cell_type": "markdown",
   "metadata": {},
   "source": [
    "## Ejercicios try ...except"
   ]
  },
  {
   "cell_type": "code",
   "execution_count": 10,
   "metadata": {},
   "outputs": [
    {
     "name": "stdout",
     "output_type": "stream",
     "text": [
      "['Fernando', 'Julia', 'Fatima', 'Laura']\n",
      "El nombre Laura se encuentra en la lista\n"
     ]
    }
   ],
   "source": [
    "\n",
    "# Ejercicio 1: Realizar una búsqueda en una lista y capturar una excepción en caso de valor no encontrado.\n",
    "\n",
    "''' Descripción: Solicita al usuario una lista de nombres y un nombre para buscar en la lista. Intenta encontrar el \n",
    "nombre en la lista y utiliza las sentencias try y except para capturar la excepción en caso de que el nombre no sea encontrado.'''\n",
    "\n",
    "nombres = input(\"Dame una lista de Nombres, separados por comas\").lower(). title().split(\",\")\n",
    "\n",
    "nombre = input (\"Dime un nombre para que verifique si está en la lista\").lower().capitalize()\n",
    "\n",
    "print(nombres)\n",
    "\n",
    "try:\n",
    "    nombre in nombres\n",
    "    print(f\"El nombre {nombre} se encuentra en la lista\")\n",
    "except:\n",
    "    print(f\"El nombre {nombre} no se encuentra en la lista\")\n",
    "    \n",
    "    \n"
   ]
  }
 ],
 "metadata": {
  "kernelspec": {
   "display_name": "Python 3",
   "language": "python",
   "name": "python3"
  },
  "language_info": {
   "codemirror_mode": {
    "name": "ipython",
    "version": 3
   },
   "file_extension": ".py",
   "mimetype": "text/x-python",
   "name": "python",
   "nbconvert_exporter": "python",
   "pygments_lexer": "ipython3",
   "version": "3.11.9"
  }
 },
 "nbformat": 4,
 "nbformat_minor": 2
}
