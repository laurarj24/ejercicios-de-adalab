{
 "cells": [
  {
   "cell_type": "markdown",
   "metadata": {},
   "source": [
    "### EJERCICIOS SENTENCIAS DE CONTROL IF - ELSE"
   ]
  },
  {
   "cell_type": "code",
   "execution_count": 1,
   "metadata": {},
   "outputs": [
    {
     "name": "stdout",
     "output_type": "stream",
     "text": [
      "Este numero es negativo\n"
     ]
    }
   ],
   "source": [
    "# Ejercicio 1: Verificar si un número es positivo, negativo o cero\n",
    "# Descripción: Dado un número, verifica si es positivo, negativo o cero.\n",
    "\n",
    "numero = -10\n",
    "\n",
    "\n",
    "if numero == 0:\n",
    "    print(\"Este numero es igual a cero\")\n",
    "    \n",
    "elif numero > 0:\n",
    "    print(\"Este numero es positivo\")\n",
    "    \n",
    "else: \n",
    "    print(\"Este numero es negativo\")"
   ]
  },
  {
   "cell_type": "code",
   "execution_count": 2,
   "metadata": {},
   "outputs": [
    {
     "name": "stdout",
     "output_type": "stream",
     "text": [
      "Es un numero impar\n"
     ]
    }
   ],
   "source": [
    "# Ejercicio 2: Verificar si un número es par o impar\n",
    "# Descripción: Dado un número, verifica si es par o impar.\n",
    "\n",
    "numero = 5\n",
    "\n",
    "if numero % 2 == 0:\n",
    "    print(\"Es un numero par\")\n",
    "else: \n",
    "    print(\"Es un numero impar\")"
   ]
  },
  {
   "cell_type": "code",
   "execution_count": 3,
   "metadata": {},
   "outputs": [
    {
     "name": "stdout",
     "output_type": "stream",
     "text": [
      "¡Suspendido!\n"
     ]
    }
   ],
   "source": [
    "# Ejercicio 3: Verificar si un estudiante aprobó o suspendió un examen\n",
    "# Descripción: Dada la calificación de un estudiante en un examen, verifica si aprobó o suspendió \n",
    "# (si la calificación es mayor o igual a 60 se considera aprobado).\n",
    "\n",
    "calificacion = int(input(\"¿Que nota sacaste en el examen? \"))\n",
    "\n",
    "if calificacion >= 60:\n",
    "    print(\"¡Aprobado!\")\n",
    "else: \n",
    "    print(\"¡Suspendido!\")"
   ]
  },
  {
   "cell_type": "code",
   "execution_count": 4,
   "metadata": {},
   "outputs": [
    {
     "name": "stdout",
     "output_type": "stream",
     "text": [
      "5 es el maximo\n"
     ]
    }
   ],
   "source": [
    "# Ejercicio 4:Calcular el máximo entre dos números\n",
    "# Descripción: Dados dos números, encuentra el máximo entre ellos.\n",
    "\n",
    "numero_1 = 1\n",
    "numero_2 = 5\n",
    "\n",
    "if numero_1 > numero_2:\n",
    "    print(numero_1, \"es el maximo\")\n",
    "else:\n",
    "    print(numero_2, \"es el maximo\")\n"
   ]
  },
  {
   "cell_type": "code",
   "execution_count": 5,
   "metadata": {},
   "outputs": [
    {
     "name": "stdout",
     "output_type": "stream",
     "text": [
      "es una consonante\n"
     ]
    }
   ],
   "source": [
    "# Ejercicio 5: Verificar si una letra es una vocal o una consonante\n",
    "# Descripción: Dada una letra, verifica si es una vocal o una consonante.\n",
    "\n",
    "letra = input(\"Dime una letra: \")\n",
    "\n",
    "if letra in \"aeiou\":\n",
    "    print(\"es una vocal\")\n",
    "    \n",
    "else:\n",
    "    print(\"es una consonante\")"
   ]
  },
  {
   "cell_type": "code",
   "execution_count": 6,
   "metadata": {},
   "outputs": [],
   "source": [
    "# Ejericio 6: Calcular el descuento en una compra según el monto total\n",
    "# Descripción: Dado el monto total de una compra, calcula el descuento aplicado según las \n",
    "# siguientes condiciones: si el monto es mayor o igual a $100, aplica un descuento del 10%; de lo contrario, no aplica ningún descuento.\n",
    "\n",
    "cantidad = int(input(\"Dime cuanto ha sido la compra\"))\n",
    "\n",
    "if cantidad >= 100:\n",
    "    descuento = cantidad *0.1\n",
    "    print(\"Como te has gastado\", cantidad, \" dolares, se te han descontado\",descuento, \"dolares\")\n",
    "\n",
    "    "
   ]
  },
  {
   "cell_type": "code",
   "execution_count": 7,
   "metadata": {},
   "outputs": [
    {
     "name": "stdout",
     "output_type": "stream",
     "text": [
      "Este año es bisiesto\n"
     ]
    }
   ],
   "source": [
    "\n",
    "# Ejercicio 7: Verificar si un año es bisiesto o no\n",
    "# Descripción: Dado un año, verifica si es bisiesto o no (un año es bisiesto si es divisible entre 4, excepto aquellos \n",
    "# divisibles entre 100 pero no entre 400).\n",
    "\n",
    "año = 2020\n",
    "\n",
    "\n",
    "if año % 4 == 0:\n",
    "    \n",
    "    if año % 100 == 0 and año % 400 != 0: \n",
    "        \n",
    "        print(\"este no es un año bisiesto\")\n",
    "        \n",
    "    else: \n",
    "        print(\"Este año es bisiesto\")\n",
    "            \n",
    "else:\n",
    "    print(\"Este no es un año bisiesto\")\n",
    "\n"
   ]
  },
  {
   "cell_type": "code",
   "execution_count": 8,
   "metadata": {},
   "outputs": [
    {
     "name": "stdout",
     "output_type": "stream",
     "text": [
      "Eres adulto\n"
     ]
    }
   ],
   "source": [
    "# Ejercicio 8: Asignar una categoría a una edad\n",
    "# Descripción: Dada una edad, asigna una categoría según las siguientes condiciones: si la edad es menor de 18, la categoría \n",
    "# es \"Menor de edad\"; si la edad está entre 18 y 64 (incluyendo ambos), la categoría es \"Adulto\"; de lo contrario, la categoría es \"Adulto mayor\".\n",
    "\n",
    "edad = int(input(\"Dime tu edad: \"))\n",
    "\n",
    "if edad < 18:\n",
    "    print(\"Eres menor de edad\")\n",
    "elif edad >= 18 and edad <= 64:\n",
    "    print(\"Eres adulto\")\n",
    "else:\n",
    "    print(\"Eres adulto mayor\")"
   ]
  },
  {
   "cell_type": "code",
   "execution_count": 9,
   "metadata": {},
   "outputs": [
    {
     "name": "stdout",
     "output_type": "stream",
     "text": [
      "Es un triangulo rectangulo\n"
     ]
    }
   ],
   "source": [
    "# Ejercicio 9: Verificar si tres números forman un triángulo rectángulo\n",
    "# Descripción: Dados tres números, verifica si forman un triángulo rectángulo (si se cumple el teorema de Pitágoras).\n",
    "\n",
    "cateto_1 = 5\n",
    "cateto_2 = 12\n",
    "hipotenusa = 13\n",
    "\n",
    "if cateto_1**2 + cateto_2**2 == hipotenusa**2:\n",
    "    print(\"Es un triangulo rectangulo\")\n",
    "else: \n",
    "    print(\"No es un triangulo rectangulo\")\n",
    "\n"
   ]
  },
  {
   "cell_type": "code",
   "execution_count": 10,
   "metadata": {},
   "outputs": [
    {
     "name": "stdout",
     "output_type": "stream",
     "text": [
      "Tu nota es una C\n"
     ]
    }
   ],
   "source": [
    "# Ejercicio 10: Asignar una calificación a una puntuación\n",
    "# Descripción: Dada una puntuación, asigna una calificación según las siguientes condiciones: \n",
    "# si la puntuación es mayor o igual a 90, la calificación es \"A\"; si es mayor o igual a 80, la calificación es \"B\"; si es mayor o igual a 70, \n",
    "# la calificación es \"C\"; si es mayor o igual a 60, la calificación es \"D\"; de lo contrario, la calificación es \"F\".\n",
    "\n",
    "puntuacion = int(input(\"Dime tu puntuacion: \"))\n",
    "\n",
    "if puntuacion >= 90: \n",
    "    print(\"Tu nota es una A\")\n",
    "elif puntuacion >= 80:\n",
    "    print(\"Tu nota es una B\")\n",
    "elif puntuacion >= 70:\n",
    "    print(\"Tu nota es una C\")\n",
    "elif puntuacion >= 60:\n",
    "    print(\"Tu nota es una D\")\n",
    "else: \n",
    "    print(\"Tu nota es una F\")"
   ]
  },
  {
   "cell_type": "code",
   "execution_count": 11,
   "metadata": {},
   "outputs": [
    {
     "name": "stdout",
     "output_type": "stream",
     "text": [
      "14.342572340349243\n",
      "Bajo peso\n"
     ]
    }
   ],
   "source": [
    "# Ejercicio 11: Calcular el índice de masa corporal (IMC) y categorizarlo\n",
    "# Descripción: Dados el peso (en kg) y la altura (en metros) de una persona, calcula su IMC y categorízalo\n",
    "# según las siguientes condiciones: si el IMC es menor a 18.5, es \"Bajo peso\"; si está entre 18.5 y 24.9 (inclusive), \n",
    "# es \"Peso normal\"; si está entre 25 y 29.9 (inclusive), es \"Sobrepeso\"; de lo contrario, es \"Obesidad\".\n",
    "\n",
    "peso = 40\n",
    "altura = 1.67\n",
    "indice_masa_corporal = peso/(altura**2)\n",
    "\n",
    "print(indice_masa_corporal)\n",
    "\n",
    "if indice_masa_corporal < 18.50:\n",
    "    print(\"Bajo peso\")\n",
    "elif indice_masa_corporal >= 18.5 and indice_masa_corporal <= 24.9:\n",
    "    print(\"peso normal\")\n",
    "elif indice_masa_corporal >= 25 and indice_masa_corporal <= 29.9:\n",
    "    print(\"sobrepeso\")\n",
    "else: \n",
    "    print(\"obesidad\")\n"
   ]
  },
  {
   "cell_type": "code",
   "execution_count": 12,
   "metadata": {},
   "outputs": [
    {
     "name": "stdout",
     "output_type": "stream",
     "text": [
      "El numero mayor es 200\n"
     ]
    }
   ],
   "source": [
    "# Ejercicio 12: Calcular el mayor de tres números\n",
    "# Descripción: Dados tres números, encuentra el mayor entre ellos.\n",
    "\n",
    "numero_1 = 200\n",
    "numero_2 = 148\n",
    "numero_3 = 68\n",
    "\n",
    "if numero_1 > numero_2: \n",
    "    if numero_1 > numero_3:\n",
    "        print(\"El numero mayor es\", numero_1)\n",
    "        \n",
    "    else: \n",
    "        \n",
    "        print(\"El numero mayor es\", numero_3)\n",
    "        \n",
    "elif numero_2 > numero_1:\n",
    "    \n",
    "    if numero_2 > numero_3:\n",
    "        \n",
    "        print(\"El numero mayor es\", numero_2)\n",
    "    else:\n",
    "        print(\"El numero mayor es\", numero_3)\n",
    "\n",
    "elif numero_3 > numero_1:\n",
    "    if numero_3 > numero_2:\n",
    "        print(\"El numero mayor es \", numero_3)\n",
    "    else:\n",
    "        print(\"El numero mayor es\", numero_2)\n",
    "        \n",
    "    "
   ]
  },
  {
   "cell_type": "code",
   "execution_count": 13,
   "metadata": {},
   "outputs": [
    {
     "name": "stdout",
     "output_type": "stream",
     "text": [
      "Esta fecha es valida\n"
     ]
    }
   ],
   "source": [
    "# Ejercicio 13: BONUS sentencias de control: Verificar la validez de una fecha\n",
    "# Descripción: Dados el día, el mes y el año de una fecha, verifica si la fecha es válida.\n",
    "\n",
    "dia = (1,2,3,4,5,6,7,8,9,10,11,12,13,14,15,16,17,18,19,20,21,22,23,24,25,26,27,28,29,30,31)\n",
    "mes = (1,2,3,4,5,6,7,8,9,10,11,12)\n",
    "\n",
    "dia_usuario = int(input(\"dime un día del 1 al 31\"))\n",
    "mes_usuario = int(input(\"Dime un mes \"))\n",
    "dia_usuario in dia\n",
    "mes_usuario in mes\n",
    "\n",
    "año = (int(input(\"Dime un año\")))\n",
    "\n",
    "if dia_usuario in dia:\n",
    "    if mes_usuario in mes:\n",
    "        if año < 9999 and año > 0:\n",
    "            print(\"Esta fecha es valida\")\n",
    "else:\n",
    "    print(\"Esta fecha no es valida\")\n"
   ]
  },
  {
   "cell_type": "markdown",
   "metadata": {},
   "source": [
    "### EJERCICIOS WHILE"
   ]
  },
  {
   "cell_type": "code",
   "execution_count": 14,
   "metadata": {},
   "outputs": [
    {
     "name": "stdout",
     "output_type": "stream",
     "text": [
      "1\n",
      "3\n",
      "6\n",
      "10\n",
      "15\n",
      "21\n",
      "28\n",
      "36\n",
      "45\n",
      "55\n",
      "La suma de los primeros 10 numeros naturales es: 55\n"
     ]
    }
   ],
   "source": [
    "# Ejercicio 1: \n",
    "# Calcular la suma de los primeros 10 números naturales utilizando un bucle while\n",
    "# Descripción: Utiliza un bucle while para calcular la suma de los primeros 10 números naturales (1 + 2 + 3 + ... + 10).\n",
    "\n",
    "suma = 0\n",
    "numero = 1\n",
    "\n",
    "while numero <= 10:\n",
    "    suma += numero\n",
    "    numero += 1\n",
    "    print(suma)\n",
    "print(\"La suma de los primeros 10 numeros naturales es:\", suma)\n",
    "\n"
   ]
  },
  {
   "cell_type": "code",
   "execution_count": 15,
   "metadata": {},
   "outputs": [
    {
     "name": "stdout",
     "output_type": "stream",
     "text": [
      "Numero incorrecto. Intenta nuevamente\n",
      "Felicitaciones, adivinaste el numero secreto en 2 intentos\n"
     ]
    }
   ],
   "source": [
    "# Ejercicio\n",
    "# Juego de adivinanza utilizando un bucle while\n",
    "#Descripción: Crea un juego de adivinanza en el que el jugador tiene que adivinar un número secreto (tendrá que ser entre el 0 y el 10). \n",
    "# Utiliza un bucle while para permitir múltiples intentos hasta que el jugador adivine correctamente.\n",
    "\n",
    "numero_secreto = 7\n",
    "intentos = 0\n",
    "adivinado = False\n",
    "\n",
    "while not adivinado: # while adivinado == False\n",
    "    intento = int(input(\"Adivina el numero secreto: \"))\n",
    "    intentos += 1\n",
    "\n",
    "    if intento == numero_secreto:\n",
    "        print(\"Felicitaciones, adivinaste el numero secreto en\", intentos, \"intentos\")\n",
    "        adivinado = True\n",
    "    else: \n",
    "        print(\"Numero incorrecto. Intenta nuevamente\")"
   ]
  }
 ],
 "metadata": {
  "kernelspec": {
   "display_name": "Python 3",
   "language": "python",
   "name": "python3"
  },
  "language_info": {
   "codemirror_mode": {
    "name": "ipython",
    "version": 3
   },
   "file_extension": ".py",
   "mimetype": "text/x-python",
   "name": "python",
   "nbconvert_exporter": "python",
   "pygments_lexer": "ipython3",
   "version": "3.11.9"
  }
 },
 "nbformat": 4,
 "nbformat_minor": 2
}
