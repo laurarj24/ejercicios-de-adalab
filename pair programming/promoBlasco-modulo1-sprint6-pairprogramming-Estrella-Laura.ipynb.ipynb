{
 "cells": [
  {
   "cell_type": "markdown",
   "metadata": {},
   "source": [
    "## FUNCIONES"
   ]
  },
  {
   "cell_type": "code",
   "execution_count": 19,
   "metadata": {},
   "outputs": [
    {
     "name": "stdout",
     "output_type": "stream",
     "text": [
      "78.53981633974483\n"
     ]
    }
   ],
   "source": [
    "# Ejercicio 1: Calcular el área de un círculo.\n",
    "'''Descripción: Crea una función llamada calcular_area_circulo que tome el radio como parámetro \n",
    "y devuelva el área del círculo.'''\n",
    "\n",
    "import math\n",
    "\n",
    "radio = 5\n",
    "area = math.pi * radio **2\n",
    "\n",
    "print(area)"
   ]
  },
  {
   "cell_type": "code",
   "execution_count": 20,
   "metadata": {},
   "outputs": [
    {
     "name": "stdout",
     "output_type": "stream",
     "text": [
      "27\n"
     ]
    }
   ],
   "source": [
    "# Ejercicio 2: Contar la cantidad de caracteres en una cadena.\n",
    "'''Descripción: Crea una función llamada contar_caracteres que tome una cadena como parámetro \n",
    "y devuelva la cantidad de caracteres que contiene.'''\n",
    "def cantidad_de_caracteres(cadena):\n",
    "    lista_letra = []\n",
    "    for letra in cadena:\n",
    "        lista_letra.append(letra)\n",
    "    print(len(lista_letra))\n",
    "        \n",
    "\n",
    "cantidad_de_caracteres (\"Hola que tal como te llamas\")"
   ]
  },
  {
   "cell_type": "code",
   "execution_count": 21,
   "metadata": {},
   "outputs": [
    {
     "name": "stdout",
     "output_type": "stream",
     "text": [
      "False\n"
     ]
    }
   ],
   "source": [
    "# Ejercicio 3: Determinar si una cadena es un palíndromo.\n",
    "'''Descripción: Crea una función llamada es_palindromo que tome una cadena \n",
    "como parámetro y devuelva True si es un palíndromo, o False si no lo es.'''\n",
    "\n",
    "def es_palindromo (palabra):\n",
    "\n",
    "    lista_original = list(palabra)\n",
    "    lista_inv = lista_original.copy() \n",
    "    # Hago copia porque el metodo reverse modifica la lista sobre la que se aplica, alterandola\n",
    "    lista_inv.reverse()\n",
    "        \n",
    "    if lista_original == lista_inv:\n",
    "        print(True)\n",
    "    else:\n",
    "        print(False)\n",
    "        \n",
    "\n",
    "es_palindromo(\"anilinaaaaa\")"
   ]
  },
  {
   "cell_type": "code",
   "execution_count": 22,
   "metadata": {},
   "outputs": [
    {
     "name": "stdout",
     "output_type": "stream",
     "text": [
      "2.0\n"
     ]
    }
   ],
   "source": [
    "# Ejercicio 4: Calcular el promedio de una lista de números.\n",
    "'''Descripción: Crea una función llamada calcular_promedio que tome una lista \n",
    "de números como parámetro y devuelva el promedio de todos sus elementos.'''\n",
    "\n",
    "def promedio (lista):\n",
    "  sum = 0\n",
    "  for i in lista:\n",
    "    sum =  i + sum\n",
    "  media = sum/len(lista)\n",
    "  return media\n",
    "\n",
    "lista = [1,2,3]\n",
    "\n",
    "print(promedio(lista))\n",
    "    \n",
    "    \n",
    "\n"
   ]
  },
  {
   "cell_type": "code",
   "execution_count": 14,
   "metadata": {},
   "outputs": [
    {
     "name": "stdout",
     "output_type": "stream",
     "text": [
      "2138.428376721003\n"
     ]
    }
   ],
   "source": [
    "# Ejercicio 5: Calcular el interés compuesto.\n",
    "'''Descripción: Crea una función llamada calcular_interes_compuesto que tome el capital \n",
    "inicial, la tasa de interés y el número de períodos como parámetros y devuelva el beneficio \n",
    "final después del interés compuesto.'''\n",
    "\n",
    "# la formula del interes compuesto es => capital final = capital inicial (1+tasa interes)** periodo ahorro\n",
    "\n",
    "capital_inicial = int(input(\"Dime cual es tu capital\"))\n",
    "tasa_interes = 0.1\n",
    "periodo_inversion_años = int(input(\"Cuanto tiempo vas a dejar el dinero en una cuenta de ahorro\"))\n",
    "\n",
    "def calcular_interes_compuesto (capital_inicial, tasa_interes, periodo_inversion_años):\n",
    "    capital_final = capital_inicial * (1 + tasa_interes)**periodo_inversion_años\n",
    "    beneficio = capital_final - capital_inicial\n",
    "    return beneficio\n",
    "\n",
    "print(calcular_interes_compuesto(capital_inicial, tasa_interes, periodo_inversion_años))\n",
    "    \n",
    "\n"
   ]
  },
  {
   "cell_type": "code",
   "execution_count": 15,
   "metadata": {},
   "outputs": [
    {
     "name": "stdout",
     "output_type": "stream",
     "text": [
      "True\n"
     ]
    }
   ],
   "source": [
    "# Ejercicio 6: Validar si una palabra es un anagrama de otra\n",
    "'''Descripción: Crea una función llamada es_anagrama que tome dos palabras como parámetros \n",
    "y devuelva True si una es un anagrama de la otra, o False si no lo es.'''\n",
    "'''Cambio en el orden de las letras de una palabra o frase que da lugar a otra palabra o frase distinta.'''\n",
    "\n",
    "def es_anagrama (palabra1, palabra2):\n",
    "    palabra1 = set(palabra1)\n",
    "    palabra2 = set(palabra2)\n",
    "    anagrama = True\n",
    "    if palabra1 == palabra2:\n",
    "        anagrama = True\n",
    "    else: \n",
    "        anagrama = False\n",
    "    return anagrama\n",
    "\n",
    "print(es_anagrama(\"roma\", \"omra\"))\n",
    "       \n",
    "\n"
   ]
  },
  {
   "cell_type": "code",
   "execution_count": 16,
   "metadata": {},
   "outputs": [
    {
     "name": "stdout",
     "output_type": "stream",
     "text": [
      "False\n"
     ]
    }
   ],
   "source": [
    "# Ejercicio 7: Validar si una cadena de texto es un isograma.\n",
    "'''Descripción: Crea una función llamada es_isograma que tome una cadena de \n",
    "texto como parámetro y devuelva True si es un isograma. En caso contrario, devuelve False.'''\n",
    "'''¿Qué es un isograma? Una palabra que no contiene letras repetidas.'''\n",
    "\n",
    "def es_isograma(palabra):\n",
    "  palabra = palabra.lower() # para que considere iguales la misma letra sin importar si está en mayuscula o en minuscula\n",
    "  lista = []\n",
    "  for i in palabra:\n",
    "    if i in lista:\n",
    "      return False\n",
    "      break  \n",
    "    else:\n",
    "      lista.append(i)\n",
    "  return True\n",
    "\n",
    "print(es_isograma(\"holaaaaaa\"))\n",
    "\n",
    "# Hacemos un primer bucle for que itera las letras de la palabra y va incorporandolas en una lista vacia, \n",
    "# siempre y cuando no esté ya en ella, para lo cual hacemos un if else, primero verifica si la palabra no esta en la lista, si no está, \n",
    "# la incorpora con un append, y si ya está esa letra en la lista retorna un false y para el bucle.   \n",
    "\n",
    "\n",
    "    "
   ]
  },
  {
   "cell_type": "code",
   "execution_count": 17,
   "metadata": {},
   "outputs": [
    {
     "name": "stdout",
     "output_type": "stream",
     "text": [
      "Holaque tal¿como estás?\n"
     ]
    }
   ],
   "source": [
    "# Ejercicio 8: Concatenar múltiples cadenas de texto\n",
    "'''Descripción: Crea una función llamada concatenar_cadenas que tome una cantidad variable de cadenas de texto como argumentos \n",
    "y devuelva una única cadena que contenga la concatenación de todas las cadenas ingresadas.'''\n",
    "\n",
    "def concatenar_cadenas (*args):\n",
    "    frase = ''\n",
    "    for palabra in args:\n",
    "        frase = frase + palabra\n",
    "        \n",
    "    return frase\n",
    "\n",
    "palabra1 = \"Hola\"\n",
    "palabra2 = \"que tal\"\n",
    "palabra3 = \"¿como estás?\"\n",
    "\n",
    "print(concatenar_cadenas(palabra1, palabra2, palabra3))"
   ]
  },
  {
   "cell_type": "markdown",
   "metadata": {},
   "source": [
    "## EJERCICIOS TRY EXCEPT"
   ]
  },
  {
   "cell_type": "code",
   "execution_count": 23,
   "metadata": {},
   "outputs": [
    {
     "name": "stdout",
     "output_type": "stream",
     "text": [
      "['isabel', ' fernando', ' laura']\n",
      "El nombre que has elegido es fatima\n",
      "Lo siento, el nombre no se encuentra en la lista\n"
     ]
    }
   ],
   "source": [
    "# Ejercicio 1: Realizar una busqueda en una lista y capturar una excepción en caso de valor no encontrado\n",
    "'''Descripción: Solicita al usuario una lista de nombres y un nombre para buscar en la lista. Intenta encontrar \n",
    "el nombre en la lista y utiliza las sentencias try y except para capturar la excepción en caso de que el nombre no sea encontrado'''\n",
    "\n",
    "nombres = input(\"Dame varios nombres separados por comas sin espacios para realizar la lista de nombres => \").lower()\n",
    "lista_nombres = nombres.split(\",\")\n",
    "print(lista_nombres)\n",
    "nombre_a_buscar = input(\"Dime que nombre quieres ver si está en la lista => \").lower()\n",
    "\n",
    "print(f\"El nombre que has elegido es {nombre_a_buscar}\")\n",
    "\n",
    "try:\n",
    "    lista_nombres.index(nombre_a_buscar)\n",
    "    print(\"El nombre sí está en la lista\")\n",
    "except: \n",
    "    print(\"Lo siento, el nombre no se encuentra en la lista\")\n",
    "    \n",
    "    \n",
    "        "
   ]
  }
 ],
 "metadata": {
  "kernelspec": {
   "display_name": "Python 3",
   "language": "python",
   "name": "python3"
  },
  "language_info": {
   "codemirror_mode": {
    "name": "ipython",
    "version": 3
   },
   "file_extension": ".py",
   "mimetype": "text/x-python",
   "name": "python",
   "nbconvert_exporter": "python",
   "pygments_lexer": "ipython3",
   "version": "3.11.9"
  }
 },
 "nbformat": 4,
 "nbformat_minor": 2
}
