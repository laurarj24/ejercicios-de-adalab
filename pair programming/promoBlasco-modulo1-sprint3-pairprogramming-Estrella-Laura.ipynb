{
 "cells": [
  {
   "cell_type": "markdown",
   "metadata": {},
   "source": [
    "## Ejercicios diccionarios"
   ]
  },
  {
   "cell_type": "code",
   "execution_count": 3,
   "metadata": {},
   "outputs": [
    {
     "name": "stdout",
     "output_type": "stream",
     "text": [
      "<class 'dict'>\n"
     ]
    }
   ],
   "source": [
    "# Ejercicio 1: Crear un diccionario vacío. Descripción: Crea un diccionario vacío sin ningún par clave-valor.\n",
    "\n",
    "diccionario = {}\n",
    "print(type(diccionario))\n"
   ]
  },
  {
   "cell_type": "code",
   "execution_count": 2,
   "metadata": {},
   "outputs": [
    {
     "name": "stdout",
     "output_type": "stream",
     "text": [
      "{'Tobby': 'Pastor Aleman', 'Wally': 'Beagle', 'Rocky': 'BullDog', 'Luna': 'Bichon', 'Lola': 'Carlino'}\n"
     ]
    }
   ],
   "source": [
    "# Ejercicio 2: Crear un diccionario con elementos\n",
    "# Descripción: Crea un diccionario con pares clave-valor predefinidos. \n",
    "# el diccionario con las claves y valores que querais. \n",
    "# NOTA El diccionario debe tener al menos 5 pares de clave:valor.\n",
    "\n",
    "raza_perro = {\n",
    "    \"Tobby\": \"Pastor Aleman\", \n",
    "    \"Wally\": \"Beagle\", \n",
    "    \"Rocky\": \"BullDog\", \n",
    "    \"Luna\":\"Bichon\", \n",
    "    \"Lola\": \"Carlino\" \n",
    "}\n",
    "print(raza_perro)"
   ]
  },
  {
   "cell_type": "code",
   "execution_count": 3,
   "metadata": {},
   "outputs": [
    {
     "name": "stdout",
     "output_type": "stream",
     "text": [
      "Pastor Aleman\n"
     ]
    }
   ],
   "source": [
    "# Ejercicio 3 : Acceder al valor de una clave en un diccionario.\n",
    "# Descripción: Usando el diccionario creado en el paso anterior, obtén el valor correspondiente a \n",
    "# una clave específica que indique el usuario (debereis usar la función input() para preguntar al usuario).\n",
    "nombre_usuario = input(\"Dime el nombre de tu perro\")\n",
    "print(raza_perro.get(nombre_usuario))"
   ]
  },
  {
   "cell_type": "code",
   "execution_count": 4,
   "metadata": {},
   "outputs": [
    {
     "name": "stdout",
     "output_type": "stream",
     "text": [
      "{'Tobby': 'Pastor Aleman', 'Wally': 'Beagle', 'Rocky': 'BullDog', 'Luna': 'Bichon', 'Lola': 'Carlino', 'Sancho': 'BassetHound'}\n"
     ]
    }
   ],
   "source": [
    "# Ejercicio 4: Agregar un nuevo par clave-valor a un diccionario.\n",
    "# Descripción: Usando el diccionario creado en el ejercicio 2, agrega un nuevo par clave-valor.\n",
    "nuevo_miembro = {\"Sancho\":\"BassetHound\"}\n",
    "raza_perro.update(nuevo_miembro)\n",
    "print(raza_perro)\n",
    "\n"
   ]
  },
  {
   "cell_type": "markdown",
   "metadata": {},
   "source": [
    "## EJERCICIO QUE HEMOS HECHO MAL"
   ]
  },
  {
   "cell_type": "code",
   "execution_count": 13,
   "metadata": {},
   "outputs": [
    {
     "name": "stdout",
     "output_type": "stream",
     "text": [
      "{'Tobby': 'Pastor Belga', 'Wally': 'Beagle', 'Rocky': 'BullDog', 'Luna': 'Bichon', 'Lola': 'Carlino', 'Sancho': 'BassetHound', 'Lacky': 'Pastor Aleman', 'Blacky': 'Modificado'}\n"
     ]
    }
   ],
   "source": [
    "# Ejercicio 5: Actualizar el valor de una clave en un diccionario\n",
    "# Descripción: Usando el diccionario creado en el ejercicio 2, \n",
    "# actualiza el valor correspondiente a una clave existente. \n",
    "\n",
    "raza_perro.update({\"Tobby\": \"Pastor Belga\"}) #HEMOS HECHO UN SETDEFAULT Y HABIA QUE HACER UN UPDATE, porque el setdefaul dandole par clave valor lo añade si no está la clave\n",
    "# no la superpone, solo añade par nuevo, en cambio update si modificaria el par\n",
    "\n",
    "print(raza_perro)"
   ]
  },
  {
   "cell_type": "code",
   "execution_count": 19,
   "metadata": {},
   "outputs": [
    {
     "name": "stdout",
     "output_type": "stream",
     "text": [
      "{'Rocky': 'BullDog', 'Luna': 'Bichon', 'Lola': 'Carlino', 'Sancho': 'BassetHound'}\n"
     ]
    }
   ],
   "source": [
    "# Ejercicio 6: Eliminar un par clave-valor de un diccionario\n",
    "# Descripción: Usando el diccionario creado en el ejercicio 2, \n",
    "# elimina un par clave-valor específico que indique el usuario \n",
    "# (debereis usar la función input() para preguntar al usuario).\n",
    "\n",
    "raza_perro.pop(\"Wally\")\n",
    "print(raza_perro)\n",
    "\n"
   ]
  },
  {
   "cell_type": "code",
   "execution_count": 22,
   "metadata": {},
   "outputs": [
    {
     "name": "stdout",
     "output_type": "stream",
     "text": [
      "True\n"
     ]
    }
   ],
   "source": [
    "# Ejercicio 7: Verificar si una clave está presente en un diccionario\n",
    "# Descripción: Usando el diccionario creado en el ejercicio 2, verifica \n",
    "# si una clave específica está presente en él. La clave a buscar debe ser pasada por el usuario, \n",
    "# debereis usar un input().\n",
    "\n",
    "nombre_usuario = input(\"Dime el nombre de tu perro => \")\n",
    "print(nombre_usuario in raza_perro)\n"
   ]
  },
  {
   "cell_type": "code",
   "execution_count": 27,
   "metadata": {},
   "outputs": [
    {
     "name": "stdout",
     "output_type": "stream",
     "text": [
      "dict_keys(['Rocky', 'Luna', 'Lola', 'Sancho'])\n",
      "['Rocky', 'Luna', 'Lola', 'Sancho']\n"
     ]
    }
   ],
   "source": [
    "# Ejercicio 8: Obtener una lista de todas las claves de un diccionario\n",
    "# Descripción: Usando el diccionario creado en el ejercicio 2, obtén una lista con todas las claves que contiene.\n",
    "\n",
    "print(raza_perro.keys())\n",
    "print(list(raza_perro.keys()))\n",
    "\n",
    "# Creemos que valdría de las dos maneras\n",
    "\n",
    "\n"
   ]
  },
  {
   "cell_type": "code",
   "execution_count": 29,
   "metadata": {},
   "outputs": [
    {
     "name": "stdout",
     "output_type": "stream",
     "text": [
      "dict_values(['BullDog', 'Bichon', 'Carlino', 'BassetHound'])\n",
      "['BullDog', 'Bichon', 'Carlino', 'BassetHound']\n"
     ]
    }
   ],
   "source": [
    "# Ejercicio 9: Obtener una lista de todos los valores de un diccionario\n",
    "# Descripción: Usando el diccionario creado en el ejercicio 2, obtén una \n",
    "# lista con todos los valores que contiene.\n",
    "\n",
    "print(raza_perro.values())\n",
    "print(list(raza_perro.values()))\n",
    "\n",
    "# Creemos que valdría de las dos maneras\n"
   ]
  },
  {
   "cell_type": "code",
   "execution_count": 30,
   "metadata": {},
   "outputs": [
    {
     "name": "stdout",
     "output_type": "stream",
     "text": [
      "{'Rocky': 'BullDog', 'Luna': 'Bichon', 'Lola': 'Carlino', 'Sancho': 'BassetHound', 'Tobby': 'Pastor Belga'}\n"
     ]
    }
   ],
   "source": [
    "# Ejercicio 10: Utilizar el método setdefault() para establecer un valor predeterminado si la clave no existe\n",
    "# Descripción: Usando el diccionario creado en el ejercicio 2, obten el valor correspondiente a una clave. \n",
    "# Si la clave no existe, establece un valor predeterminado y devuelve dicho valor.\n",
    "\n",
    "raza_perro.setdefault(\"Tobby\", \"Pastor Belga\")\n",
    "print(raza_perro)"
   ]
  },
  {
   "cell_type": "code",
   "execution_count": 39,
   "metadata": {},
   "outputs": [
    {
     "name": "stdout",
     "output_type": "stream",
     "text": [
      "{'Lola': 'Carlino', 'Sancho': 'BassetHound', 'Tobby': 'Pastor Belga'}\n",
      "{'Lola': 'Carlino', 'Sancho': 'BassetHound'}\n"
     ]
    }
   ],
   "source": [
    "# Ejercicio 11: Manipulación de un diccionario utilizando pop() y popitem()\n",
    "# Descripción: Usando el diccionario creado en el ejercicio 2, realiza operaciones de \n",
    "# eliminación utilizando pop() y popitem(), y observa cómo afectan al diccionario.\n",
    "\n",
    "raza_perro_copy = raza_perro.copy()\n",
    "\n",
    "raza_perro_copy.pop(\"Luna\")\n",
    "print(raza_perro_copy)\n",
    "\n",
    "raza_perro_copy.popitem()\n",
    "print(raza_perro_copy)\n",
    "\n",
    "''' La diferencia entre pop y popitem en diccionarios en que en pop le damos una clave y retorna el valor y elimina ese elemento y en\n",
    "popitem elimina el ultimo valor añadido'''\n"
   ]
  },
  {
   "cell_type": "markdown",
   "metadata": {},
   "source": [
    "## Ejercicios sets"
   ]
  },
  {
   "cell_type": "code",
   "execution_count": 41,
   "metadata": {},
   "outputs": [
    {
     "name": "stdout",
     "output_type": "stream",
     "text": [
      "<class 'set'>\n"
     ]
    }
   ],
   "source": [
    "# Ejercicio 1: Crear un conjunto vacío\n",
    "# Descripción: Crea un conjunto vacío sin ningún elemento.\n",
    "\n",
    "mi_set = set({})\n",
    "\n",
    "# Hay que hacerlo con la funcion set porque si lo hicieramos solo con las llaves creamos un diccionario\n"
   ]
  },
  {
   "cell_type": "code",
   "execution_count": 42,
   "metadata": {},
   "outputs": [
    {
     "name": "stdout",
     "output_type": "stream",
     "text": [
      "{'Caballo', 'Perro', 'Gato', 'Pantera', 'Oso Panda'}\n"
     ]
    }
   ],
   "source": [
    "# Ejercicio 2: Crear un conjunto con elementos\n",
    "# Descripción: Crea un conjunto con elementos predefinidos.\n",
    "\n",
    "vertebrados = {\"Perro\", \"Gato\", \"Pantera\", \"Oso Panda\", \"Caballo\"}\n",
    "print(vertebrados)"
   ]
  },
  {
   "cell_type": "code",
   "execution_count": 1,
   "metadata": {},
   "outputs": [
    {
     "name": "stdout",
     "output_type": "stream",
     "text": [
      "{'Pantera', 'Camaleon', 'Gato', 'Caballo', 'Perro', 'Oso Panda'}\n",
      "{'Pantera', 'Camaleon', 'Chimpancé', 'Gato', 'Caballo', 'León', 'Perro', 'Oso Panda'}\n"
     ]
    }
   ],
   "source": [
    "# Ejercicio 3: Agregar elementos a un conjunto\n",
    "# Descripción: Usando el set creado en el ejercicio 2, agrega nuevos elementos. \n",
    "# Debereis agregar por separado: \n",
    "# - Un elemento solo \n",
    "# - Un par de elementos a la vez.\n",
    "vertebrados = {\"Perro\", \"Gato\", \"Pantera\", \"Oso Panda\", \"Caballo\"}\n",
    "\n",
    "vertebrados.add(\"Camaleon\") # añade un elemento a un conjunto\n",
    "\n",
    "print(vertebrados)\n",
    "\n",
    "vertebrados_añadir = [\"León\", \"Chimpancé\"]\n",
    "\n",
    "vertebrados.update(vertebrados_añadir) # update añade una lista de elementos dentro de un conjunto\n",
    "print(vertebrados)"
   ]
  },
  {
   "cell_type": "code",
   "execution_count": 46,
   "metadata": {},
   "outputs": [
    {
     "name": "stdout",
     "output_type": "stream",
     "text": [
      "{'Caballo', 'Perro', 'Camaleon', 'Chimpancé', 'Gato', 'Pantera', 'Oso Panda'}\n"
     ]
    }
   ],
   "source": [
    "# Ejercicio 4: Eliminar un elemento de un conjunto\n",
    "# Descripción: Usando el set creado en el ejercicio 2, elimina un elemento especificado por el usuario.\n",
    "\n",
    "\n",
    "vertebrados.remove(\"León\")\n",
    "print(vertebrados)\n",
    "\n",
    "# No estamos seguras si se nos pedia hacer un input o no. "
   ]
  },
  {
   "cell_type": "code",
   "execution_count": 48,
   "metadata": {},
   "outputs": [
    {
     "name": "stdout",
     "output_type": "stream",
     "text": [
      "False\n",
      "True\n"
     ]
    }
   ],
   "source": [
    "# Ejercicio 5: Verificar la pertenencia de un elemento en un conjunto\n",
    "# Descripción: Usando el set creado en el ejercicio 2, verifica si un elemento específico está presente en él.\n",
    "\n",
    "print(\"León\" in vertebrados)\n",
    "print(\"Camaleon\" in vertebrados)\n",
    "\n"
   ]
  },
  {
   "cell_type": "code",
   "execution_count": 53,
   "metadata": {},
   "outputs": [
    {
     "name": "stdout",
     "output_type": "stream",
     "text": [
      "{1, 2, 3, 4, 5, 6, 7, 8, 10, 11}\n"
     ]
    }
   ],
   "source": [
    "# Ejercicio 6: Realizar una unión de conjuntos\n",
    "# Descripción: Dados dos conjuntos, realiza una unión de ellos.\n",
    "\n",
    "set_1 = {1,2,3,5,7,11}\n",
    "set_2 = {2,4,6,8,10}\n",
    "\n",
    "union_sets= set_1.union(set_2)\n",
    "print(union_sets)\n",
    "\n"
   ]
  },
  {
   "cell_type": "code",
   "execution_count": 54,
   "metadata": {},
   "outputs": [
    {
     "name": "stdout",
     "output_type": "stream",
     "text": [
      "{2}\n"
     ]
    }
   ],
   "source": [
    "# Ejercicio 7: Realizar una intersección de conjuntos\n",
    "# Descripción: Usando dos conjuntos de datos definidos en el ejercicio anterior,\n",
    "# realiza una intersección de ellos.\n",
    "\n",
    "intersection_sets = set_1.intersection(set_2)\n",
    "print(intersection_sets)"
   ]
  },
  {
   "cell_type": "code",
   "execution_count": 56,
   "metadata": {},
   "outputs": [
    {
     "name": "stdout",
     "output_type": "stream",
     "text": [
      "{1, 3, 5, 7, 11}\n",
      "{8, 10, 4, 6}\n"
     ]
    }
   ],
   "source": [
    "# Ejercicio 8: Realizar una diferencia de conjuntos\n",
    "# Descripción: Usando dos conjuntos de datos definidos en el ejercicio anterior, realiza una diferencia entre ellos.\n",
    "\n",
    "diferencia_sets = set_1.difference(set_2)\n",
    "print(diferencia_sets)\n",
    "\n",
    "diferencia_sets_2 = set_2.difference(set_1)\n",
    "print(diferencia_sets_2)"
   ]
  },
  {
   "cell_type": "code",
   "execution_count": 59,
   "metadata": {},
   "outputs": [
    {
     "name": "stdout",
     "output_type": "stream",
     "text": [
      "True\n",
      "False\n"
     ]
    }
   ],
   "source": [
    "# Ejercicio 9: Verificar si un conjunto es subconjunto de otro\n",
    "# Descripción: Dados dos conjuntos, verifica si uno es subconjunto del otro.\n",
    "\n",
    "conjunto_1 = {1,2,3}\n",
    "conjunto_2 = {1,2,3,4,5,6,7}\n",
    "\n",
    "print(conjunto_1.issubset(conjunto_2))\n",
    "print(conjunto_2.issubset(conjunto_1))\n",
    "\n"
   ]
  }
 ],
 "metadata": {
  "kernelspec": {
   "display_name": "Python 3",
   "language": "python",
   "name": "python3"
  },
  "language_info": {
   "codemirror_mode": {
    "name": "ipython",
    "version": 3
   },
   "file_extension": ".py",
   "mimetype": "text/x-python",
   "name": "python",
   "nbconvert_exporter": "python",
   "pygments_lexer": "ipython3",
   "version": "3.12.2"
  }
 },
 "nbformat": 4,
 "nbformat_minor": 2
}
