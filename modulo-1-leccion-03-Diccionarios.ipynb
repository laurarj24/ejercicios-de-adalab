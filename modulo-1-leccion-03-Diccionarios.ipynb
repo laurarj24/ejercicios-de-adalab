{
 "cells": [
  {
   "cell_type": "markdown",
   "metadata": {
    "id": "5PcBreuKcX1-"
   },
   "source": [
    "\n",
    "\n",
    "---\n",
    "\n",
    "\n",
    "# Ejercicios\n",
    "\n",
    "- Definir diccionarios\n",
    "\n",
    "  1. Crea el diccionario `festivos` con las fechas como claves y los nombres como valores: 01/01: Año Nuevo, 06/01: Epifanía del Señor, 15/04: Viernes Santo, 15/08: Asunción de la Virgen, 12/10: Fiesta Nacional de España, 01/11: Todos los Santos, 06/12: Día de la Constitución Española, y 08/12: Inmaculada Concepción.\n",
    "\n",
    "\n",
    "  2. Crea el diccionario `monarcas` con los países como claves y los nombres como valores: Bélgica: Philippe, Dinamarca: Margrethe II, Holanda: Beatrix, Noruega: Harald V, España: Felipe VI, Reino Unido: Carlos III.\n",
    "\n"
   ]
  },
  {
   "cell_type": "code",
   "execution_count": 23,
   "metadata": {},
   "outputs": [
    {
     "name": "stdout",
     "output_type": "stream",
     "text": [
      "El diccionario con los festivos de España es {'01/01': 'Año Nuevo', '06/01': 'Epifanía del Señor', '15/04': 'Viernes Santo', '15/08': 'Asunción de la Virgen', '12/10': 'Fiesta Nacional de España'}\n",
      "<class 'dict'>\n",
      "La lista de monarcas Europeos es {'Bélgica': 'Philippe', 'Dinamarca': 'Marguethe II', 'Holanda': 'Beatrix', 'Noruega': 'Harald V', 'España': 'Felipe VI', 'Reino_Unido': 'Carlos III'}\n",
      "<class 'dict'>\n"
     ]
    }
   ],
   "source": [
    "\n",
    "# Definir diccionarios\n",
    "\n",
    "# 1. Crea el diccionario `festivos` con las fechas como claves y los nombres como valores: \n",
    "# 01/01: Año Nuevo, 06/01: Epifanía del Señor, 15/04: Viernes Santo, 15/08: Asunción de la Virgen, 12/10: Fiesta Nacional de España, \n",
    "# 01/11: Todos los Santos, 06/12: Día de la Constitución Española, y 08/12: Inmaculada Concepción.\n",
    "\n",
    "festivos = {\n",
    "    \"01/01\": \"Año Nuevo\",\n",
    "    \"06/01\": \"Epifanía del Señor\", \n",
    "    \"15/04\": \"Viernes Santo\", \n",
    "    \"15/08\": \"Asunción de la Virgen\", \n",
    "    \"12/10\": \"Fiesta Nacional de España\" \n",
    "}\n",
    "\n",
    "print(\"El diccionario con los festivos de España es\", festivos)\n",
    "print(type(festivos))\n",
    "\n",
    "\n",
    "  #2. Crea el diccionario `monarcas` con los países como claves y los nombres como valores: Bélgica: Philippe, Dinamarca: Margrethe II, \n",
    "  # Holanda: Beatrix, Noruega: Harald V, España: Felipe VI, Reino Unido: Carlos III.\n",
    "  \n",
    "monarcas = dict(Bélgica = \"Philippe\", Dinamarca = \"Marguethe II\", Holanda = \"Beatrix\", Noruega = \"Harald V\", España = \"Felipe VI\", Reino_Unido = \"Carlos III\")\n",
    "print(\"La lista de monarcas Europeos es\", monarcas)\n",
    "print(type(monarcas))\n",
    "              "
   ]
  },
  {
   "cell_type": "markdown",
   "metadata": {},
   "source": [
    "- Leer, añadir, y cambiar elementos\n",
    "\n",
    "  3. ¿Qué festivo hay el 15/04?\n",
    "\n",
    "\n",
    "  4. La reina `'Beatrix'` abdicó, ahora es el rey `'Willem-Alexander'`. Actualiza el dict.\n",
    "\n",
    "  \n",
    "  5. El rey de Luxemburgo se llama `Henri`. Añadelo al dict usando `.update()`. \n",
    "\n"
   ]
  },
  {
   "cell_type": "code",
   "execution_count": 35,
   "metadata": {},
   "outputs": [
    {
     "name": "stdout",
     "output_type": "stream",
     "text": [
      "{'01/01': 'Año Nuevo', '06/01': 'Epifanía del Señor', '15/04': 'Viernes Santo', '15/08': 'Asunción de la Virgen', '12/10': 'Fiesta Nacional de España'}\n",
      "El festivo que hay el 15/04 es Viernes Santo\n",
      "El festivo que hay el 15/04 es Viernes Santo\n",
      "{'Bélgica': 'Philippe', 'Dinamarca': 'Marguethe II', 'Holanda': 'Willem Alexander', 'Noruega': 'Harald V', 'España': 'Felipe VI', 'Reino_Unido': 'Carlos III', 'Luxemburgo': 'Henri'}\n",
      "La reina Beatrix abdicó, ahora el rey es Willem Alexander\n",
      "{'Bélgica': 'Philippe', 'Dinamarca': 'Marguethe II', 'Holanda': 'Willem Alexander', 'Noruega': 'Harald V', 'España': 'Felipe VI', 'Reino_Unido': 'Carlos III', 'Luxemburgo': 'Henri'}\n"
     ]
    }
   ],
   "source": [
    "# Leer, añadir, y cambiar elementos\n",
    "\n",
    "# 3. ¿Qué festivo hay el 15/04?\n",
    "\n",
    "print(festivos)\n",
    "\n",
    "print(\"El festivo que hay el 15/04 es\", festivos[\"15/04\"])\n",
    "print(\"El festivo que hay el 15/04 es\", festivos.get(\"15/04\"))\n",
    "\n",
    "\n",
    "# 4. La reina `'Beatrix'` abdicó, ahora es el rey `'Willem-Alexander'`. Actualiza el dict.\n",
    "\n",
    "print(monarcas)\n",
    "monarcas[\"Holanda\"] = \"Willem Alexander\"\n",
    "print(\"La reina Beatrix abdicó, ahora el rey es\", monarcas [\"Holanda\"])\n",
    "\n",
    "  \n",
    "#5. El rey de Luxemburgo se llama `Henri`. Añadelo al dict usando `.update()`. \n",
    "\n",
    "rey_luxemburgo = {\"Luxemburgo\":\"Henri\"}\n",
    "monarcas.update(rey_luxemburgo)\n",
    "print(monarcas)"
   ]
  },
  {
   "cell_type": "markdown",
   "metadata": {},
   "source": [
    "- Comprobar contenidos\n",
    "\n",
    "  6. ¿Cuántos países están definidos en `monarcas`?\n",
    "\n",
    "  7. ¿Es `'Monaco'` uno de ellos?\n",
    "\n",
    "  8. ¿Es verdad que nos olvidamos de poner `'Suecia'`? Compruébalo de una manera en que obtengas un `True` o `False`.\n",
    "\n"
   ]
  },
  {
   "cell_type": "code",
   "execution_count": 38,
   "metadata": {},
   "outputs": [
    {
     "name": "stdout",
     "output_type": "stream",
     "text": [
      "{'Bélgica': 'Philippe', 'Dinamarca': 'Marguethe II', 'Holanda': 'Willem Alexander', 'Noruega': 'Harald V', 'España': 'Felipe VI', 'Reino_Unido': 'Carlos III', 'Luxemburgo': 'Henri', 'Suecia': None}\n",
      "El numero de paises definido en el dict monarcas es => 8\n",
      "¿Está Mónaco entre el listado de países? False\n",
      "¿Está Suecia entre el listado de países? True\n",
      "None\n",
      "{'Bélgica': 'Philippe', 'Dinamarca': 'Marguethe II', 'Holanda': 'Willem Alexander', 'Noruega': 'Harald V', 'España': 'Felipe VI', 'Reino_Unido': 'Carlos III', 'Luxemburgo': 'Henri', 'Suecia': None}\n"
     ]
    }
   ],
   "source": [
    "# Comprobar contenidos\n",
    "\n",
    "#6. ¿Cuántos países están definidos en `monarcas`?\n",
    "\n",
    "print(monarcas)\n",
    "print(\"El numero de paises definido en el dict monarcas es =>\", len(monarcas))\n",
    "\n",
    "# ¿Es `'Monaco'` uno de ellos?\n",
    "\n",
    "print(\"¿Está Mónaco entre el listado de países?\", \"Monaco\" in monarcas)\n",
    "\n",
    "# 8. ¿Es verdad que nos olvidamos de poner `'Suecia'`? Compruébalo de una manera en que obtengas un `True` o `False`.\n",
    "\n",
    "print(\"¿Está Suecia entre el listado de países?\", \"Suecia\" in monarcas)\n",
    "\n",
    "print(monarcas.setdefault(\"Suecia\"))\n",
    "\n",
    "print(monarcas)\n",
    "\n"
   ]
  },
  {
   "cell_type": "markdown",
   "metadata": {},
   "source": [
    "- Listar los contenidos\n",
    "\n",
    "  9. Saca una **lista** de todos los países en el dict `monarcas`.\n",
    "\n",
    "  10. Saca una **lista** de los nombres de los festivos.\n",
    "\n",
    "  11. Imprime el diccionario de festivos.\n",
    "  \n",
    "  12. Imprime una **lista de tuplas** de todos los elementos que hay en festivos.\n",
    "\n"
   ]
  },
  {
   "cell_type": "code",
   "execution_count": 41,
   "metadata": {},
   "outputs": [
    {
     "name": "stdout",
     "output_type": "stream",
     "text": [
      "{'Bélgica': 'Philippe', 'Dinamarca': 'Marguethe II', 'Holanda': 'Willem Alexander', 'Noruega': 'Harald V', 'España': 'Felipe VI', 'Reino_Unido': 'Carlos III', 'Luxemburgo': 'Henri', 'Suecia': None}\n",
      "dict_keys(['Bélgica', 'Dinamarca', 'Holanda', 'Noruega', 'España', 'Reino_Unido', 'Luxemburgo', 'Suecia'])\n",
      "dict_values(['Año Nuevo', 'Epifanía del Señor', 'Viernes Santo', 'Asunción de la Virgen', 'Fiesta Nacional de España'])\n",
      "{'01/01': 'Año Nuevo', '06/01': 'Epifanía del Señor', '15/04': 'Viernes Santo', '15/08': 'Asunción de la Virgen', '12/10': 'Fiesta Nacional de España'}\n",
      "dict_items([('01/01', 'Año Nuevo'), ('06/01', 'Epifanía del Señor'), ('15/04', 'Viernes Santo'), ('15/08', 'Asunción de la Virgen'), ('12/10', 'Fiesta Nacional de España')])\n"
     ]
    }
   ],
   "source": [
    "# Listar los contenidos\n",
    "\n",
    "# 9. Saca una **lista** de todos los países en el dict `monarcas`.\n",
    "print(monarcas)\n",
    "print(monarcas.keys())\n",
    "\n",
    "# 10. Saca una **lista** de los nombres de los festivos.\n",
    "\n",
    "print(festivos.values())\n",
    "\n",
    "# 11. Imprime el diccionario de festivos.\n",
    "\n",
    "print(festivos)\n",
    "\n",
    "# 12. Imprime una **lista de tuplas** de todos los elementos que hay en festivos.\n",
    "\n",
    "print(festivos.items())"
   ]
  },
  {
   "cell_type": "markdown",
   "metadata": {},
   "source": [
    "- Copiar dicts, y borrar elementos\n",
    "\n",
    "  13. Copia `monarcas` a `monarcas2010`.\n",
    "\n",
    "  14. Quita España de `monarcas2010`.\n",
    "\n",
    "  15. Quita el último elemento de `monarcas2010`.\n",
    "\n",
    "- Vaciar y borrar dicts\n",
    "\n",
    "  16. Vacia el dict `monarcas2010`.\n",
    "\n",
    "\n"
   ]
  },
  {
   "cell_type": "code",
   "execution_count": 44,
   "metadata": {},
   "outputs": [
    {
     "name": "stdout",
     "output_type": "stream",
     "text": [
      "{'Bélgica': 'Philippe', 'Dinamarca': 'Marguethe II', 'Holanda': 'Willem Alexander', 'Noruega': 'Harald V', 'Reino_Unido': 'Carlos III', 'Luxemburgo': 'Henri', 'Suecia': None}\n",
      "{'Bélgica': 'Philippe', 'Dinamarca': 'Marguethe II', 'Holanda': 'Willem Alexander', 'Noruega': 'Harald V', 'Reino_Unido': 'Carlos III', 'Luxemburgo': 'Henri'}\n",
      "{}\n",
      "{'Bélgica': 'Philippe', 'Dinamarca': 'Marguethe II', 'Holanda': 'Willem Alexander', 'Noruega': 'Harald V', 'España': 'Felipe VI', 'Reino_Unido': 'Carlos III', 'Luxemburgo': 'Henri', 'Suecia': None}\n"
     ]
    }
   ],
   "source": [
    "# Copiar dicts, y borrar elementos\n",
    "\n",
    "# 13. Copia `monarcas` a `monarcas2010`.\n",
    "\n",
    "monarcas2010 = monarcas.copy()\n",
    "\n",
    "# 14. Quita España de `monarcas2010`.\n",
    "\n",
    "monarcas2010.pop(\"España\")\n",
    "print(monarcas2010)\n",
    "\n",
    "# 15. Quita el último elemento de `monarcas2010`.\n",
    "\n",
    "monarcas2010.popitem()\n",
    "\n",
    "print(monarcas2010)\n",
    "\n",
    "# Vaciar y borrar dicts\n",
    "\n",
    "# 16. Vacia el dict `monarcas2010`.\n",
    "\n",
    "monarcas2010.clear()\n",
    "print(monarcas2010)\n",
    "print(monarcas)"
   ]
  },
  {
   "cell_type": "markdown",
   "metadata": {},
   "source": [
    "- Obtener valores\n",
    "\n",
    "  17. ¿Qué festivo hay el 06/01?\n",
    "  \n",
    "  18. Obten el festivo que haya el 08/03, y en su defecto devuélve 'Día Internacional de la Mujer'.\n",
    "\n",
    "  19. Obten el festivo que haya el 31/11, y si no existe crea un par de clave-valor nuevo con el valor de 'Todos los Santos'.\n",
    "\n",
    "---\n",
    "\n"
   ]
  },
  {
   "cell_type": "code",
   "execution_count": 47,
   "metadata": {},
   "outputs": [
    {
     "name": "stdout",
     "output_type": "stream",
     "text": [
      "{'01/01': 'Año Nuevo', '06/01': 'Epifanía del Señor', '15/04': 'Viernes Santo', '15/08': 'Asunción de la Virgen', '12/10': 'Fiesta Nacional de España', '31/12': None, '31/11': 'Todos los Santos'}\n",
      "Epifanía del Señor\n",
      "Día internacional de la mujer\n",
      "Todos los Santos\n",
      "{'01/01': 'Año Nuevo', '06/01': 'Epifanía del Señor', '15/04': 'Viernes Santo', '15/08': 'Asunción de la Virgen', '12/10': 'Fiesta Nacional de España', '31/12': None, '31/11': 'Todos los Santos'}\n"
     ]
    }
   ],
   "source": [
    "\n",
    "# Obtener valores\n",
    "\n",
    "# 17. ¿Qué festivo hay el 06/01?\n",
    "\n",
    "print(festivos)\n",
    "print(festivos[\"06/01\"])\n",
    "\n",
    "# 18. Obten el festivo que haya el 08/03, y en su defecto devuélve 'Día Internacional de la Mujer'.\n",
    "\n",
    "print(festivos.get(\"08/03\", \"Día internacional de la mujer\"))\n",
    "\n",
    "# 19. Obten el festivo que haya el 31/11, y si no existe crea un par de clave-valor nuevo con el valor de 'Todos los Santos'.\n",
    "\n",
    "print(festivos.setdefault(\"31/11\", \"Todos los Santos\"))\n",
    "\n",
    "print(festivos)"
   ]
  }
 ],
 "metadata": {
  "kernelspec": {
   "display_name": "Python 3 (ipykernel)",
   "language": "python",
   "name": "python3"
  },
  "language_info": {
   "codemirror_mode": {
    "name": "ipython",
    "version": 3
   },
   "file_extension": ".py",
   "mimetype": "text/x-python",
   "name": "python",
   "nbconvert_exporter": "python",
   "pygments_lexer": "ipython3",
   "version": "3.12.2"
  },
  "toc": {
   "base_numbering": 1,
   "nav_menu": {},
   "number_sections": true,
   "sideBar": true,
   "skip_h1_title": false,
   "title_cell": "Table of Contents",
   "title_sidebar": "Contents",
   "toc_cell": true,
   "toc_position": {
    "height": "calc(100% - 180px)",
    "left": "10px",
    "top": "150px",
    "width": "307.2px"
   },
   "toc_section_display": true,
   "toc_window_display": true
  },
  "vscode": {
   "interpreter": {
    "hash": "31f2aee4e71d21fbe5cf8b01ff0e069b9275f58929596ceb00d14d90e3e16cd6"
   }
  }
 },
 "nbformat": 4,
 "nbformat_minor": 2
}
