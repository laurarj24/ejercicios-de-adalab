{
 "cells": [
  {
   "cell_type": "markdown",
   "metadata": {},
   "source": [
    "Enunciado - Obtener datos energéticos usando la API de Red Eléctrica.\n",
    "\n",
    "Descripción: La empresa para la que trabajamos dispone de una base de datos que contiene información sobre el número de personas censadas en las distintas Comunidades Autónomas españolas desde 1998 hasta 2022. El objetivo es enriquecer estos datos con información sobre la generación de energía renovable y no renovable, utilizando la API de REData, la cual proporciona información sobre el mercado energético en España. Puedes encontrar la documentación de la API \n",
    "1. Extracción de Datos a Nivel Nacional:\n",
    "\n",
    "Extraer datos de generación de energía renovable y no renovable a nivel nacional desde el 1 de enero de 2011 hasta el 31 de diciembre de 2022. La información debe ser recopilada a nivel mensual.\n",
    "\n",
    "Transformar los datos para incluir una columna nueva que identifique si la energía es renovable o no renovable.\n",
    "\n",
    "Almacenar los datos en un DataFrame\n",
    "\n"
   ]
  },
  {
   "cell_type": "code",
   "execution_count": 17,
   "metadata": {},
   "outputs": [
    {
     "data": {
      "text/plain": [
       "{'data': {'type': 'Evolución de la generación renovable/no renovable',\n",
       "  'id': 'gen2',\n",
       "  'attributes': {'title': 'Evolución de la generación renovable/no renovable',\n",
       "   'last-update': '2022-12-12T12:48:47.000+01:00',\n",
       "   'description': None},\n",
       "  'meta': {'cache-control': {'cache': 'HIT',\n",
       "    'expireAt': '2024-07-29T16:55:53'}}},\n",
       " 'included': [{'type': 'Renovable',\n",
       "   'id': '10299',\n",
       "   'groupId': None,\n",
       "   'attributes': {'title': 'Renovable',\n",
       "    'description': 'Energía renovable: incluye hidráulica, hidroeólica, eólica, solar fotovoltaica, solar térmica, otras renovables y residuos renovables.',\n",
       "    'color': '#6fb114',\n",
       "    'type': 'Renovable',\n",
       "    'magnitude': None,\n",
       "    'composite': False,\n",
       "    'last-update': '2022-12-12T12:48:47.000+01:00',\n",
       "    'values': [{'value': 9750044.556,\n",
       "      'percentage': 0.40119784717736745,\n",
       "      'datetime': '2022-01-01T00:00:00.000+01:00'},\n",
       "     {'value': 8238462.641,\n",
       "      'percentage': 0.39006533302518265,\n",
       "      'datetime': '2022-02-01T00:00:00.000+01:00'},\n",
       "     {'value': 10388479.6225,\n",
       "      'percentage': 0.45624098101660193,\n",
       "      'datetime': '2022-03-01T00:00:00.000+01:00'},\n",
       "     {'value': 10958349.461,\n",
       "      'percentage': 0.503310930003355,\n",
       "      'datetime': '2022-04-01T00:00:00.000+02:00'},\n",
       "     {'value': 11064994.4845,\n",
       "      'percentage': 0.5016206994793222,\n",
       "      'datetime': '2022-05-01T00:00:00.000+02:00'},\n",
       "     {'value': 9257173.325,\n",
       "      'percentage': 0.3980394873694197,\n",
       "      'datetime': '2022-06-01T00:00:00.000+02:00'},\n",
       "     {'value': 10159211.0035,\n",
       "      'percentage': 0.3844536804847089,\n",
       "      'datetime': '2022-07-01T00:00:00.000+02:00'},\n",
       "     {'value': 9548124.8885,\n",
       "      'percentage': 0.3776067902432436,\n",
       "      'datetime': '2022-08-01T00:00:00.000+02:00'},\n",
       "     {'value': 8886428.786,\n",
       "      'percentage': 0.3754901450968354,\n",
       "      'datetime': '2022-09-01T00:00:00.000+02:00'},\n",
       "     {'value': 8453289.591,\n",
       "      'percentage': 0.3849991888910192,\n",
       "      'datetime': '2022-10-01T00:00:00.000+02:00'},\n",
       "     {'value': 10074175.2865,\n",
       "      'percentage': 0.46807374016201697,\n",
       "      'datetime': '2022-11-01T00:00:00.000+01:00'},\n",
       "     {'value': 9916477.1215,\n",
       "      'percentage': 0.4460698454803019,\n",
       "      'datetime': '2022-12-01T00:00:00.000+01:00'}]}},\n",
       "  {'type': 'No renovable',\n",
       "   'id': '10298',\n",
       "   'groupId': None,\n",
       "   'attributes': {'title': 'No renovable',\n",
       "    'description': None,\n",
       "    'color': '#666666',\n",
       "    'type': 'No renovable',\n",
       "    'magnitude': None,\n",
       "    'composite': False,\n",
       "    'last-update': '2022-12-12T12:48:43.000+01:00',\n",
       "    'values': [{'value': 14552290.625,\n",
       "      'percentage': 0.5988021528226325,\n",
       "      'datetime': '2022-01-01T00:00:00.000+01:00'},\n",
       "     {'value': 12882262.385,\n",
       "      'percentage': 0.6099346669748174,\n",
       "      'datetime': '2022-02-01T00:00:00.000+01:00'},\n",
       "     {'value': 12381240.8865,\n",
       "      'percentage': 0.5437590189833981,\n",
       "      'datetime': '2022-03-01T00:00:00.000+01:00'},\n",
       "     {'value': 10814174.853,\n",
       "      'percentage': 0.49668906999664497,\n",
       "      'datetime': '2022-04-01T00:00:00.000+02:00'},\n",
       "     {'value': 10993494.1225,\n",
       "      'percentage': 0.4983793005206778,\n",
       "      'datetime': '2022-05-01T00:00:00.000+02:00'},\n",
       "     {'value': 13999748.711,\n",
       "      'percentage': 0.6019605126305804,\n",
       "      'datetime': '2022-06-01T00:00:00.000+02:00'},\n",
       "     {'value': 16265847.5125,\n",
       "      'percentage': 0.615546319515291,\n",
       "      'datetime': '2022-07-01T00:00:00.000+02:00'},\n",
       "     {'value': 15737768.0965,\n",
       "      'percentage': 0.6223932097567564,\n",
       "      'datetime': '2022-08-01T00:00:00.000+02:00'},\n",
       "     {'value': 14779781.638,\n",
       "      'percentage': 0.6245098549031645,\n",
       "      'datetime': '2022-09-01T00:00:00.000+02:00'},\n",
       "     {'value': 13503353.007,\n",
       "      'percentage': 0.6150008111089809,\n",
       "      'datetime': '2022-10-01T00:00:00.000+02:00'},\n",
       "     {'value': 11448449.0825,\n",
       "      'percentage': 0.531926259837983,\n",
       "      'datetime': '2022-11-01T00:00:00.000+01:00'},\n",
       "     {'value': 12314295.0815,\n",
       "      'percentage': 0.5539301545196981,\n",
       "      'datetime': '2022-12-01T00:00:00.000+01:00'}]}}]}"
      ]
     },
     "execution_count": 17,
     "metadata": {},
     "output_type": "execute_result"
    }
   ],
   "source": [
    "import requests\n",
    "year = 2011\n",
    "datos = requests.get(f\"https://apidatos.ree.es/es/datos/generacion/evolucion-renovable-no-renovable?start_date={year}-01-01T00:00&end_date={year}-12-31T23:59&time_trunc=month\")\n",
    "diccionario_json = {}\n",
    "datos.status_code\n",
    "\n",
    "for year in (2011,2022):\n",
    "    datos = requests.get(f\"https://apidatos.ree.es/es/datos/generacion/evolucion-renovable-no-renovable?start_date={year}-01-01T00:00&end_date={year}-12-31T23:59&time_trunc=month\")\n",
    "\n",
    "    diccionario_json.update(datos.json())\n",
    "\n",
    "diccionario_json\n",
    "#{lang}/datos/{category}/{widget}?[query] 1 de enero de 2011 hasta el 31 de diciembre de 2022"
   ]
  },
  {
   "cell_type": "code",
   "execution_count": 19,
   "metadata": {},
   "outputs": [
    {
     "data": {
      "text/plain": [
       "{'type': 'Evolución de la generación renovable/no renovable',\n",
       " 'id': 'gen2',\n",
       " 'attributes': {'title': 'Evolución de la generación renovable/no renovable',\n",
       "  'last-update': '2022-12-12T12:48:47.000+01:00',\n",
       "  'description': None},\n",
       " 'meta': {'cache-control': {'cache': 'HIT',\n",
       "   'expireAt': '2024-07-29T16:55:53'}}}"
      ]
     },
     "execution_count": 19,
     "metadata": {},
     "output_type": "execute_result"
    }
   ],
   "source": [
    "diccionario_json['data']"
   ]
  }
 ],
 "metadata": {
  "kernelspec": {
   "display_name": "Python 3",
   "language": "python",
   "name": "python3"
  },
  "language_info": {
   "codemirror_mode": {
    "name": "ipython",
    "version": 3
   },
   "file_extension": ".py",
   "mimetype": "text/x-python",
   "name": "python",
   "nbconvert_exporter": "python",
   "pygments_lexer": "ipython3",
   "version": "3.11.9"
  }
 },
 "nbformat": 4,
 "nbformat_minor": 2
}
